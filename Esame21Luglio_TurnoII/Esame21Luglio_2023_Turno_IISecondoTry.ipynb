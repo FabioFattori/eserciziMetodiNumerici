{
 "cells": [
  {
   "cell_type": "markdown",
   "id": "0490293f-10e3-4419-a2ff-8cfa024318ea",
   "metadata": {},
   "source": [
    "## Esame di Metodi Numerici\n",
    "\n",
    "21 Luglio 2023"
   ]
  },
  {
   "cell_type": "markdown",
   "id": "7c208635-191b-4d75-85a5-d3aa5d6ce31d",
   "metadata": {},
   "source": [
    "# Esercizio 1\n",
    "Nel file ``testI.mat`` sono memorizzati la matrice A ed il vettore b. \n",
    "\n",
    " - Verificare che per risolvere il sistema Ax=b sia possibile utilizzare i due metodi di discesa visti a lezione, **Punti 1**\n",
    " - implementare entrambi gli algoritmi e dire quante iterazioni sono necessarie per ciascuno di essi  per calcolare la soluzione con una toll=1e-6 e maxit=2000. Visualizzare in un grafico l'errore in scala logaritmica ad ogni iterazione per ciascuno dei due metodi. **Punti 6**\n",
    " - Verificare se la matrice è  malcondizionata, dire teoricamente cosa questo implica in termini della velocità di convergenza  dei due metodi alla soluzione, richiamando il risultato teorico visto a lezione.**Punti 2**\n",
    "\n",
    " - Costruire la matrice A1, ottenuta a partire da A, sommandole uma matrice diagonale con elementi sulla diagonali tutti uguali a 0.05, e termine noto b1, costruito in maniera tale che la soluzione del sistema A1 x1 =b1 sia il vettore formato da tutti 1. Risolvere il sistema lineare con matrice dei coefficienti A1 e termine noto b1, sia con il metodo del gradiente che con il metodo del gradiente coniugato. Osservare il numero di iterazioni eseguito da ciascun metodo e giustificare i risultati **Punti 2**\n",
    "  \n",
    "  **Totale: Punti 11**\n",
    "   \n",
    "   \n",
    "Per la lettura dei dati procedere nel seguente modo:\n",
    "\n",
    "``from scipy.io import loadmat``\n",
    "\n",
    "``import numpy as np``\n",
    "\n",
    "``dati = loadmat('testI.mat')``\n",
    "\n",
    "``A=dati[\"A\"] ``\n",
    "\n",
    "``A=A.astype(float)``\n",
    "\n",
    "`` b=dati[\"b\"] ``\n",
    "\n",
    "`` b=b.astype(float)``\n"
   ]
  },
  {
   "cell_type": "code",
   "execution_count": 3,
   "id": "7481d7f4",
   "metadata": {},
   "outputs": [],
   "source": [
    "from scipy.io import loadmat\n",
    "\n",
    "import numpy as np\n",
    "\n",
    "dati = loadmat('testI.mat')\n",
    "\n",
    "A=dati[\"A\"] \n",
    "\n",
    "A=A.astype(float)\n",
    "\n",
    "b=dati[\"b\"] \n",
    "\n",
    "b=b.astype(float)"
   ]
  },
  {
   "cell_type": "code",
   "execution_count": 4,
   "id": "87d990da",
   "metadata": {},
   "outputs": [
    {
     "name": "stdout",
     "output_type": "stream",
     "text": [
      "(300, 300)\n",
      "9.524444444444445 %\n",
      "matrice sparsa\n",
      "simmetrica\n",
      "definita positiva\n"
     ]
    }
   ],
   "source": [
    "print(A.shape)\n",
    "nonZeros = np.count_nonzero(A)\n",
    "perc = nonZeros/(A.shape[0]*A.shape[1]) * 100\n",
    "print(perc,\"%\")\n",
    "if perc <= 33:\n",
    "    print(\"matrice sparsa\")\n",
    "if np.all(A.T==A):\n",
    "    print(\"simmetrica\")\n",
    "    val,vec = np.linalg.eig(A)\n",
    "    flag = val>0\n",
    "    if np.all(flag):\n",
    "        print(\"definita positiva\")"
   ]
  },
  {
   "cell_type": "code",
   "execution_count": 5,
   "id": "8ed42354",
   "metadata": {},
   "outputs": [],
   "source": [
    "def steepestdescent(A,b,x0,itmax,tol):\n",
    " \n",
    "    n,m=A.shape\n",
    "    if n!=m:\n",
    "        print(\"Matrice non quadrata\")\n",
    "        return [],[]\n",
    "    \n",
    "    \n",
    "   # inizializzare le variabili necessarie\n",
    "    x = x0\n",
    "\n",
    "     \n",
    "    r = A@x-b\n",
    "    p =  -r\n",
    "    it = 0\n",
    "    nb=np.linalg.norm(b)\n",
    "    errore=np.linalg.norm(r)/nb\n",
    "    vec_sol=[]\n",
    "    vec_sol.append(x)\n",
    "    vet_r=[]\n",
    "    vet_r.append(errore)\n",
    "     \n",
    "# utilizzare il metodo del gradiente per trovare la soluzione\n",
    "    while it<=itmax and errore >= tol:\n",
    "        it=it+1\n",
    "        Ap= A@p\n",
    "       \n",
    "        alpha = -(r.T@p)/(p.T@Ap)\n",
    "                \n",
    "        x = x+alpha*p\n",
    "        \n",
    "         \n",
    "        vec_sol.append(x)\n",
    "        r=r+alpha*Ap\n",
    "        errore=np.linalg.norm(r)/nb\n",
    "        vet_r.append(errore)\n",
    "        p =-r\n",
    "        \n",
    "     \n",
    "    return x,vet_r,vec_sol,it\n",
    "def conjugate_gradient(A,b,x0,itmax,tol):\n",
    "    n,m=A.shape\n",
    "    if n!=m:\n",
    "        print(\"Matrice non quadrata\")\n",
    "        return [],[]\n",
    "    \n",
    "    \n",
    "   # inizializzare le variabili necessarie\n",
    "    x = x0\n",
    "    \n",
    "    r = A@x-b\n",
    "    p = -r\n",
    "    it = 0\n",
    "    nb=np.linalg.norm(b)\n",
    "    errore=np.linalg.norm(r)/nb\n",
    "    vec_sol=[]\n",
    "    vec_sol.append(x0)\n",
    "    vet_r=[]\n",
    "    vet_r.append(errore)\n",
    "# utilizzare il metodo del gradiente coniugato per calcolare la soluzione\n",
    "    while errore >= tol and it< itmax:\n",
    "        it=it+1\n",
    "        Ap=A@p\n",
    "        alpha = -(r.T@p)/(p.T@Ap)\n",
    "        x =x+alpha*p\n",
    "        vec_sol.append(x)\n",
    "        rtr_old=r.T@r\n",
    "        r=r+alpha*Ap\n",
    "        gamma= (r.T@r)/rtr_old\n",
    "        errore=np.linalg.norm(r)/nb\n",
    "        vet_r.append(errore)\n",
    "        p =  -r+gamma*p\n",
    "   \n",
    "    \n",
    "    return x,vet_r,vec_sol,it"
   ]
  },
  {
   "cell_type": "code",
   "execution_count": 6,
   "id": "0785db89",
   "metadata": {},
   "outputs": [
    {
     "data": {
      "image/png": "[encoded data removed]",
      "text/plain": [
       "<Figure size 640x480 with 1 Axes>"
      ]
     },
     "metadata": {},
     "output_type": "display_data"
    },
    {
     "name": "stdout",
     "output_type": "stream",
     "text": [
      "iterazioni necessarie per Steepest Gradient =>  2001\n",
      "iterazioni necessarie per Conjugate Gradient =>  332\n"
     ]
    }
   ],
   "source": [
    "itMax = 2000\n",
    "tol = 1e-6\n",
    "x0 = np.zeros((A.shape[0],1))\n",
    "\n",
    "xS,errS,solS,itS = steepestdescent(A,b,x0,itMax,tol)\n",
    "xC,errC,solC,itC = conjugate_gradient(A,b,x0,itMax,tol)\n",
    "\n",
    "import matplotlib.pyplot as plt\n",
    "plt.semilogy(range(itS+1),errS,range(itC+1),errC)\n",
    "plt.show()\n",
    "print(\"iterazioni necessarie per Steepest Gradient => \",itS)\n",
    "print(\"iterazioni necessarie per Conjugate Gradient => \",itC)"
   ]
  },
  {
   "cell_type": "code",
   "execution_count": 7,
   "id": "90a7ecc6",
   "metadata": {},
   "outputs": [
    {
     "name": "stdout",
     "output_type": "stream",
     "text": [
      "1.000000e+04\n",
      "matrice mal condizionata\n"
     ]
    }
   ],
   "source": [
    "print(\"{:e}\".format(np.linalg.cond(A)))\n",
    "print(\"matrice mal condizionata\")"
   ]
  },
  {
   "cell_type": "markdown",
   "id": "637f6e30",
   "metadata": {},
   "source": [
    "La matrice A è malcondizionata, il che implica una elevata propagazione dell'errore nella soluzione, entrando nello specifico lo steepest Gradient non converge il che è proprio dato dal malcondizionamento della matrice e dall'elevata diversità degli autovalori della matrice, dato che SteepestDescent segue l'andamento dell'autovalore maggiore.\n",
    "Mentre ConjugateGradient è generalmente più robusto e quindi nel nostro caso riesce a convergere, questo avviene perchè il metodo del gradiente coniugato utilizza il gradiente dell'iterazione precedente per evitare oscillazioni impreviste e convergere più velocemente"
   ]
  },
  {
   "cell_type": "code",
   "execution_count": 9,
   "id": "52f08999",
   "metadata": {},
   "outputs": [
    {
     "name": "stdout",
     "output_type": "stream",
     "text": [
      "2.095808e+01\n"
     ]
    },
    {
     "data": {
      "image/png": "[encoded data removed]",
      "text/plain": [
       "<Figure size 640x480 with 1 Axes>"
      ]
     },
     "metadata": {},
     "output_type": "display_data"
    },
    {
     "name": "stdout",
     "output_type": "stream",
     "text": [
      "iterazioni necessarie per Steepest Gradient =>  136\n",
      "iterazioni necessarie per Conjugate Gradient =>  31\n"
     ]
    }
   ],
   "source": [
    "A1 = A.copy()\n",
    "n = A1.shape[0]\n",
    "for i in range(n):\n",
    "    A1[i][i] += 0.05\n",
    "b1 = np.ones((n,1))\n",
    "\n",
    "print(\"{:e}\".format(np.linalg.cond(A1)))\n",
    "\n",
    "xS,errS,solS,itS = steepestdescent(A1,b1,x0,itMax,tol)\n",
    "xC,errC,solC,itC = conjugate_gradient(A1,b1,x0,itMax,tol)\n",
    "\n",
    "import matplotlib.pyplot as plt\n",
    "plt.semilogy(range(itS+1),errS,range(itC+1),errC)\n",
    "plt.show()\n",
    "print(\"iterazioni necessarie per Steepest Gradient => \",itS)\n",
    "print(\"iterazioni necessarie per Conjugate Gradient => \",itC)"
   ]
  },
  {
   "cell_type": "markdown",
   "id": "84f8d822",
   "metadata": {},
   "source": [
    "Possiamo vedere che con una matrice di termini noti ben condizionata entrambi i metodi convergono alla soluzione molto rapidamente, e comunque il gradiente coniugato rimane più rapido."
   ]
  },
  {
   "cell_type": "markdown",
   "id": "38d5f387-410e-4cc2-a5b7-1644b968cab3",
   "metadata": {},
   "source": [
    "# Esercizio 2\n",
    "\n",
    "Siano assegnati i punti del piano di coordinate $(x_i, y_i)$, $i=1,\\ldots,4$ con \n",
    "$$\n",
    "\\begin{array}{c}\n",
    "x_1=0, \\quad x_2=5, \\quad x_3=0, \\quad x_4=6\\\\\n",
    "y_1=0, \\quad y_2=0, \\quad y_3=5, \\quad y_4=7.\n",
    "\\end{array}\n",
    "$$ \n",
    "contenenti rispettivamente le ascisse e le ordinate di 11 punti del piano.\n",
    "\n",
    " - si costruisca il sistema lineare sovradeterminato ottenuto imponendo il passaggio della circonferenza di equazione $x^2+y^2+a_1x+a_2y+a_3=0$ per i quattro punti assegnati, e si denotino con ${\\bf A}$ e ${\\bf b}$ la matrice dei coefficienti e il termine noto ottenuti;  **5 punti**\n",
    "\n",
    "- si sfrutti il metodo  più opportuno per ottenere la soluzione ${\\bf a}^*$ del problema ai minimi quadrati $\\min_{{\\bf a} \\in \\mathbb{R}^3} \\|{\\bf A}{\\bf a}-{\\bf b}\\|_2^2$;  **5 punti**\n",
    "\n",
    "- si calcoli il valore di $\\|{\\bf A}{\\bf a}^*-{\\bf b}\\|_2^2$ e, dopo averne determinato centro e raggio, si rappresentino in una stessa figura la circonferenza di equazione $x^2+y^2+a^*_1x+a^*_2y+a^*_3=0$ (individuata dalla soluzione ${\\bf a}^*$ del problema ai minimi quadrati) e i quattro punti assegnati dal problema. **4 punti**\n",
    "\n",
    "\n",
    "  **Totale: Punti 14**\n",
    "**Suggerimento:**\n",
    "Si ricorda che data una circonferenza nella forma canonica\n",
    "$$ x^2+y^2+a_1 x+a_2 x+a_3=0$$\n",
    "\n",
    "le coordinate del suo centro sono \n",
    "$$C≡(-a_1/2,-a_2/2)$$\n",
    "\n",
    "e la lunghezza del suo raggio è data da:\n",
    "\n",
    "$$r=\\sqrt{\\frac{a_1^2}{4}+\\frac{a_2^2}{4} -a_3}$$\n",
    "\n",
    "e la circoferenza può essere rappresentata in forma parametrica $C(t),  t \\in [0, 2 \\cdot \\pi]$ e le due componenti parametriche sono $$x(t)= C_0+r\\cdot cos(t);$$ $$ y(t)= C_1+r\\cdot sin(t)$$\n"
   ]
  },
  {
   "cell_type": "code",
   "execution_count": 12,
   "id": "b59dcc79",
   "metadata": {},
   "outputs": [
    {
     "name": "stdout",
     "output_type": "stream",
     "text": [
      "[[0 0 1]\n",
      " [5 0 1]\n",
      " [0 5 1]\n",
      " [6 7 1]]\n",
      "[[  0]\n",
      " [-25]\n",
      " [-25]\n",
      " [-85]]\n",
      "[[-6.6091954 ]\n",
      " [-6.72413793]\n",
      " [ 4.59770115]]\n",
      "57.47126436781603\n",
      "[4.19835355]\n",
      "(array([3.3045977]), array([3.36206897]))\n"
     ]
    },
    {
     "data": {
      "image/png": "[encoded data removed]",
      "text/plain": [
       "<Figure size 640x480 with 1 Axes>"
      ]
     },
     "metadata": {},
     "output_type": "display_data"
    }
   ],
   "source": [
    "import scipy.linalg as spLin\n",
    "import RisolviSis as solver\n",
    "import matplotlib.pyplot as plt\n",
    "import matplotlib.patches as patches\n",
    "\n",
    "x = np.array([0,5,0,6])\n",
    "y = np.array([0,0,5,7])\n",
    "\n",
    "A = np.array([[x[0],y[0],1],[x[1],y[1],1],[x[2],y[2],1],[x[3],y[3],1]])\n",
    "b = np.array([[-x[0]**2-y[0]**2],[-x[1]**2-y[1]**2],[-x[2]**2-y[2]**2],[-x[3]**2-y[3]**2]])\n",
    "\n",
    "def qrLS(A,b):\n",
    "    #Risolve un sistema sovradeterminato con il metodo QR-LS\n",
    "    n=A.shape[1]  # numero di colonne di A\n",
    "    Q,R=spLin.qr(A)\n",
    "    h=Q.T@b\n",
    "    x,flag=solver.Usolve(R[0:n,:],h[0:n])\n",
    "    residuo=np.linalg.norm(h[n:])**2\n",
    "    return x,residuo\n",
    "\n",
    "x1,res = qrLS(A,b)\n",
    "print(A)\n",
    "print(b)\n",
    "print(x1)\n",
    "print(res)\n",
    "\n",
    "r = np.sqrt(x1[0]**2/4 + x1[1]**2/4 - x1[2])\n",
    "C = (-x1[0]/2 , -x1[1]/2)\n",
    "print(r)\n",
    "print(C)\n",
    "\n",
    "fig, ax = plt.subplots()\n",
    "\n",
    "# Crea una circonferenza con centro (h, k) e raggio r\n",
    "circonferenza_sol = patches.Circle(C, r, fill=False)\n",
    "ax.add_patch(circonferenza_sol)\n",
    "ax.scatter(x,y)\n",
    "ax.axis(\"equal\")\n",
    "plt.show()"
   ]
  },
  {
   "cell_type": "markdown",
   "id": "aaf4b3a3-57ab-4770-850c-08e78ee782ad",
   "metadata": {},
   "source": [
    "## Domanda intelligenza artificiale"
   ]
  },
  {
   "cell_type": "markdown",
   "id": "c17c2c65-5a19-4aff-8002-aacd16ab0f97",
   "metadata": {},
   "source": [
    "- Allenamento di una rete neurale: dopo aver descritto come è composta una rete neurale, descrivi in cosa consiste la fase di forward propagation e la fase di backward propagation. **Punti: 1**\n",
    "- Ottimizzazione della loss function per il training di una rete neurale per il task di regressione: Metodo di discesa del gradiente, metodo stocastico del gradiente, metodo del gradiente minibatch.  **Punti 1**  \n",
    " - Non convessità della loss-function - come non rimanere bloccati in un monimo locale? Metodo del gradiente con momentum. **Punti 2**\n",
    "- Learning rate scheduling: step decay, decadimento esponenziale, decadimento dipendente dal tempo. **Punti 1**\n",
    " - Learning rate adattivo: Adagrad, RMSProp, Adadelta, Adam. **Punti 2**\n",
    " \n",
    " **Totale:  7**"
   ]
  },
  {
   "cell_type": "markdown",
   "id": "e33af564-b909-42b7-9367-73c63bc10faa",
   "metadata": {},
   "source": [
    "una ANN(artificial neural network) è composta da diversi layer di neuroni artificiali collegati fra loro, abbiamo l'input layer,l'output layer e poi da 0 a n hidden layer chiamati così proprio perchè sono nascosti da un punto di vista esterno, dato che l'input lo passiamo all'input layer e l'output lo riceviamo da l'output layer."
   ]
  },
  {
   "cell_type": "code",
   "execution_count": null,
   "id": "ca016394-d87b-4435-86e6-72d84aff851d",
   "metadata": {},
   "outputs": [],
   "source": []
  }
 ],
 "metadata": {
  "kernelspec": {
   "display_name": "Python 3 (ipykernel)",
   "language": "python",
   "name": "python3"
  },
  "language_info": {
   "codemirror_mode": {
    "name": "ipython",
    "version": 3
   },
   "file_extension": ".py",
   "mimetype": "text/x-python",
   "name": "python",
   "nbconvert_exporter": "python",
   "pygments_lexer": "ipython3",
   "version": "3.11.8"
  }
 },
 "nbformat": 4,
 "nbformat_minor": 5
}
