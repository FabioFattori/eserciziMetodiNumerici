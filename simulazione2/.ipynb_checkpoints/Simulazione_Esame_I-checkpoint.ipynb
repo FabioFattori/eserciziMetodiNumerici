{
 "cells": [
  {
   "cell_type": "markdown",
   "id": "9edf6b43-5c77-43f5-a179-9986fc68abf8",
   "metadata": {},
   "source": [
    "## Simulazione dell'esame di Metodi Numerici\n"
   ]
  },
  {
   "cell_type": "markdown",
   "id": "ff8dd546-5e8d-4dde-ab61-51251c05bad2",
   "metadata": {},
   "source": [
    "## Esercizio 1\n"
   ]
  },
  {
   "cell_type": "markdown",
   "id": "378dc3b4-702c-4e2f-b388-fc5275db9a75",
   "metadata": {},
   "source": [
    "# Esercizio 1\n",
    "Nel file ``testI.mat`` sono memorizzati la matrice A ed il vettore b. \n",
    "\n",
    " - Verificare che per risolvere il sistema Ax=b sia possibile utilizzare i due metodi di discesa visti a lezione. Richiamare il teorema che  garantisce che risolvere un sistema lineare con specifiche proprietà equivale a trovare il minimo di un opportuni funzionale quadratico.  [**Punti 2**]\n",
    " - implementare entrambi gli algoritmi e dire quante iterazioni sono necessarie per ciascuno di essi  per calcolare la soluzione con una toll=1e-6 e maxit=4000. Visualizzare in un grafico l'errore in scala logaritmica ad ogni iterazione per ciascuno dei due metodi. [**Punti 5**]\n",
    " - Verificare se la matrice è  malcondizionata, dire teoricamente cosa questo implica in termini di velocità di  convergenza alla soluzione di ciascuno dei due metodi, richiamando il risultato teorico visto a lezione. [**Punti 2**]\n",
    "\n",
    " - Costruire la matrice A1, ottenuta a partire da A sommandole una matrice diagonale con elementi sulla\n",
    "      diagonali tutti uguali a 0.05\n",
    "   nel seguente modo:\n",
    "   \n",
    "   A1=A+np.eye(A.shape[0])*0.05\n",
    "   \n",
    "   e termine noto b1, costruito in maniera tale che la soluzione del sistema A1 x1 =b1 sia il vettore formato da tutti 1.  Risolvere il sistema lineare con matrice dei coefficienti A1 e termine noto b1, sia con il metodo del gradiente che con il metodo del gradiente coniugato. Osservare il numero di iterazioni eseguito da ciascun metodo e giustificare i risultati  [**Punti 2**]\n",
    "  \n",
    "   **Totale: Punti 11**\n",
    "\n",
    "Per la lettura dei dati procedere nel seguente modo:\n",
    "\n",
    "``from scipy.io import loadmat``\n",
    "\n",
    "``import numpy as np``\n",
    "\n",
    "``dati = loadmat('testI.mat')``\n",
    "\n",
    "``A=dati[\"A\"] ``\n",
    "\n",
    "``A=A.astype(float)``\n",
    "\n",
    "`` b=dati[\"b\"] ``\n",
    "\n",
    "`` b=b.astype(float)``\n",
    "\n",
    "\n",
    "\n",
    "\n",
    "\n"
   ]
  },
  {
   "cell_type": "code",
   "execution_count": 4,
   "id": "c6b697ac",
   "metadata": {},
   "outputs": [],
   "source": [
    "# prendo i dati di input \n",
    "from scipy.io import loadmat\n",
    "\n",
    "import numpy as np\n",
    "\n",
    "dati = loadmat('testI.mat')\n",
    "\n",
    "A=dati[\"A\"] \n",
    "\n",
    "A=A.astype(float)\n",
    "\n",
    "b=dati[\"b\"] \n",
    "\n",
    "b=b.astype(float)"
   ]
  },
  {
   "cell_type": "code",
   "execution_count": 5,
   "id": "8f452e4f",
   "metadata": {},
   "outputs": [
    {
     "name": "stdout",
     "output_type": "stream",
     "text": [
      "True\n"
     ]
    }
   ],
   "source": [
    "def checkIfDescentIsPossible(A):\n",
    "    # il teorema dice che risolvere il sistema Ax=b equivale a minimizzare la funzione quadratica per  \n",
    "    # il calcolo del minimo perchè la soluzione del sistema coincide con il punto minimo della funzione.\n",
    "\n",
    "    # check se la matrice A è quadrata\n",
    "    if A.shape[0] != A.shape[1]:\n",
    "        print(\"matrice non quadrata\")\n",
    "        return False\n",
    "    flag = A==A.T\n",
    "    if np.all(flag) != True:\n",
    "        print(\"matrice non simmetrica\")\n",
    "        return False\n",
    "    autoVal,AutoVet = np.linalg.eig(A)\n",
    "    flag = autoVal >0\n",
    "    if np.all(flag) != True:\n",
    "        print(\"matrice non definita positiva\")\n",
    "        return False\n",
    "\n",
    "    return True\n",
    "\n",
    "print(checkIfDescentIsPossible(A))"
   ]
  },
  {
   "cell_type": "code",
   "execution_count": 6,
   "id": "d9ea5e85",
   "metadata": {},
   "outputs": [],
   "source": [
    "def steepestdescent(A,b,x0,itmax,tol):\n",
    " \n",
    "    n,m=A.shape\n",
    "    if n!=m:\n",
    "        print(\"Matrice non quadrata\")\n",
    "        return [],[]\n",
    "    \n",
    "    \n",
    "   # inizializzare le variabili necessarie\n",
    "    x = x0\n",
    "\n",
    "     \n",
    "    r = A@x-b\n",
    "    p =  -r\n",
    "    it = 1\n",
    "    nb=np.linalg.norm(b)\n",
    "    errore=np.linalg.norm(r)/nb\n",
    "    vec_sol=[]\n",
    "    vec_sol.append(x)\n",
    "    vet_r=[]\n",
    "    vet_r.append(errore)\n",
    "     \n",
    "# utilizzare il metodo del gradiente per trovare la soluzione\n",
    "    while it<=itmax and errore >= tol:\n",
    "        it=it+1\n",
    "        Ap=A@p\n",
    "       \n",
    "        alpha = -(r.T@p)/(p.T@Ap)\n",
    "                \n",
    "        x = x+alpha*p\n",
    "        \n",
    "         \n",
    "        vec_sol.append(x)\n",
    "        r=r+alpha*Ap\n",
    "        errore=np.linalg.norm(r)/nb\n",
    "        vet_r.append(errore)\n",
    "        p =-r\n",
    "        \n",
    "     \n",
    "    return x,vet_r,vec_sol,it\n",
    "\n",
    "\n",
    "def conjugate_gradient(A,b,x0,itmax,tol):\n",
    "    n,m=A.shape\n",
    "    if n!=m:\n",
    "        print(\"Matrice non quadrata\")\n",
    "        return [],[]\n",
    "    \n",
    "    \n",
    "   # inizializzare le variabili necessarie\n",
    "    x = x0\n",
    "    \n",
    "    r = A@x-b\n",
    "    p = -r\n",
    "    it = 1\n",
    "    nb=np.linalg.norm(b)\n",
    "    errore=np.linalg.norm(r)/nb\n",
    "    vec_sol=[]\n",
    "    vec_sol.append(x0)\n",
    "    vet_r=[]\n",
    "    vet_r.append(errore)\n",
    "# utilizzare il metodo del gradiente coniugato per calcolare la soluzione\n",
    "    while errore >= tol and it< itmax:\n",
    "        it=it+1\n",
    "        Ap=A@p\n",
    "        alpha = -(r.T@p)/(p.T@Ap)\n",
    "        x = x+alpha*p\n",
    "        vec_sol.append(x)\n",
    "        rtr_old=r.T@r\n",
    "        r=r+alpha*Ap\n",
    "        gamma= r.T@r/rtr_old\n",
    "        errore=np.linalg.norm(r)/nb\n",
    "        vet_r.append(errore)\n",
    "        p =  -r+gamma*p\n",
    "   \n",
    "    \n",
    "    return x,vet_r,vec_sol,it"
   ]
  },
  {
   "cell_type": "code",
   "execution_count": 7,
   "id": "9fb289b0",
   "metadata": {},
   "outputs": [
    {
     "data": {
      "image/png": "[encoded data removed]",
      "text/plain": [
       "<Figure size 640x480 with 1 Axes>"
      ]
     },
     "metadata": {},
     "output_type": "display_data"
    }
   ],
   "source": [
    "import matplotlib.pyplot as plt\n",
    "tol=1e-6\n",
    "itmax=4000\n",
    "x0=np.zeros(A.shape[0]).reshape(A.shape[0],1)\n",
    "x,vet_r,vec_sol,it = steepestdescent(A,b,x0,itmax,tol)\n",
    "x2,vet_r2,vec_sol2,it2 = conjugate_gradient(A,b,x0,itmax,tol)\n",
    "plt.semilogy(range(it),vet_r,range(it2),vet_r2)\n",
    "plt.xlabel(\"iterazioni\")\n",
    "plt.ylabel(\"errore commesso\")\n",
    "plt.legend([\"steepestdescent\",\"conjugate_gradient\"])\n",
    "plt.show()"
   ]
  },
  {
   "cell_type": "code",
   "execution_count": 8,
   "id": "15c43081",
   "metadata": {},
   "outputs": [
    {
     "name": "stdout",
     "output_type": "stream",
     "text": [
      "matrice mediamente condizionata\n",
      "condizionamento => 1.000000e+04\n"
     ]
    }
   ],
   "source": [
    "def checkCondition(A):\n",
    "    cond = np.linalg.cond(A)\n",
    "    if cond < 10**2:\n",
    "        print(\"matrice ben condizionata\")\n",
    "    elif cond >=10**2 and cond < 10**4:\n",
    "        print(\"matrice mediamente condizionata\")\n",
    "    else :\n",
    "        print(\"matrice mal condizionata\")\n",
    "    print(\"condizionamento => {:e}\".format(cond))\n",
    "checkCondition(A)"
   ]
  },
  {
   "cell_type": "code",
   "execution_count": 9,
   "id": "324e7ded",
   "metadata": {},
   "outputs": [
    {
     "name": "stdout",
     "output_type": "stream",
     "text": [
      "matrice ben condizionata\n",
      "condizionamento => 2.095808e+01\n"
     ]
    },
    {
     "data": {
      "image/png": "[encoded data removed]",
      "text/plain": [
       "<Figure size 640x480 with 1 Axes>"
      ]
     },
     "metadata": {},
     "output_type": "display_data"
    }
   ],
   "source": [
    "A1=A+np.eye(A.shape[0])*0.05\n",
    "b1 = np.full(fill_value=1,shape=A1.shape[0]).reshape(A1.shape[0],1)\n",
    "checkCondition(A1)\n",
    "checkIfDescentIsPossible(A1)\n",
    "x,vet_r,vec_sol,it = steepestdescent(A1,b1,x0,itmax,tol)\n",
    "x2,vet_r2,vec_sol2,it2 = conjugate_gradient(A1,b1,x0,itmax,tol)\n",
    "plt.semilogy(range(it),vet_r,range(it2),vet_r2)\n",
    "plt.xlabel(\"iterazioni\")\n",
    "plt.ylabel(\"errore commesso\")\n",
    "plt.legend([\"steepestdescent\",\"conjugate_gradient\"])\n",
    "plt.show()"
   ]
  },
  {
   "cell_type": "markdown",
   "id": "2150e6e3",
   "metadata": {},
   "source": [
    "Noto che, dato che ora la matrice A è ben condizionata, i due metodi convergono verso la corretta soluzione in un numero irrisorio di iterazioni rispetto a prima, tutto questo grazie al fatto che la matrice A è ben condizionata."
   ]
  },
  {
   "cell_type": "code",
   "execution_count": 29,
   "id": "128084fd-3dc8-451f-bf00-32f787ad30c4",
   "metadata": {
    "tags": []
   },
   "outputs": [
    {
     "name": "stdout",
     "output_type": "stream",
     "text": [
      "condizionamento nuova matrice => 2.095808e+01\n",
      "ben condizionata\n"
     ]
    }
   ],
   "source": [
    "print(\"condizionamento nuova matrice => {:e}\".format(np.linalg.cond(A1)))\n",
    "print(\"ben condizionata\")"
   ]
  },
  {
   "cell_type": "markdown",
   "id": "7f29d3fc-3800-4a2e-93a1-9c31f878c266",
   "metadata": {},
   "source": [
    "## Esercizio 2 ##\n",
    "\n",
    "Siano assegnati i numpy array\n",
    "\n",
    "x =[1.0,1.2,1.4,1.6,1.8,2.0,2.2,2.4,2.6,2.8,3.0] \n",
    "\n",
    "y =[1.18,1.26,1.23,1.37,1.37,1.45,1.42,1.46,1.53,1.59,1.59] \n",
    "                                                               \n",
    "contenenti rispettivamente le ascisse e le ordinate di 11 punti nel piano.                                                          "
   ]
  },
  {
   "cell_type": "markdown",
   "id": "2fa94727-34cb-4782-b764-c56b7e95f321",
   "metadata": {},
   "source": [
    "Scrivere lo script python in cui:"
   ]
  },
  {
   "cell_type": "markdown",
   "id": "30cd6520-ed15-4c05-bf8c-1261c002b60f",
   "metadata": {},
   "source": [
    "- si calcola il polinomio di approssimazione ai minimi quadrati di grado 1 dei punti assegnati, sviluppando le functions necessarie. e lo si valuti su 200 punti equidistanti nell'intervallo [1,3]  [**Punti: 4**]"
   ]
  },
  {
   "cell_type": "markdown",
   "id": "148b9058-2505-4f5e-97c8-6db9a372d025",
   "metadata": {},
   "source": [
    "- si calcola il polinomio di interpolazione dei punti assegnati sviluppando le functions necessarie e lo si valuti su 200 punti equidistanti nell'intervallo [1,3]  [**Punti: 4**]"
   ]
  },
  {
   "cell_type": "markdown",
   "id": "ccbf2e51-4085-4cfb-a411-e04d142ff647",
   "metadata": {},
   "source": [
    "- Si modifichino le ordinate dei punti assegnati, facendo uso della formula   $\\hat{y_i}=2*x_i+1$, $i=1,...,11$, e si ricalcoli il polinomio interpolante ed il polinomio di approssimazione di grado 1, a partire dalle coppie $(x_i,\\hat{y_i})$, $i=1,11$   [**Punti: 1**]"
   ]
  },
  {
   "cell_type": "markdown",
   "id": "6758a777-c7c6-4459-bdc7-8e6ec235ca98",
   "metadata": {},
   "source": [
    "- Si visualizzi in un grafico il polinomio interpolante, il polinomio di approssimazione di grado 1 ed i punti $(x_i,y_i)$, i=1,11 ed in un altro grafico il polinomio interpolante, il polinomio di approssimazione di grado 1 ed i $(x_i,\\hat{y_i})$, $i=1,11$  [**Punti:1**]"
   ]
  },
  {
   "cell_type": "markdown",
   "id": "a77ba739-c5b7-4f04-8f37-30f1584c2e90",
   "metadata": {},
   "source": [
    "- Si fornisca una spiegazione teorica dei risultati ottenuti\n",
    "  [**Punti: 4**]"
   ]
  },
  {
   "cell_type": "markdown",
   "id": "a37c8888-3dfe-4ea5-a93b-e0adab565e1b",
   "metadata": {},
   "source": [
    "                                                                        Totale 14 punti"
   ]
  },
  {
   "cell_type": "markdown",
   "id": "911860d3-45d8-45fc-99f2-bf79c64f1a80",
   "metadata": {},
   "source": [
    "## Domanda intelligenza artificiale"
   ]
  },
  {
   "cell_type": "markdown",
   "id": "31f72b3e-3533-4866-bf02-44fea1b7c825",
   "metadata": {},
   "source": [
    "- Importanza del learning rate nell'allenamento di una rete neurale \n",
    "[**Punti: 1**]\n",
    "- Illustra l'algoritmo di backpropagation per il calcolo delle derivate parziale della funzione costo rispetto ai pesi di tutti i layer, nel caso di una MLP con 1 nodo di input, 3 layer nascosti formati da un solo nodo, ed 1 nodo di output. [**Punti: 4**] \n",
    " \n",
    "- Tecniche di Ottimizzazione: metodo di discesa del gradient batch, metodo del gradiente stocastico (SGD) ,metodo del gradiente stocastico minibatch. [**Punti: 2**]\n",
    "\n",
    "\n",
    "    [**Totale: punti 7**]\n"
   ]
  }
 ],
 "metadata": {
  "kernelspec": {
   "display_name": "Python 3 (ipykernel)",
   "language": "python",
   "name": "python3"
  },
  "language_info": {
   "codemirror_mode": {
    "name": "ipython",
    "version": 3
   },
   "file_extension": ".py",
   "mimetype": "text/x-python",
   "name": "python",
   "nbconvert_exporter": "python",
   "pygments_lexer": "ipython3",
   "version": "3.11.7"
  }
 },
 "nbformat": 4,
 "nbformat_minor": 5
}
