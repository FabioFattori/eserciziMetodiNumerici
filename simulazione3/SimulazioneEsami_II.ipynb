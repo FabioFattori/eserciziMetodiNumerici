{
 "cells": [
  {
   "cell_type": "markdown",
   "id": "436b21ca-81f4-4a28-b1b3-7bcec38b8ec9",
   "metadata": {},
   "source": [
    "## Simulazione II Esame di Metodi Numerici Soluzioni##"
   ]
  },
  {
   "cell_type": "markdown",
   "id": "9a338784-8746-4014-bec9-951026190441",
   "metadata": {},
   "source": [
    "Nel file ``Test_I.mat`` sono memorizzate le matrici A1, A2 ed A3 ed i vettori b1,b2,b3. \n",
    "- Risolvere i 3 sistemi lineari aventi matrice dei coefficienti A1 e termine noto b1, matrice dei coefficienti A2 e termine noto b2, matrice dei coefficienti A3 e terimine noto b3  utilizzando il metodo più adatto per ciascuno di essi e  commentare i risultati ottenuti  giustificandoli alla luce della teoria.\n",
    "\n",
    "                                                                                            punti 12\n",
    "                                                                                            \n",
    "- Verificare se le matrici sono malcondizionate. Indicare la formula matematica dell'indice di condizionamento e spiegare perchè è importante conoscere l'indice di condizionamento di una matrice.\n",
    "                                                                                           \n",
    "                                                                                           punti 2\n",
    "\n",
    "- Dopo aver copiato nel numpy array b1p il termine noto b1 del primo sistema lineare con matrice dei coefficienti A1, effettuarne una perturbazione della prima componente nel seguente modo b1p[0]=b1p[0]+0.001*b1p[0]. Risolvere il sistema lineare con matrice A1 e termine noto perturbato b1p. Calcolare l'errore relativo sulla soluzione e l'errore relativo sul termine noto, descrivere ciò che si verifica giustificandolo alla luce della teoria.\n",
    "\n",
    "                                                                                           punti 2\n",
    "\n",
    "\n",
    "Per la lettura dei dati procedere nel seguente modo:\n",
    "\n",
    "``from scipy.io import loadmat``\n",
    "\n",
    "``import numpy as np``\n",
    "\n",
    "``dati = loadmat('Test_II.mat')``\n",
    "\n",
    "``A1=dati[\"A1\"] ``\n",
    "\n",
    "``A1=A1.astype(float)``\n",
    "\n",
    "`` b1=dati[\"b1\"] ``\n",
    "\n",
    "`` b1=b1.astype(float)``\n",
    "\n",
    "``A2=dati[\"A2\"] ``\n",
    "\n",
    "``A2=A2.astype(float)``\n",
    "\n",
    "`` b2=dati[\"b2\"] ``\n",
    "\n",
    "`` b2=b2.astype(float)``\n",
    "\n",
    "``A3=dati[\"A3\"] ``\n",
    "\n",
    "``A3=A3.astype(float)``\n",
    "\n",
    "`` b3=dati[\"b3\"] ``\n",
    "\n",
    "`` b3=b3.astype(float)``\n",
    "\n",
    "\n",
    "\n",
    "                                                                    Punti 16"
   ]
  },
  {
   "cell_type": "code",
   "execution_count": 12,
   "id": "75751cd5-4dae-4a72-9b81-d7a57a68c71e",
   "metadata": {},
   "outputs": [],
   "source": [
    "from scipy.io import loadmat\n",
    "import numpy as np\n",
    "\n",
    "dati = loadmat('Test_I.mat')\n",
    "\n",
    "A1=dati[\"A1\"] \n",
    "\n",
    "A1=A1.astype(float)\n",
    "\n",
    "b1=dati[\"b1\"] \n",
    "\n",
    "b1=b1.astype(float)\n",
    "\n",
    "A2=dati[\"A2\"] \n",
    "\n",
    "A2=A2.astype(float)\n",
    "\n",
    "b2=dati[\"b2\"] \n",
    "\n",
    "b2=b2.astype(float)\n",
    "\n",
    "A3=dati[\"A3\"] \n",
    "\n",
    "A3=A3.astype(float)\n",
    "\n",
    "b3=dati[\"b3\"] \n",
    "\n",
    "b3=b3.astype(float)\n"
   ]
  },
  {
   "cell_type": "code",
   "execution_count": 13,
   "id": "0d59b3c4",
   "metadata": {},
   "outputs": [],
   "source": [
    "import numpy as np\n",
    "def checkDefPos(A):\n",
    "    autoVal,AutoVet = np.linalg.eig(A)\n",
    "    if np.all(autoVal>0) == True:\n",
    "        print(\"definita positiva\")\n",
    "    else:\n",
    "        print(\"non definita positiva\")\n",
    "\n",
    "def checkSimmetrica(A):\n",
    "    flag = A.T == A\n",
    "    if np.all(flag):\n",
    "        print(\"simmetrica\")\n",
    "        return True\n",
    "    print(\"non simmetrica\")\n",
    "    return False\n",
    "\n",
    "def calcCondition(A):\n",
    "    cond = np.linalg.cond(A)\n",
    "    print(\"indice di condizionamento pari a {:e}\".format(cond))\n",
    "    if cond <= 10**2:\n",
    "        print(\"ben condizionata\")\n",
    "    elif cond >10 ** 2 and cond < 10**4:\n",
    "        print(\"mediamente condizionata\")\n",
    "    else :\n",
    "        print(\"mal condizionata\")\n",
    "\n",
    "def checkSparsa(A):\n",
    "    non_zero = np.count_nonzero(A)\n",
    "    perc =non_zero/(A.shape[0]*A.shape[1])*100\n",
    "    if perc >= 33:\n",
    "        print(\"matrice densa\")\n",
    "    else:\n",
    "        print(\"matrice sparsa\")\n",
    "    print(perc)\n",
    "\n",
    "def checkMaxRank(A):\n",
    "    r = np.linalg.matrix_rank(A)\n",
    "\n",
    "    if r == np.min(A.shape):\n",
    "        print(\"rango massimo\")\n",
    "    else:\n",
    "        print(\"no rango massimo\")\n",
    "\n",
    "def getInfo(A):\n",
    "    print(A.shape[0] , A.shape[1])\n",
    "    if A.shape[0] == A.shape[1]:\n",
    "        print(\"matrice quadrata\")\n",
    "        if checkSimmetrica(A):\n",
    "            checkDefPos(A)\n",
    "        else :\n",
    "            \"non simmetrica quindi non definita positiva\"\n",
    "    else:\n",
    "        print(\"matrice non quadrata\")\n",
    "    checkSparsa(A)\n",
    "    calcCondition(A)\n",
    "    checkMaxRank(A)\n",
    "    \n",
    "        "
   ]
  },
  {
   "cell_type": "code",
   "execution_count": 14,
   "id": "94e7471f",
   "metadata": {},
   "outputs": [
    {
     "name": "stdout",
     "output_type": "stream",
     "text": [
      "10 10\n",
      "matrice quadrata\n",
      "simmetrica\n",
      "non definita positiva\n",
      "matrice densa\n",
      "100.0\n",
      "indice di condizionamento pari a 1.206149e+02\n",
      "mediamente condizionata\n",
      "rango massimo\n",
      "-----------------\n",
      "25 10\n",
      "matrice non quadrata\n",
      "matrice densa\n",
      "100.0\n",
      "indice di condizionamento pari a 1.000000e+04\n",
      "mal condizionata\n",
      "rango massimo\n",
      "-----------------\n",
      "225 225\n",
      "matrice quadrata\n",
      "simmetrica\n",
      "definita positiva\n",
      "matrice sparsa\n",
      "2.1037037037037036\n",
      "indice di condizionamento pari a 1.030869e+02\n",
      "mediamente condizionata\n",
      "rango massimo\n"
     ]
    }
   ],
   "source": [
    "getInfo(A1)\n",
    "print(\"-----------------\")\n",
    "getInfo(A2)\n",
    "print(\"-----------------\")\n",
    "getInfo(A3)\n"
   ]
  },
  {
   "cell_type": "markdown",
   "id": "7bccecd9",
   "metadata": {},
   "source": [
    "## Osservazioni ##\n",
    "1. per A1 posso utilizzare la fattorizzazione di Gauss dato che è mediamente condizionata ma non altamente da utilizzare il metodo QR.\n",
    "2. per A2 posso utilizzare il metodo QRLS dato che non è quadrata, è mal condizionata ma non altamente da utilizzare il metodo SVDLS, ed ha rango massimo.\n",
    "3. per A3 posso utilizzare i metodo di discesa del gradiente oppure Gauss_Seidel , dato che è considerabile di grandi dimensioni, è sparsa,quadrata , simmetrica e definita positiva."
   ]
  },
  {
   "cell_type": "code",
   "execution_count": 15,
   "id": "794a6f72",
   "metadata": {},
   "outputs": [],
   "source": [
    "import scipy.linalg as spy\n",
    "import SolveTriangular\n",
    "def Gauss(A,b):\n",
    "    P,L,U = spy.lu(A)\n",
    "    P = P.T\n",
    "    Pb=P@b\n",
    "\n",
    "    y = spy.solve_triangular(L,Pb,lower=True)\n",
    "\n",
    "    x = spy.solve_triangular(U,y,lower=False)\n",
    "\n",
    "    return x\n",
    "\n",
    "def qr(A,b):\n",
    "    Q,R = spy.qr(A)\n",
    "    y = Q.T@b\n",
    "\n",
    "    return spy.solve_triangular(R,y)\n",
    "\n",
    "\n",
    "def qrLS(A,b):\n",
    "    #Risolve un sistema sovradeterminato con il metodo QR-LS\n",
    "    n=A.shape[1]  # numero di colonne di A\n",
    "    Q,R=spy.qr(A)\n",
    "    h=Q.T@b\n",
    "    x,flag=SolveTriangular.Usolve(R[0:n,:],h[0:n])\n",
    "    residuo=np.linalg.norm(h[n:])**2\n",
    "    return x,residuo\n",
    "\n",
    "def steepestdescent(A,b,x0,itmax,tol):\n",
    " \n",
    "    n,m=A.shape\n",
    "    if n!=m:\n",
    "        print(\"Matrice non quadrata\")\n",
    "        return [],[]\n",
    "    \n",
    "    \n",
    "   # inizializzare le variabili necessarie\n",
    "    x = x0\n",
    "\n",
    "     \n",
    "    r = A@x-b\n",
    "    p =  -r\n",
    "    it = 0\n",
    "    nb=np.linalg.norm(b)\n",
    "    errore=np.linalg.norm(r)/nb\n",
    "    vec_sol=[]\n",
    "    vec_sol.append(x)\n",
    "    vet_r=[]\n",
    "    vet_r.append(errore)\n",
    "     \n",
    "# utilizzare il metodo del gradiente per trovare la soluzione\n",
    "    while it<=itmax and errore>=tol:\n",
    "        it=it+1\n",
    "        Ap= A@p\n",
    "       \n",
    "        alpha = -(r.T@p)/(p.T@Ap)\n",
    "                \n",
    "        x = x+alpha*p\n",
    "        \n",
    "         \n",
    "        vec_sol.append(x)\n",
    "        r=r+alpha*Ap\n",
    "        errore=np.linalg.norm(r)/nb\n",
    "        vet_r.append(errore)\n",
    "        p =-r\n",
    "        \n",
    "     \n",
    "    return x,vet_r,vec_sol,it"
   ]
  },
  {
   "cell_type": "code",
   "execution_count": 16,
   "id": "b2b4894a",
   "metadata": {},
   "outputs": [
    {
     "name": "stdout",
     "output_type": "stream",
     "text": [
      "[[1.]\n",
      " [1.]\n",
      " [1.]\n",
      " [1.]\n",
      " [1.]\n",
      " [1.]\n",
      " [1.]\n",
      " [1.]\n",
      " [1.]\n",
      " [1.]]\n",
      "[[1.]\n",
      " [1.]\n",
      " [1.]\n",
      " [1.]\n",
      " [1.]\n",
      " [1.]\n",
      " [1.]\n",
      " [1.]\n",
      " [1.]\n",
      " [1.]]\n",
      "[[1.]\n",
      " [1.]\n",
      " [1.]\n",
      " [1.]\n",
      " [1.]\n",
      " [1.]\n",
      " [1.]\n",
      " [1.]\n",
      " [1.]\n",
      " [1.]] 2.0122058281059509e-28\n",
      "[[0.99999998 0.99999998 0.99999998 ... 0.99999998 0.99999998 0.99999998]\n",
      " [0.99999995 0.99999995 0.99999995 ... 0.99999995 0.99999995 0.99999995]\n",
      " [0.99999993 0.99999993 0.99999993 ... 0.99999993 0.99999993 0.99999993]\n",
      " ...\n",
      " [0.99999993 0.99999993 0.99999993 ... 0.99999993 0.99999993 0.99999993]\n",
      " [0.99999995 0.99999995 0.99999995 ... 0.99999995 0.99999995 0.99999995]\n",
      " [0.99999998 0.99999998 0.99999998 ... 0.99999998 0.99999998 0.99999998]]\n"
     ]
    }
   ],
   "source": [
    "x1 = Gauss(A1,b1)\n",
    "x1_suc = qr(A1,b1)\n",
    "print(x1_suc)\n",
    "print(x1)\n",
    "x2,residuo = qrLS(A2,b2)\n",
    "print(x2,residuo)\n",
    "x0=np.zeros(A3.shape[0]).reshape(A3.shape[0],)\n",
    "x3,vet_r,vec_sol,it = steepestdescent(A3,b3,x0,4000,1e-6)\n",
    "print(x3)"
   ]
  },
  {
   "cell_type": "markdown",
   "id": "afd002ed",
   "metadata": {},
   "source": [
    "## punto 2 ##\n",
    "\n",
    "solo una matrice è mal condizionata, per verificarlo calcoliamo l'indice di condizionamento delle matrici A1,A2,A3.\n",
    "La formula dell'indice di condizionamento è la seguente : $K(A) = ||A|||A^-1|||$.\n",
    "Questo valore è molto importante perchè indica quanto l'errore si propaga, se K(A) è molto grande, parliamo di matrici mal condizionate, in cui anche il più piccolo degli errori può portare a risultati molto divergenti dall'effettivo risultato reale.\n",
    "Solitamente si dice che se $K(A) <= 10^2$ => matrice ben condizionata , se $10^2 < K(A) < 10^4$ => matrice mediamente condizionata e se $K(A) >= 10^4$ => la matrice è mal condizionata."
   ]
  },
  {
   "cell_type": "code",
   "execution_count": 17,
   "id": "f86973e5",
   "metadata": {},
   "outputs": [
    {
     "name": "stdout",
     "output_type": "stream",
     "text": [
      "errore relativo sul termine noto => 3.357140e-05\n",
      "errore relativo sui dati => 1.128687e-03\n"
     ]
    }
   ],
   "source": [
    "def calcErrRelativo(x1,x2):\n",
    "    return np.linalg.norm(x1-x2,2)/np.linalg.norm(x2,2)\n",
    "\n",
    "b1p=b1.copy()\n",
    "b1p[0]=b1p[0]+0.0001*b1p[0]\n",
    "print(\"errore relativo sul termine noto => {:e}\".format(np.linalg.norm(b1p-b1,np.inf)/np.linalg.norm(b1,np.inf)))\n",
    "x1b = Gauss(A1,b1p)\n",
    "print(\"errore relativo sui dati => {:e}\".format(np.linalg.norm(x1b-x1,np.inf)/np.linalg.norm(x1,np.inf)))"
   ]
  },
  {
   "cell_type": "markdown",
   "id": "3b316fb5",
   "metadata": {},
   "source": [
    "## spiegazione ##\n",
    "La matrice A è mediamente condizionata, tendente al ben condizionata, quindi la propagazione dell'errore è molto limitata, se facessimo lo stesso discorso con la seconda matrice (A2) avremo che l'errore nella soluzione sarebbe molto più grande, proprio perchè si propaga di più"
   ]
  },
  {
   "cell_type": "code",
   "execution_count": 18,
   "id": "3a8a7091",
   "metadata": {},
   "outputs": [
    {
     "name": "stdout",
     "output_type": "stream",
     "text": [
      "errore relativo sul termine noto => 3.063794e-05\n",
      "errore relativo sulla soluzione => 3.290215e-03\n"
     ]
    }
   ],
   "source": [
    "# esempio\n",
    "b2p = b2.copy()\n",
    "b2p[0] = b2p[0]+0.0001 * b2p[0]\n",
    "print(\"errore relativo sul termine noto => {:e}\".format(calcErrRelativo(b2p,b2)))\n",
    "x2b,residuo = qrLS(A2,b2p)\n",
    "print(\"errore relativo sulla soluzione => {:e}\".format(calcErrRelativo(x2b,x2)))"
   ]
  },
  {
   "cell_type": "markdown",
   "id": "c7c0fc1b-bc94-49c2-ac4f-7f5aef30ee48",
   "metadata": {},
   "source": [
    "## Esercizio 2 ##"
   ]
  },
  {
   "cell_type": "markdown",
   "id": "ac5bd596-03c0-403c-a91d-c009267ab3f7",
   "metadata": {},
   "source": [
    "Per ogni $k \\in N$ l'equazione di II grado $x^2+(2^{2k}-3^{-2k})x-2^{2k}3^{-2k}=0 $ ha come soluzioni esatte $x_1=-2^{2k}$,$x_2=3^{-2k}$,"
   ]
  },
  {
   "cell_type": "markdown",
   "id": "7199ac8a-fea4-41e2-a06b-95020434c852",
   "metadata": {},
   "source": [
    "Scrivere lo script python in cui\n",
    "- si implementa la formula risolutiva delle equazioni di II grado per calcolare le  due soluzioni per $k$ che  assume valori interi tra 6 e 16;  [**Punti 2**]"
   ]
  },
  {
   "cell_type": "markdown",
   "id": "160a8638-ea35-489f-9ff4-ab13bd7c0603",
   "metadata": {},
   "source": [
    "- per entrambe le soluzioni, si calcoli l'errore relativo commesso al variare di k che assume valori interi tra 6 e 16;   [**Punti 1**]"
   ]
  },
  {
   "cell_type": "code",
   "execution_count": 19,
   "id": "c6ff8349-3eb5-49b2-9a43-72dba560170e",
   "metadata": {},
   "outputs": [
    {
     "name": "stderr",
     "output_type": "stream",
     "text": [
      "C:\\Users\\utente\\AppData\\Local\\Temp\\ipykernel_19064\\1000043206.py:7: RuntimeWarning: divide by zero encountered in divide\n",
      "  err=lambda x_real,x_calc: np.abs(x_calc-x_real)/np.abs(x_real)\n"
     ]
    }
   ],
   "source": [
    "import numpy as np\n",
    "import matplotlib.pyplot as plt\n",
    "\n",
    "delta= lambda a,b,c:b**2-4*a*c\n",
    "def calcX1X2(a,b,c):\n",
    "    return (-b+np.sqrt(delta(a,b,c)))/(2*a),(-b-np.sqrt(delta(a,b,c)))/(2*a)\n",
    "err=lambda x_real,x_calc: np.abs(x_calc-x_real)/np.abs(x_real)\n",
    "\n",
    "k = np.arange(6,17)\n",
    "\n",
    "x1=-2**(2*k)\n",
    "x2=1/3**(2*k)\n",
    "x2_calc,x1_calc=calcX1X2(1,2**(2*k)-1/(3**(2*k)),-(2**(2*k))/(3**(2*k)))\n",
    "\n",
    "x1_error = err(x2,x2_calc)\n",
    "x2_error = err(x1,x1_calc)\n",
    "\n",
    "\n"
   ]
  },
  {
   "cell_type": "markdown",
   "id": "d3874f87-91f9-47de-b05a-928d840e86bd",
   "metadata": {},
   "source": [
    "- si rappresentino in un grafico gli andamenti dei due errori relativi calcolati nel punto precedente; [**Punti 1**]"
   ]
  },
  {
   "cell_type": "code",
   "execution_count": 20,
   "id": "a46e334a",
   "metadata": {},
   "outputs": [
    {
     "data": {
      "image/png": "[encoded data removed]",
      "text/plain": [
       "<Figure size 640x480 with 1 Axes>"
      ]
     },
     "metadata": {},
     "output_type": "display_data"
    }
   ],
   "source": [
    "plt.plot(k,x2_error)\n",
    "plt.plot(k,x1_error)\n",
    "plt.legend([\"x1\",\"x2\"])\n",
    "plt.show()"
   ]
  },
  {
   "cell_type": "markdown",
   "id": "0094aaef-c1e9-4aed-ace7-d1c89638e136",
   "metadata": {},
   "source": [
    "- osservando i grafici ottenuti, si dica se le formule utilizzate per calcolare le due soluzioni hanno dato luogo ad algoritmi stabili, motivando opportunamente la risposta alla luce della teoria. [**Punti 6**]"
   ]
  },
  {
   "cell_type": "markdown",
   "id": "f9b313c8",
   "metadata": {},
   "source": [
    "La soluzione presentata non è stabile dato che lo spacing tra i due valori è molto grande, e quindi l'errore si propaga molto velocemente, inoltre il problema è mal condizionato, quindi anche il più piccolo errore può portare a risultati molto diversi da quelli attesi.\n",
    "Ad esempio nel calcolo del delta:"
   ]
  },
  {
   "cell_type": "code",
   "execution_count": 21,
   "id": "df2d00aa",
   "metadata": {},
   "outputs": [
    {
     "name": "stdout",
     "output_type": "stream",
     "text": [
      "spacing dell'operazione b^2 =>\n",
      " [1.86264515e-09 2.98023224e-08 4.76837158e-07 7.62939453e-06\n",
      " 2.44140625e-04 1.95312500e-03 6.25000000e-02 1.00000000e+00\n",
      " 1.60000000e+01 2.56000000e+02 7.70371978e-34]\n",
      "4*a*c => \n",
      " [-3.08293865e-02 -1.37019496e-02 -6.08975536e-03 -2.70655794e-03\n",
      "  5.18979556e-03 -1.27458498e-02  6.46330899e-02  3.55632722e-01\n",
      " -5.97640004e-01  4.25184930e+00 -0.00000000e+00]\n"
     ]
    }
   ],
   "source": [
    "b = 2**(2*k)-1/(3**(2*k))\n",
    "a=1\n",
    "c=-(2**(2*k))/(3**(2*k))\n",
    "print(\"spacing dell'operazione b^2 =>\\n\",np.spacing(b**2))\n",
    "print(\"4*a*c => \\n\",4*a*c)\n"
   ]
  },
  {
   "cell_type": "markdown",
   "id": "740da368",
   "metadata": {},
   "source": [
    "Notiamo infatti che dopo il quarto valore di K si crea dell'errore dato dallo spacing di $b^2$"
   ]
  },
  {
   "cell_type": "markdown",
   "id": "283a9ff0-0abb-4469-b868-8b9b9918ebb0",
   "metadata": {},
   "source": [
    "- in caso di instabilita', si fornisca un algoritmo di calcolo stabile e si mostrino in un nuovo grafico gli\n",
    "andamenti dei nuovi errori relativi ottenuti. [**Punti 6**]"
   ]
  },
  {
   "cell_type": "code",
   "execution_count": 22,
   "id": "8d6521bc",
   "metadata": {
    "tags": []
   },
   "outputs": [
    {
     "name": "stderr",
     "output_type": "stream",
     "text": [
      "C:\\Users\\utente\\AppData\\Local\\Temp\\ipykernel_19064\\3173505157.py:1: RuntimeWarning: invalid value encountered in divide\n",
      "  x2_new = c/x1\n"
     ]
    },
    {
     "data": {
      "image/png": "[encoded data removed]",
      "text/plain": [
       "<Figure size 640x480 with 1 Axes>"
      ]
     },
     "metadata": {},
     "output_type": "display_data"
    }
   ],
   "source": [
    "x2_new = c/x1 \n",
    "plt.plot(k,err(x2,x2_new))\n",
    "plt.show()"
   ]
  }
 ],
 "metadata": {
  "kernelspec": {
   "display_name": "Python 3 (ipykernel)",
   "language": "python",
   "name": "python3"
  },
  "language_info": {
   "codemirror_mode": {
    "name": "ipython",
    "version": 3
   },
   "file_extension": ".py",
   "mimetype": "text/x-python",
   "name": "python",
   "nbconvert_exporter": "python",
   "pygments_lexer": "ipython3",
   "version": "3.11.7"
  }
 },
 "nbformat": 4,
 "nbformat_minor": 5
}
