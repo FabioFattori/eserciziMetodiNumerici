{
 "cells": [
  {
   "cell_type": "markdown",
   "id": "436b21ca-81f4-4a28-b1b3-7bcec38b8ec9",
   "metadata": {},
   "source": [
    "## Simulazione II Esame di Metodi Numerici Soluzioni##"
   ]
  },
  {
   "cell_type": "markdown",
   "id": "9a338784-8746-4014-bec9-951026190441",
   "metadata": {},
   "source": [
    "Nel file ``Test_I.mat`` sono memorizzate le matrici A1, A2 ed A3 ed i vettori b1,b2,b3. \n",
    "- Risolvere i 3 sistemi lineari aventi matrice dei coefficienti A1 e termine noto b1, matrice dei coefficienti A2 e termine noto b2, matrice dei coefficienti A3 e terimine noto b3  utilizzando il metodo più adatto per ciascuno di essi e  commentare i risultati ottenuti  giustificandoli alla luce della teoria.\n",
    "\n",
    "                                                                                            punti 12\n",
    "                                                                                            \n",
    "- Verificare se le matrici sono malcondizionate. Indicare la formula matematica dell'indice di condizionamento e spiegare perchè è importante conoscere l'indice di condizionamento di una matrice.\n",
    "                                                                                           \n",
    "                                                                                           punti 2\n",
    "\n",
    "- Dopo aver copiato nel numpy array b1p il termine noto b1 del primo sistema lineare con matrice dei coefficienti A1, effettuarne una perturbazione della prima componente nel seguente modo b1p[0]=b1p[0]+0.001*b1p[0]. Risolvere il sistema lineare con matrice A1 e termine noto perturbato b1p. Calcolare l'errore relativo sulla soluzione e l'errore relativo sul termine noto, descrivere ciò che si verifica giustificandolo alla luce della teoria.\n",
    "\n",
    "                                                                                           punti 2\n",
    "\n",
    "\n",
    "Per la lettura dei dati procedere nel seguente modo:\n",
    "\n",
    "``from scipy.io import loadmat``\n",
    "\n",
    "``import numpy as np``\n",
    "\n",
    "``dati = loadmat('Test_II.mat')``\n",
    "\n",
    "``A1=dati[\"A1\"] ``\n",
    "\n",
    "``A1=A1.astype(float)``\n",
    "\n",
    "`` b1=dati[\"b1\"] ``\n",
    "\n",
    "`` b1=b1.astype(float)``\n",
    "\n",
    "``A2=dati[\"A2\"] ``\n",
    "\n",
    "``A2=A2.astype(float)``\n",
    "\n",
    "`` b2=dati[\"b2\"] ``\n",
    "\n",
    "`` b2=b2.astype(float)``\n",
    "\n",
    "``A3=dati[\"A3\"] ``\n",
    "\n",
    "``A3=A3.astype(float)``\n",
    "\n",
    "`` b3=dati[\"b3\"] ``\n",
    "\n",
    "`` b3=b3.astype(float)``\n",
    "\n",
    "\n",
    "\n",
    "                                                                    Punti 16"
   ]
  },
  {
   "cell_type": "code",
   "execution_count": 3,
   "id": "75751cd5-4dae-4a72-9b81-d7a57a68c71e",
   "metadata": {
    "jupyter": {
     "source_hidden": true
    },
    "tags": []
   },
   "outputs": [],
   "source": [
    "from scipy.io import loadmat\n",
    "import numpy as np\n",
    "\n",
    "dati = loadmat('Test_I.mat')\n",
    "\n",
    "A1=dati[\"A1\"] \n",
    "\n",
    "A1=A1.astype(float)\n",
    "\n",
    "b1=dati[\"b1\"] \n",
    "\n",
    "b1=b1.astype(float)\n",
    "\n",
    "A2=dati[\"A2\"] \n",
    "\n",
    "A2=A2.astype(float)\n",
    "\n",
    "b2=dati[\"b2\"] \n",
    "\n",
    "b2=b2.astype(float)\n",
    "\n",
    "A3=dati[\"A3\"] \n",
    "\n",
    "A3=A3.astype(float)\n",
    "\n",
    "b3=dati[\"b3\"] \n",
    "\n",
    "b3=b3.astype(float)\n"
   ]
  },
  {
   "cell_type": "code",
   "execution_count": 4,
   "id": "16126bb9-0afe-474f-afda-08f08d359952",
   "metadata": {
    "jupyter": {
     "source_hidden": true
    },
    "tags": []
   },
   "outputs": [],
   "source": [
    "def getInfo(A):\n",
    "    print(A.shape)\n",
    "    cond(A)\n",
    "    sparsa(A)\n",
    "    simmetrica(A)\n",
    "    max_rank(A)\n",
    "    diagStrettamenteDominante(A)\n",
    "    return\n",
    "\n",
    "def sparsa(A):\n",
    "    nonZero = np.count_nonzero(A)\n",
    "    perc = nonZero/(A.shape[0]*A.shape[1]) * 100\n",
    "    if perc <= 33:\n",
    "        print(\"matrice sparsa\")\n",
    "    else:\n",
    "        print(\"matrice densa\")\n",
    "    print(perc,\"%\")\n",
    "\n",
    "def defPos(A):\n",
    "    val,vect = np.linalg.eig(A)\n",
    "    flag = val > 0\n",
    "    if np.all(flag):\n",
    "        print(\"def pos\")\n",
    "    \n",
    "def simmetrica(A):\n",
    "    if A.shape[0] == A.shape[1] and np.all(A.T == A):\n",
    "        print(\"Simmetrica\")\n",
    "        defPos(A)\n",
    "        \n",
    "def cond(A):\n",
    "    print(\"condizionamento => {:e}\".format(np.linalg.cond(A)))\n",
    "\n",
    "def max_rank(A):\n",
    "    if min(A.shape) == np.linalg.matrix_rank(A):\n",
    "        print(\"rango massimo\")\n",
    "        \n",
    "def diagStrettamenteDominante(A):\n",
    "    if np.all(np.diag(A)>np.abs(A-np.diag(A))):\n",
    "        print(\"diagonale strettamente dominante\")"
   ]
  },
  {
   "cell_type": "code",
   "execution_count": 5,
   "id": "25a53fbb-d133-4c74-960c-c8ad344dffef",
   "metadata": {
    "tags": []
   },
   "outputs": [
    {
     "name": "stdout",
     "output_type": "stream",
     "text": [
      "(10, 10)\n",
      "condizionamento => 1.206149e+02\n",
      "matrice densa\n",
      "100.0 %\n",
      "Simmetrica\n",
      "rango massimo\n",
      "=>fattorizzazione di Gauss<=\n",
      "--------------------------------\n",
      "(25, 10)\n",
      "condizionamento => 1.000000e+04\n",
      "matrice densa\n",
      "100.0 %\n",
      "rango massimo\n",
      "=>QRLS o SVDLS<=\n",
      "--------------------------------\n",
      "(225, 225)\n",
      "condizionamento => 1.030869e+02\n",
      "matrice sparsa\n",
      "2.1037037037037036 %\n",
      "Simmetrica\n",
      "def pos\n",
      "rango massimo\n",
      "=>Metodo di Discesa del Gradiente<=\n",
      "--------------------------------\n"
     ]
    }
   ],
   "source": [
    "getInfo(A1)\n",
    "print(\"=>fattorizzazione di Gauss<=\")\n",
    "print(\"--------------------------------\")\n",
    "getInfo(A2)\n",
    "print(\"=>QRLS o SVDLS<=\")\n",
    "print(\"--------------------------------\")\n",
    "getInfo(A3)\n",
    "print(\"=>Metodo di Discesa del Gradiente<=\")\n",
    "print(\"--------------------------------\")"
   ]
  },
  {
   "cell_type": "code",
   "execution_count": 6,
   "id": "4c13b019-74a2-4181-8c7d-21fbf393c8d9",
   "metadata": {
    "tags": []
   },
   "outputs": [
    {
     "name": "stdout",
     "output_type": "stream",
     "text": [
      "[[1.]\n",
      " [1.]\n",
      " [1.]\n",
      " [1.]\n",
      " [1.]\n",
      " [1.]\n",
      " [1.]\n",
      " [1.]\n",
      " [1.]\n",
      " [1.]]\n"
     ]
    }
   ],
   "source": [
    "import scipy.linalg as splin\n",
    "import SolveTriangular as solver\n",
    "def fattorizzazioneGauss(A,b):\n",
    "    P,L,U = splin.lu(A)\n",
    "    Pb = P.T@b\n",
    "    y,flag = solver.Lsolve(L,Pb)\n",
    "    x,flag = solver.Usolve(U,y)\n",
    "    return x\n",
    "\n",
    "x1 = fattorizzazioneGauss(A1,b1)\n",
    "print(x1)"
   ]
  },
  {
   "cell_type": "code",
   "execution_count": 7,
   "id": "fcdffe36-4b44-4df3-899c-7ed509383314",
   "metadata": {
    "tags": []
   },
   "outputs": [
    {
     "name": "stdout",
     "output_type": "stream",
     "text": [
      "[[1.]\n",
      " [1.]\n",
      " [1.]\n",
      " [1.]\n",
      " [1.]\n",
      " [1.]\n",
      " [1.]\n",
      " [1.]\n",
      " [1.]\n",
      " [1.]]\n",
      "2.0122058281059509e-28\n"
     ]
    }
   ],
   "source": [
    "def qrLS(A,b):\n",
    "#Risolve un sistema sovradeterminato con il metodo QR-LS\n",
    "    n=A.shape[1]  # numero di colonne di A\n",
    "    Q,R=splin.qr(A)\n",
    "    h=Q.T@b\n",
    "    x,flag=solver.Usolve(R[0:n,:],h[0:n])\n",
    "    residuo=np.linalg.norm(h[n:])**2\n",
    "    return x,residuo\n",
    "x2,res = qrLS(A2,b2)\n",
    "print(x2)\n",
    "print(res)"
   ]
  },
  {
   "cell_type": "code",
   "execution_count": 8,
   "id": "c98698c7-cace-46ab-8472-7c80e4ce387d",
   "metadata": {
    "tags": []
   },
   "outputs": [
    {
     "data": {
      "image/png": "[encoded data removed]",
      "text/plain": [
       "<Figure size 640x480 with 1 Axes>"
      ]
     },
     "metadata": {},
     "output_type": "display_data"
    }
   ],
   "source": [
    "import matplotlib.pyplot as plt\n",
    "def steepestdescent(A,b,x0,itmax,tol):\n",
    " \n",
    "    n,m=A.shape\n",
    "    if n!=m:\n",
    "        print(\"Matrice non quadrata\")\n",
    "        return [],[]\n",
    "    \n",
    "    \n",
    "   # inizializzare le variabili necessarie\n",
    "    x = x0\n",
    "\n",
    "     \n",
    "    r = A@x-b\n",
    "    p = -r\n",
    "    it = 0\n",
    "    nb=np.linalg.norm(b)\n",
    "    errore=np.linalg.norm(r)/nb\n",
    "    vec_sol=[]\n",
    "    vec_sol.append(x)\n",
    "    vet_r=[]\n",
    "    vet_r.append(errore)\n",
    "     \n",
    "# utilizzare il metodo del gradiente per trovare la soluzione\n",
    "    while it<=itmax and errore>=tol:\n",
    "        it=it+1\n",
    "        Ap= A@p\n",
    "       \n",
    "        alpha = -(r.T@p)/(p.T@Ap)\n",
    "                \n",
    "        x =  x +p*alpha\n",
    "        \n",
    "         \n",
    "        vec_sol.append(x)\n",
    "        r=r+alpha*Ap\n",
    "        errore=np.linalg.norm(r)/nb\n",
    "        vet_r.append(errore)\n",
    "        p =-r\n",
    "        \n",
    "     \n",
    "    return x,vet_r,vec_sol,it\n",
    "\n",
    "tol = 1e-6\n",
    "itMax = 4000\n",
    "x0 = np.zeros(b3.shape)\n",
    "\n",
    "x3,vet_r,vec_sol,it =steepestdescent(A3,b3,x0,itMax,tol) \n",
    "plt.semilogy(range(it+1),vet_r)\n",
    "plt.show()"
   ]
  },
  {
   "cell_type": "markdown",
   "id": "499a2417-4754-4f68-995b-04c0146c0b4d",
   "metadata": {},
   "source": [
    "la formula è $$K(A) = ||A||_2||A^{-1}||_2$$ ed è importante dato che il condizionamento di una matrice ci dice quanto la soluzione è soggetta a variazioni in presenza di perturbazione sui dati, con matrici ben condizionate (K(A)<=10^2) l'errore si propaga meno restituendo soluzioni accettabili anche con un pò di perturbazione mentre se la matrice è mal condizionata (K(A)>=10^4) l'errore viene propagato fino al punto da avere delle soluzioni molto lontane dalle soluzioni che ci si aspetta"
   ]
  },
  {
   "cell_type": "code",
   "execution_count": 10,
   "id": "58b6c3d3-2ef3-4a2b-a9cf-2e2f173282bf",
   "metadata": {
    "tags": []
   },
   "outputs": [
    {
     "name": "stdout",
     "output_type": "stream",
     "text": [
      "[[1.00661667]\n",
      " [1.0201726 ]\n",
      " [1.00685288]\n",
      " [0.97967728]\n",
      " [1.01248261]\n",
      " [1.00237884]\n",
      " [0.9957675 ]\n",
      " [0.99352225]\n",
      " [0.98844541]\n",
      " [0.99710401]]\n",
      "err rel sul vettore delle incognite => 2.032272e-02\n",
      "err rel sul vettore soluzione => 8.132041e-04\n"
     ]
    }
   ],
   "source": [
    "def calcErrRel(trueValue,obtainedValue):\n",
    "    return np.linalg.norm(obtainedValue-trueValue,np.inf)/np.linalg.norm(trueValue,np.inf)\n",
    "\n",
    "b1p = b1.copy()\n",
    "b1p[0]=b1p[0]+0.001*b1p[0]\n",
    "x_per = fattorizzazioneGauss(A1,b1p)\n",
    "print(x_per)\n",
    "print(\"err rel sul vettore delle incognite => {:e}\".format(calcErrRel(x1,x_per)))\n",
    "print(\"err rel sul vettore soluzione => {:e}\".format(calcErrRel(b1,b1p)))"
   ]
  },
  {
   "cell_type": "markdown",
   "id": "c7c0fc1b-bc94-49c2-ac4f-7f5aef30ee48",
   "metadata": {
    "tags": []
   },
   "source": [
    "## Esercizio 2 ##"
   ]
  },
  {
   "cell_type": "markdown",
   "id": "ac5bd596-03c0-403c-a91d-c009267ab3f7",
   "metadata": {},
   "source": [
    "Per ogni $k \\in N$ l'equazione di II grado $x^2+(2^{2k}-3^{-2k})x-2^{2k}3^{-2k}=0 $ ha come soluzioni esatte $x_1=-2^{2k}$,$x_2=3^{-2k}$,"
   ]
  },
  {
   "cell_type": "markdown",
   "id": "7199ac8a-fea4-41e2-a06b-95020434c852",
   "metadata": {},
   "source": [
    "Scrivere lo script python in cui\n",
    "- si implementa la formula risolutiva delle equazioni di II grado per calcolare le  due soluzioni per $k$ che  assume valori interi tra 6 e 16;  [**Punti 2**]"
   ]
  },
  {
   "cell_type": "code",
   "execution_count": 14,
   "id": "ca3f4889-10e1-449f-be68-6442b1af6f0d",
   "metadata": {
    "tags": []
   },
   "outputs": [
    {
     "name": "stdout",
     "output_type": "stream",
     "text": [
      "[ 6  7  8  9 10 11 12 13 14 15 16]\n",
      "[ 1.88167633e-06  2.09074642e-07  2.32284947e-08  2.57568900e-09\n",
      " -1.28056854e-09  4.65661287e-10 -9.31322575e-10 -3.72529030e-09\n",
      "  0.00000000e+00  0.00000000e+00  0.00000000e+00]\n",
      "[ 1.88167642e-06  2.09075158e-07  2.32305731e-08  2.58117479e-09\n",
      " -1.23734368e-09  7.59711850e-10 -9.63108092e-10 -1.32483513e-09\n",
      "  5.56595627e-10 -9.89960808e-10 -1.99467661e-09]\n",
      "----------\n",
      "[-4.09600000e+03 -1.63840000e+04 -6.55360000e+04 -2.62144000e+05\n",
      " -1.04857600e+06 -4.19430400e+06 -1.67772160e+07 -6.71088640e+07\n",
      " -2.68435456e+08 -1.07374182e+09 -1.99467661e-09]\n",
      "[      -4096      -16384      -65536     -262144    -1048576    -4194304\n",
      "   -16777216   -67108864  -268435456 -1073741824           0]\n"
     ]
    }
   ],
   "source": [
    "delta= lambda a,b,c:np.sqrt(b**2-4*a*c)\n",
    "x1 = lambda a,b,c: (-b+delta(a,b,c))/(2*a)\n",
    "x2 = lambda a,b,c: (-b-delta(a,b,c))/(2*a)\n",
    "\n",
    "k = np.arange(6,17)\n",
    "print(k)\n",
    "\n",
    "a = 1\n",
    "b = 2**(2*k)-1/3**(2*k)\n",
    "c = -2**(2*k)/3**(2*k)\n",
    "\n",
    "realX2 = -2**(2*k)\n",
    "realX1 = 1/3**(2*k)\n",
    "\n",
    "print(x1(a,b,c))\n",
    "print(realX1)\n",
    "print(\"----------\")\n",
    "print(x2(a,b,c))\n",
    "print(realX2)"
   ]
  },
  {
   "cell_type": "markdown",
   "id": "160a8638-ea35-489f-9ff4-ab13bd7c0603",
   "metadata": {},
   "source": [
    "- per entrambe le soluzioni, si calcoli l'errore relativo commesso al variare di k che assume valori interi tra 6 e 16;   [**Punti 1**]"
   ]
  },
  {
   "cell_type": "code",
   "execution_count": 16,
   "id": "8e7b466b-2272-451d-982b-05b5a7708f5b",
   "metadata": {
    "tags": []
   },
   "outputs": [
    {
     "name": "stdout",
     "output_type": "stream",
     "text": [
      "errore relativo su x1 => 1.275700e-03\n",
      "errore relativo su x2 => 1.857687e-18\n"
     ]
    }
   ],
   "source": [
    "def calcErrRel(real,obtained):\n",
    "    return np.linalg.norm(obtained-real,np.inf)/np.linalg.norm(real,np.inf)\n",
    "print(\"errore relativo su x1 => {:e}\".format(calcErrRel(realX1,x1(a,b,c))))\n",
    "print(\"errore relativo su x2 => {:e}\".format(calcErrRel(realX2,x2(a,b,c))))"
   ]
  },
  {
   "cell_type": "markdown",
   "id": "d3874f87-91f9-47de-b05a-928d840e86bd",
   "metadata": {},
   "source": [
    "- si rappresentino in un grafico gli andamenti dei due errori relativi calcolati nel punto precedente; [**Punti 1**]"
   ]
  },
  {
   "cell_type": "code",
   "execution_count": 18,
   "id": "40835101-523f-48ff-9515-c275ca2e3554",
   "metadata": {
    "tags": []
   },
   "outputs": [
    {
     "name": "stderr",
     "output_type": "stream",
     "text": [
      "C:\\Users\\utente\\AppData\\Local\\Temp\\ipykernel_19296\\1078377460.py:4: RuntimeWarning: divide by zero encountered in divide\n",
      "  return (obtained-real)/real\n"
     ]
    },
    {
     "data": {
      "text/plain": [
       "[<matplotlib.lines.Line2D at 0x23a8c73a7d0>]"
      ]
     },
     "execution_count": 18,
     "metadata": {},
     "output_type": "execute_result"
    },
    {
     "data": {
      "image/png": "[encoded data removed]",
      "text/plain": [
       "<Figure size 640x480 with 1 Axes>"
      ]
     },
     "metadata": {},
     "output_type": "display_data"
    }
   ],
   "source": [
    "import matplotlib.pyplot as plt\n",
    "\n",
    "def calcArrayErrRel(real,obtained):\n",
    "    return (obtained-real)/real\n",
    "\n",
    "\n",
    "plt.plot(k,calcArrayErrRel(realX1,x1(a,b,c)))\n",
    "plt.plot(k,calcArrayErrRel(realX2,x2(a,b,c)))\n",
    " "
   ]
  },
  {
   "cell_type": "markdown",
   "id": "0094aaef-c1e9-4aed-ace7-d1c89638e136",
   "metadata": {},
   "source": [
    "- osservando i grafici ottenuti, si dica se le formule utilizzate per calcolare le due soluzioni hanno dato luogo ad algoritmi stabili, motivando opportunamente la risposta alla luce della teoria. [**Punti 6**]"
   ]
  },
  {
   "cell_type": "markdown",
   "id": "da70ce6e-a63d-4acc-8198-aaa6beb8222a",
   "metadata": {},
   "source": [
    "Noto che per x2 non ci sono problemi tranne per l'ultimo elemento che dovrebbe venire 0 ed invece viene un valore per 10^-9, mentre per x1 abbiamo un errore notevole dato dallo spacing"
   ]
  },
  {
   "cell_type": "code",
   "execution_count": 21,
   "id": "edbff546-7fe4-44ed-b63a-28ac6e8be218",
   "metadata": {
    "tags": []
   },
   "outputs": [
    {
     "name": "stdout",
     "output_type": "stream",
     "text": [
      "4*a*c =>  [-3.08293865e-02 -1.37019496e-02 -6.08975536e-03 -2.70655794e-03\n",
      "  5.18979556e-03 -1.27458498e-02  6.46330899e-02  3.55632722e-01\n",
      " -5.97640004e-01  4.25184930e+00 -0.00000000e+00]\n",
      "spacing di b**2 =>  [1.86264515e-09 2.98023224e-08 4.76837158e-07 7.62939453e-06\n",
      " 2.44140625e-04 1.95312500e-03 6.25000000e-02 1.00000000e+00\n",
      " 1.60000000e+01 2.56000000e+02 7.70371978e-34]\n"
     ]
    }
   ],
   "source": [
    "print(\"4*a*c => \",4*a*c)\n",
    "print(\"spacing di b**2 => \",np.spacing(b**2))"
   ]
  },
  {
   "cell_type": "markdown",
   "id": "b6ef2098-c0d2-49ed-94b1-18f3dca4ede7",
   "metadata": {},
   "source": [
    "Infatti notiamo come x1 viene azzerato dal 13esimo valore in poi, perchè per via dello spacing l'operazione $$b^2-4ac$$ è come se venisse annulata quindi nel calcolo del delta abbiamo solo $$b^2$$ che poi viene messo sotto radice e poi viene eseguita l'operazione $$\\frac{-b+b}{2a}$$ che da 0 "
   ]
  },
  {
   "cell_type": "markdown",
   "id": "283a9ff0-0abb-4469-b868-8b9b9918ebb0",
   "metadata": {},
   "source": [
    "- in caso di instabilita', si fornisca un algoritmo di calcolo stabile e si mostrino in un nuovo grafico gli\n",
    "andamenti dei nuovi errori relativi ottenuti. [**Punti 6**]"
   ]
  },
  {
   "cell_type": "markdown",
   "id": "dd8560d0-2ab7-4bbf-9e7c-356029179810",
   "metadata": {},
   "source": [
    "noto che $$c = x_1x_2$$ quindi posso dire che $$x_1=\\frac{c}{x_2}$$"
   ]
  },
  {
   "cell_type": "code",
   "execution_count": 25,
   "id": "c67e82e3-1f49-4ce5-9d4c-a6df8859236f",
   "metadata": {
    "tags": []
   },
   "outputs": [
    {
     "name": "stdout",
     "output_type": "stream",
     "text": [
      "[ 1.88167642e-06  2.09075158e-07  2.32305731e-08  2.58117479e-09\n",
      " -1.23734368e-09  7.59711850e-10 -9.63108092e-10 -1.32483513e-09\n",
      "  5.56595627e-10 -9.89960808e-10  0.00000000e+00]\n",
      "errore relativo su x1 => 1.060053e-03\n",
      "errore relativo su x2 => 1.857687e-18\n"
     ]
    }
   ],
   "source": [
    "newX1 = c/x2(a,b,c)\n",
    "print(newX1)\n",
    "\n",
    "print(\"errore relativo su x1 => {:e}\".format(calcErrRel(realX1,newX1)))\n",
    "print(\"errore relativo su x2 => {:e}\".format(calcErrRel(realX2,x2(a,b,c))))"
   ]
  },
  {
   "cell_type": "code",
   "execution_count": 26,
   "id": "51a41652-d6d0-49c9-b4e3-97772cfee22a",
   "metadata": {
    "tags": []
   },
   "outputs": [
    {
     "name": "stderr",
     "output_type": "stream",
     "text": [
      "C:\\Users\\utente\\AppData\\Local\\Temp\\ipykernel_19296\\267051536.py:2: RuntimeWarning: divide by zero encountered in divide\n",
      "  return (obtained-real)/real\n"
     ]
    },
    {
     "data": {
      "text/plain": [
       "[<matplotlib.lines.Line2D at 0x23a8c6d3110>]"
      ]
     },
     "execution_count": 26,
     "metadata": {},
     "output_type": "execute_result"
    },
    {
     "data": {
      "image/png": "[encoded data removed]",
      "text/plain": [
       "<Figure size 640x480 with 1 Axes>"
      ]
     },
     "metadata": {},
     "output_type": "display_data"
    }
   ],
   "source": [
    "def calcArrayErrRel(real,obtained):\n",
    "    return (obtained-real)/real\n",
    "\n",
    "\n",
    "plt.plot(k,calcArrayErrRel(realX1,newX1))\n",
    "plt.plot(k,calcArrayErrRel(realX2,x2(a,b,c)))"
   ]
  },
  {
   "cell_type": "markdown",
   "id": "e5e38da0-8f41-4a87-a14d-e376516bf422",
   "metadata": {},
   "source": [
    "è meglio, ma non per l'ultimo elemento perchè è 0"
   ]
  }
 ],
 "metadata": {
  "kernelspec": {
   "display_name": "Python 3 (ipykernel)",
   "language": "python",
   "name": "python3"
  },
  "language_info": {
   "codemirror_mode": {
    "name": "ipython",
    "version": 3
   },
   "file_extension": ".py",
   "mimetype": "text/x-python",
   "name": "python",
   "nbconvert_exporter": "python",
   "pygments_lexer": "ipython3",
   "version": "3.11.7"
  }
 },
 "nbformat": 4,
 "nbformat_minor": 5
}
