{
 "cells": [
  {
   "cell_type": "markdown",
   "id": "004b0103-bd48-49d2-b8f3-05e5d5502207",
   "metadata": {},
   "source": [
    "## Esercizio 1"
   ]
  },
  {
   "cell_type": "markdown",
   "id": "25a961e6-278c-4723-a1b9-83467e05aceb",
   "metadata": {},
   "source": [
    "Si consideri il polinomio $$L(x)=(1/2) (5x^3-3x)$$ $x \\in [-1,1]$"
   ]
  },
  {
   "cell_type": "markdown",
   "id": "60aa1e63-c68e-4d29-92c5-7a73cdc8e0b2",
   "metadata": {},
   "source": [
    "Si visualizzi il grafico del polinomio in [-1,1]"
   ]
  },
  {
   "cell_type": "markdown",
   "id": "7eec16a7-922b-41ab-8b6b-639681e70fad",
   "metadata": {},
   "source": [
    "- Si implementi il metodo di Newton per la determinazione degli zeri di un'equazione non lineare [**Punti 4**]"
   ]
  },
  {
   "cell_type": "markdown",
   "id": "4495e605-8592-466c-9bf0-625ecc4921cc",
   "metadata": {},
   "source": [
    "- Si implementi il metodo di Bisezione per la determinazione degli zeri di un'equazione non lineare [**Punti 4**]"
   ]
  },
  {
   "cell_type": "markdown",
   "id": "7a4eb352-abd8-4ae8-90c9-2a82612a4213",
   "metadata": {},
   "source": [
    "- Si utilizzi il metodo di Newton con iterato iniziale $x_0=1$ per determinare lo zero $x^*$ piu' vicino ad 1. [**Punti 2**]"
   ]
  },
  {
   "cell_type": "markdown",
   "id": "4d0df9dd-b119-4dfd-94b6-991eb1ec0943",
   "metadata": {},
   "source": [
    "Si consideri la funzione $q(x)=L(x)/(x-x^*)$ dove $x^*$ è lo zero calcolato nel punto precedente. Si applichi il metodo di Newton con iterato iniziale $x_0=-0.5$ per calcolare uno zero della funzione $q(x)$  e si verifichi che è anche zero di $L(x)$  [**Punti 2**]"
   ]
  },
  {
   "cell_type": "markdown",
   "id": "fd4a767b-5051-4a7d-9ab1-2f99864025e8",
   "metadata": {},
   "source": [
    "Si applichi il metodo di bisezione alle funzioni $q(x)$ ed $L(x)$ definite in [-1,1] e si fornisca una spiegazione teorica dei risultati ottenuti  [**Punti 2**]"
   ]
  },
  {
   "cell_type": "markdown",
   "id": "e92a6695-bf91-41fb-868f-5ffde2bacf7a",
   "metadata": {},
   "source": [
    "                                                                                                                Punti [14]"
   ]
  },
  {
   "cell_type": "code",
   "execution_count": 12,
   "id": "f5b60cf3-fbca-4788-9738-9977e24f113c",
   "metadata": {
    "tags": []
   },
   "outputs": [
    {
     "data": {
      "image/png": "[encoded data removed]",
      "text/plain": [
       "<Figure size 640x480 with 1 Axes>"
      ]
     },
     "metadata": {},
     "output_type": "display_data"
    }
   ],
   "source": [
    "import numpy as np\n",
    "import matplotlib.pyplot as plt\n",
    "L = lambda x: (1/2)*(5*x**3-3*x)\n",
    "x = np.linspace(-1,1,200)\n",
    "y = L(x)\n",
    "plt.plot(x,y)\n",
    "plt.show()"
   ]
  },
  {
   "cell_type": "code",
   "execution_count": 44,
   "id": "91c62c08-adc3-47fa-b72c-60d0aee40fca",
   "metadata": {
    "jupyter": {
     "source_hidden": true
    },
    "tags": []
   },
   "outputs": [],
   "source": [
    "def newton(fname,fpname,x0,tolx,tolf,nmax):\n",
    "        xk=[]\n",
    "        fx0=fname(x0)\n",
    "        it=1\n",
    "        if abs(fpname(x0))<=np.spacing(1):\n",
    "            print(\" derivata prima nulla in x0\")\n",
    "            print(it)\n",
    "            return None, None,None\n",
    "        \n",
    "        d=fx0/fpname(x0)\n",
    "        x1=x0-d\n",
    "        \n",
    "        fx1=fname(x1)\n",
    "        xk.append(x1)\n",
    "        \n",
    "        \n",
    "        while it<=nmax and abs(fx1)>=tolf and abs(d)>=tolx*abs(x1):\n",
    "           x0=x1\n",
    "           fx0= fname(x0)\n",
    "           if abs(fpname(x0))<=np.spacing(1): #Se la derivata prima e' pià piccola della precisione di macchina stop\n",
    "                print(\" derivata prima nulla in x0\")\n",
    "                print(it)\n",
    "                return None, None,None\n",
    "           d=fx0/fpname(x0)\n",
    "            \n",
    "           x1=x0-d\n",
    "           fx1=fname(x1)\n",
    "           it=it+1\n",
    "         \n",
    "           xk.append(x1)\n",
    "          \n",
    "        if it==nmax:\n",
    "            print('raggiunto massimo numero di iterazioni \\n')\n",
    "            \n",
    "        \n",
    "        return x1,it,xk"
   ]
  },
  {
   "cell_type": "code",
   "execution_count": 46,
   "id": "532fcbb1-6139-4cfd-a674-5ba45f51a0ab",
   "metadata": {
    "tags": []
   },
   "outputs": [
    {
     "name": "stdout",
     "output_type": "stream",
     "text": [
      "zero x* più vicino ad 1 =>  0.7745966692414835\n",
      "trovato in  5  iterazioni\n"
     ]
    }
   ],
   "source": [
    "Lp = lambda x: 0.5*(15*x**2-3)\n",
    "tolx = 1e-10\n",
    "tolf = tolx\n",
    "nmax = 200\n",
    "x0 = 1\n",
    "\n",
    "x_capN,itN,xkN = newton(L,Lp,x0,tolx,tolf,nmax)\n",
    "print(\"zero x* più vicino ad 1 => \",x_cap)\n",
    "print(\"trovato in \",itN,\" iterazioni\")\n"
   ]
  },
  {
   "cell_type": "code",
   "execution_count": 63,
   "id": "958aeedb-c3ae-489f-9318-eb67806c5411",
   "metadata": {
    "tags": []
   },
   "outputs": [],
   "source": [
    "import math\n",
    "def sign(n):\n",
    "    if n>0:\n",
    "        return 1\n",
    "    elif n == 0:\n",
    "        return 0\n",
    "    return -1\n",
    "def metodo_bisezione(fname, a, b, tolx,tolf):\n",
    " fa=fname(a);\n",
    " fb=fname(b);\n",
    " if  sign(fa)*sign(fb)>=0:\n",
    "     print(\"Non è possibile applicare il metodo di bisezione \\n\")\n",
    "     return None, None,None\n",
    "\n",
    " it = 0\n",
    " v_xk = []\n",
    "\n",
    " maxit = math.ceil(math.log((b - a) / tolx) / math.log(2))-1\n",
    "\n",
    " \n",
    " while abs(b-a)>=tolx:\n",
    "    xk = a + (b-a)/2\n",
    "    v_xk.append(xk)\n",
    "    it += 1\n",
    "    fxk=fname(xk)\n",
    "    if fxk==0:\n",
    "      return xk, it, v_xk\n",
    "\n",
    "     \n",
    "    if sign(fa)*sign(fxk)>0:   \n",
    "       a = xk\n",
    "       fa = fxk\n",
    "    elif sign(fxk)*sign(fb)>0:    \n",
    "       b = xk\n",
    "       fb = fxk\n",
    "\n",
    " \n",
    " return xk, it, v_xk"
   ]
  },
  {
   "cell_type": "code",
   "execution_count": 65,
   "id": "afea0232-0b39-42d2-97be-d89142d21323",
   "metadata": {
    "tags": []
   },
   "outputs": [
    {
     "name": "stdout",
     "output_type": "stream",
     "text": [
      "zero trovato di q(x) =>  -0.7745966692414833\n",
      "è anche uno zero di L\n"
     ]
    }
   ],
   "source": [
    "q = lambda x: L(x)/(x-x_capN)\n",
    "qp = lambda x: (Lp(x)*(x-x_capN)-L(x))/(x-x_capN)**2\n",
    "x0q = -0.5\n",
    "\n",
    "newX,it2,xk2 = newton(q,qp,x0q,tolx,tolf,nmax)\n",
    "print(\"zero trovato di q(x) => \",newX)\n",
    "\n",
    "res = L(newX)\n",
    "\n",
    "if res <= 1 and res >= 0:\n",
    "    print(\"è anche uno zero di L\")"
   ]
  },
  {
   "cell_type": "code",
   "execution_count": 67,
   "id": "5e5d1d24-9fc1-45bb-8f2e-f8e31602b458",
   "metadata": {
    "tags": []
   },
   "outputs": [
    {
     "name": "stdout",
     "output_type": "stream",
     "text": [
      "Non è possibile applicare il metodo di bisezione \n",
      "\n",
      "0.0\n",
      "None\n"
     ]
    }
   ],
   "source": [
    "a = -1\n",
    "b = 1\n",
    "\n",
    "zeroL,itL,xkL = metodo_bisezione(L,a,b,tolx,tolf)\n",
    "zeroQ,itQ,xkQ = metodo_bisezione(q,a,b,tolx,tolf)\n",
    "\n",
    "print(zeroL)\n",
    "print(zeroQ)"
   ]
  },
  {
   "cell_type": "code",
   "execution_count": 72,
   "id": "08fa9378-4b69-4342-a9eb-6561a059fafd",
   "metadata": {
    "tags": []
   },
   "outputs": [
    {
     "data": {
      "image/png": "[encoded data removed]",
      "text/plain": [
       "<Figure size 640x480 with 1 Axes>"
      ]
     },
     "metadata": {},
     "output_type": "display_data"
    },
    {
     "name": "stdout",
     "output_type": "stream",
     "text": [
      "1\n",
      "1\n"
     ]
    }
   ],
   "source": [
    "y = q(x)\n",
    "plt.plot(x,y)\n",
    "plt.show()"
   ]
  }
 ],
 "metadata": {
  "kernelspec": {
   "display_name": "Python 3 (ipykernel)",
   "language": "python",
   "name": "python3"
  },
  "language_info": {
   "codemirror_mode": {
    "name": "ipython",
    "version": 3
   },
   "file_extension": ".py",
   "mimetype": "text/x-python",
   "name": "python",
   "nbconvert_exporter": "python",
   "pygments_lexer": "ipython3",
   "version": "3.11.7"
  }
 },
 "nbformat": 4,
 "nbformat_minor": 5
}
