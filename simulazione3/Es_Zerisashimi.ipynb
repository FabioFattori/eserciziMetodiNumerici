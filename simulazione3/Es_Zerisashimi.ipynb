{
 "cells": [
  {
   "cell_type": "markdown",
   "id": "004b0103-bd48-49d2-b8f3-05e5d5502207",
   "metadata": {},
   "source": [
    "## Esercizio 1"
   ]
  },
  {
   "cell_type": "markdown",
   "id": "25a961e6-278c-4723-a1b9-83467e05aceb",
   "metadata": {},
   "source": [
    "Si consideri il polinomio $$L(x)=(1/2) (5x^3-3x)$$ $x \\in [-1,1]$"
   ]
  },
  {
   "cell_type": "markdown",
   "id": "60aa1e63-c68e-4d29-92c5-7a73cdc8e0b2",
   "metadata": {},
   "source": [
    "Si visualizzi il grafico del polinomio in [-1,1]"
   ]
  },
  {
   "cell_type": "markdown",
   "id": "7eec16a7-922b-41ab-8b6b-639681e70fad",
   "metadata": {},
   "source": [
    "- Si implementi il metodo di Newton per la determinazione degli zeri di un'equazione non lineare [**Punti 4**]"
   ]
  },
  {
   "cell_type": "markdown",
   "id": "4495e605-8592-466c-9bf0-625ecc4921cc",
   "metadata": {},
   "source": [
    "- Si implementi il metodo di Bisezione per la determinazione degli zeri di un'equazione non lineare [**Punti 4**]"
   ]
  },
  {
   "cell_type": "markdown",
   "id": "7a4eb352-abd8-4ae8-90c9-2a82612a4213",
   "metadata": {},
   "source": [
    "- Si utilizzi il metodo di Newton con iterato iniziale $x_0=1$ per determinare lo zero $x^*$ piu' vicino ad 1. [**Punti 2**]"
   ]
  },
  {
   "cell_type": "markdown",
   "id": "4d0df9dd-b119-4dfd-94b6-991eb1ec0943",
   "metadata": {},
   "source": [
    "Si consideri la funzione $q(x)=L(x)/(x-x^*)$ dove $x^*$ è lo zero calcolato nel punto precedente. Si applichi il metodo di Newton con iterato iniziale $x_0=-0.5$ per calcolare uno zero della funzione $q(x)$  e si verifichi che è anche zero di $L(x)$  [**Punti 2**]"
   ]
  },
  {
   "cell_type": "markdown",
   "id": "fd4a767b-5051-4a7d-9ab1-2f99864025e8",
   "metadata": {},
   "source": [
    "Si applichi il metodo di bisezione alle funzioni $q(x)$ ed $L(x)$ definite in [-1,1] e si fornisca una spiegazione teorica dei risultati ottenuti  [**Punti 2**]"
   ]
  },
  {
   "cell_type": "markdown",
   "id": "e92a6695-bf91-41fb-868f-5ffde2bacf7a",
   "metadata": {},
   "source": [
    "                                                                                                                Punti [14]"
   ]
  },
  {
   "cell_type": "code",
   "execution_count": 128,
   "id": "cc872b02",
   "metadata": {},
   "outputs": [],
   "source": [
    "import numpy as np\n",
    "import math\n",
    "def sign(a):\n",
    "  \"\"\"\n",
    "  Funzione segno che restituisce 1 se x è positivo, 0 se x è zero e -1 se x è negativo.\n",
    "  \"\"\"\n",
    "  return math.copysign(1, a)\n",
    "def newton(fname,fpname,x0,tolx,tolf,nmax):\n",
    "        \"\"\"\n",
    "        Implementa il metodo di Newton per il calcolo degli zeri di un'equazione non lineare.\n",
    "\n",
    "        Parametri:\n",
    "        fname: La funzione di cui si vuole calcolare lo zero.\n",
    "        fpname: La derivata prima della funzione di  cui si vuole calcolare lo zero.\n",
    "        x0: iterato iniziale\n",
    "        tolx: La tolleranza di errore tra due iterati successivi\n",
    "        tolf: tolleranza sul valore della funzione\n",
    "        nmax: numero massimo di iterazione\n",
    "\n",
    "        Restituisce:\n",
    "        Lo zero approssimato della funzione, il numero di iterazioni e la lista degli iterati intermedi.\n",
    "        \"\"\" \n",
    "        xk=[]\n",
    "        fx0=fname(x0)\n",
    "        if abs(fpname(fx0))<=np.spacing(1): \n",
    "            print(\" derivata prima nulla in x0\")\n",
    "            return None, None,None\n",
    "        \n",
    "        d=fx0/fpname(x0)\n",
    "        x1=x0-d\n",
    "        \n",
    "        fx1=fname(x1)\n",
    "        xk.append(x1)\n",
    "        it=1\n",
    "        \n",
    "        while it<=nmax and  abs(fx1)>=tolf and abs(d)>=tolx*abs(x1):\n",
    "           x0= x1\n",
    "           fx0= fname(x0)\n",
    "           if abs(fpname(fx0))<=np.spacing(1): #Se la derivata prima e' pià piccola della precisione di macchina stop\n",
    "                print(\" derivata prima nulla in x0\")\n",
    "                return None, None,None\n",
    "           d=fx0/fpname(x0)\n",
    "            \n",
    "           x1=x0-d\n",
    "           fx1=fname(x1)\n",
    "           it=it+1\n",
    "         \n",
    "           xk.append(x1)\n",
    "          \n",
    "        if it==nmax:\n",
    "            print('raggiunto massimo numero di iterazioni \\n')\n",
    "            \n",
    "        \n",
    "        return x1,it,xk\n",
    "\n",
    "def metodo_bisezione(fname, a, b, tolx,nmax):\n",
    " \"\"\"\n",
    " Implementa il metodo di bisezione per il calcolo degli zeri di un'equazione non lineare.\n",
    "\n",
    " Parametri:\n",
    "  f: La funzione da cui si vuole calcolare lo zero.\n",
    "  a: L'estremo sinistro dell'intervallo di ricerca.\n",
    "  b: L'estremo destro dell'intervallo di ricerca.\n",
    "  tol: La tolleranza di errore.\n",
    "\n",
    " Restituisce:\n",
    "  Lo zero approssimato della funzione, il numero di iterazioni e la lista di valori intermedi.\n",
    " \"\"\"\n",
    " fa=fname(a)\n",
    " fb=fname(b)\n",
    " if   sign(fa)*sign(fb) >= 0:\n",
    "     print(\"Non è possibile applicare il metodo di bisezione \\n\")\n",
    "     return None, None,None\n",
    "\n",
    " it = 0\n",
    " v_xk = []\n",
    "\n",
    " maxit = math.ceil(math.log((b - a) / tolx) / math.log(2))-1\n",
    "\n",
    " \n",
    " while abs(b-a)>tolx and it<=nmax:\n",
    "    xk =  a-(b-a)/2\n",
    "    v_xk.append(xk)\n",
    "    it += 1\n",
    "    fxk=fname(xk)\n",
    "    if fxk==0:\n",
    "      return xk, it, v_xk\n",
    "\n",
    "     \n",
    "    if sign(fa)*sign(fxk)>0:   \n",
    "       a=xk\n",
    "       fa=fxk\n",
    "    elif sign(fxk)*sign(fb)>0:    \n",
    "       b=xk\n",
    "       fb=fxk\n",
    "\n",
    " \n",
    " return xk, it, v_xk"
   ]
  },
  {
   "cell_type": "code",
   "execution_count": 129,
   "id": "d0679f84",
   "metadata": {},
   "outputs": [],
   "source": [
    "import numpy as np\n",
    "import matplotlib.pyplot as plt\n",
    "def showGraph(fname):\n",
    "    x = np.linspace(-1,1,200)\n",
    "    y=fname(x)\n",
    "\n",
    "    plt.plot(x,y)\n",
    "    plt.xlabel(\"x\")\n",
    "    plt.ylabel(\"y\")\n",
    "    plt.show()"
   ]
  },
  {
   "cell_type": "code",
   "execution_count": 130,
   "id": "351fea3a",
   "metadata": {},
   "outputs": [
    {
     "data": {
      "image/png": "[encoded data removed]",
      "text/plain": [
       "<Figure size 640x480 with 1 Axes>"
      ]
     },
     "metadata": {},
     "output_type": "display_data"
    }
   ],
   "source": [
    "\n",
    "\n",
    "L=lambda x: 1/2*(5*x**3-3*x)\n",
    "\n",
    "showGraph(L)"
   ]
  },
  {
   "cell_type": "code",
   "execution_count": 131,
   "id": "be33d1f4",
   "metadata": {},
   "outputs": [
    {
     "name": "stdout",
     "output_type": "stream",
     "text": [
      "x* più vicina ad 1 =>  0.7745966692414835  trovato in  5  iterazioni\n"
     ]
    }
   ],
   "source": [
    "Lp=lambda x: 1/2*(15*x**2-3)\n",
    "x0 = 1\n",
    "xN,itN,val_N=newton(L,Lp,x0,1e-10,1e-10,500)\n",
    "print(\"x* più vicina ad 1 => \",xN,\" trovato in \",itN,\" iterazioni\")"
   ]
  },
  {
   "cell_type": "code",
   "execution_count": 132,
   "id": "d6d96884",
   "metadata": {},
   "outputs": [
    {
     "name": "stdout",
     "output_type": "stream",
     "text": [
      "zero di q =>  -0.7745966692414833  trovato in  6  iterazioni\n",
      "è uno zero anche di L\n",
      "4.375000e-01\n"
     ]
    }
   ],
   "source": [
    "q=lambda x: L(x)/(x-xN)\n",
    "qp=lambda x: (Lp(x) * (x-xN) - L(x))/((x-xN)**2)\n",
    "x0Q=-0.5\n",
    "xNQ,itNQ,val_NQ=newton(q,qp,x0Q,1e-10,1e-10,500)\n",
    "print(\"zero di q => \",xNQ,\" trovato in \",itNQ,\" iterazioni\")\n",
    "\n",
    "if L(x0Q) <= 1 and L(x0Q) >= 0:\n",
    "    print(\"è uno zero anche di L\",)\n",
    "print(\"{:e}\".format(L(x0Q)))"
   ]
  },
  {
   "cell_type": "code",
   "execution_count": 133,
   "id": "0b9d9dee",
   "metadata": {},
   "outputs": [
    {
     "name": "stdout",
     "output_type": "stream",
     "text": [
      "-3.33235132783979e+88 in  501\n",
      "Non è possibile applicare il metodo di bisezione \n",
      "\n"
     ]
    },
    {
     "data": {
      "image/png": "[encoded data removed]",
      "text/plain": [
       "<Figure size 640x480 with 1 Axes>"
      ]
     },
     "metadata": {},
     "output_type": "display_data"
    }
   ],
   "source": [
    "xL,itL,x_kL=metodo_bisezione(L,-1,1,1e-10,500)\n",
    "print(xL,\"in \",itL)\n",
    "xQ,itQ,x_kQ=metodo_bisezione(q,-1,1,1e-10,500)\n",
    "showGraph(q)"
   ]
  },
  {
   "cell_type": "markdown",
   "id": "9241c2af",
   "metadata": {},
   "source": []
  }
 ],
 "metadata": {
  "kernelspec": {
   "display_name": "Python 3 (ipykernel)",
   "language": "python",
   "name": "python3"
  },
  "language_info": {
   "codemirror_mode": {
    "name": "ipython",
    "version": 3
   },
   "file_extension": ".py",
   "mimetype": "text/x-python",
   "name": "python",
   "nbconvert_exporter": "python",
   "pygments_lexer": "ipython3",
   "version": "3.11.7"
  }
 },
 "nbformat": 4,
 "nbformat_minor": 5
}
