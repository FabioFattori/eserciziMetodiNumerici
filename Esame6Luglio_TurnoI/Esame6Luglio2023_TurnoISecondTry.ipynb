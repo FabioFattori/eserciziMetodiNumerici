{
 "cells": [
  {
   "cell_type": "markdown",
   "id": "9edf6b43-5c77-43f5-a179-9986fc68abf8",
   "metadata": {},
   "source": [
    "# Esame di Metodi Numerici - 6 Luglio 2023\n",
    "\n",
    "##                             Turno I  ore 9-11.30\n"
   ]
  },
  {
   "cell_type": "markdown",
   "id": "ff8dd546-5e8d-4dde-ab61-51251c05bad2",
   "metadata": {},
   "source": [
    "## Esercizio 1\n"
   ]
  },
  {
   "cell_type": "markdown",
   "id": "378dc3b4-702c-4e2f-b388-fc5275db9a75",
   "metadata": {},
   "source": [
    "Nel file ``Test_I.mat`` sono memorizzate le matrici A1, A2 ed A3 ed i vettori b1,b2,b3. Risolvere i 3 sistemi lineari aventi ciascuno di essi come matrice dei coefficienti A1 e termine noto b1, A2 e termine noto b2, A3 e terimine noto b3  utilizzando il metodo più adatto per ciascuno di essi e  commentare i risultati ottenuti  giustificandoli alla luce della teoria.\n",
    "Verificare se le matrici sono malcondizionate, dire teoricamente cosa questo implica e verificarlo sperimentalmente almeno per una di esse.\n",
    "\n",
    "\n",
    "Per la lettura dei dati procedere nel seguente modo:\n",
    "\n",
    "``from scipy.io import loadmat``\n",
    "\n",
    "``import numpy as np``\n",
    "\n",
    "``dati = loadmat('Test_I.mat')``\n",
    "\n",
    "``A1=dati[\"A1\"] ``\n",
    "\n",
    "``A1=A1.astype(float)``\n",
    "\n",
    "`` b1=dati[\"b1\"] ``\n",
    "\n",
    "`` b1=b1.astype(float)``\n",
    "\n",
    "``A2=dati[\"A2\"] ``\n",
    "\n",
    "``A2=A2.astype(float)``\n",
    "\n",
    "`` b2=dati[\"b2\"] ``\n",
    "\n",
    "`` b2=b2.astype(float)``\n",
    "\n",
    "``A3=dati[\"A3\"] ``\n",
    "\n",
    "``A3=A3.astype(float)``\n",
    "\n",
    "`` b3=dati[\"b3\"] ``\n",
    "\n",
    "`` b3=b3.astype(float)``\n",
    "\n",
    "\n",
    "\n",
    "                                                                    Punti 16"
   ]
  },
  {
   "cell_type": "code",
   "execution_count": 5,
   "id": "6d5c7de5-a540-4d36-aef9-ea71badbf435",
   "metadata": {},
   "outputs": [],
   "source": [
    "from scipy.io import loadmat\n",
    "\n",
    "import numpy as np\n",
    "\n",
    "dati = loadmat('Test_I.mat')\n",
    "\n",
    "A1=dati[\"A1\"] \n",
    "\n",
    "A1=A1.astype(float)\n",
    "\n",
    "b1=dati[\"b1\"] \n",
    "\n",
    "b1=b1.astype(float)\n",
    "\n",
    "A2=dati[\"A2\"] \n",
    "\n",
    "A2=A2.astype(float)\n",
    "\n",
    "b2=dati[\"b2\"] \n",
    "\n",
    "b2=b2.astype(float)\n",
    "\n",
    "A3=dati[\"A3\"] \n",
    "\n",
    "A3=A3.astype(float)\n",
    "\n",
    "b3=dati[\"b3\"] \n",
    "\n",
    "b3=b3.astype(float)"
   ]
  },
  {
   "cell_type": "code",
   "execution_count": 6,
   "id": "d605724c-5d5c-49a6-a0ac-2bee5bcd3311",
   "metadata": {},
   "outputs": [
    {
     "name": "stdout",
     "output_type": "stream",
     "text": [
      "(10, 10)\n",
      "condizionamento => 1.206149e+02\n",
      "densa\n",
      "rango massimo\n",
      "simmetrica\n",
      "------------------\n",
      "(25, 10)\n",
      "condizionamento => 1.000000e+04\n",
      "densa\n",
      "rango massimo\n",
      "------------------\n",
      "(225, 225)\n",
      "condizionamento => 1.030869e+02\n",
      "sparsa\n",
      "rango massimo\n",
      "simmetrica\n",
      "definita positiva\n",
      "------------------\n"
     ]
    }
   ],
   "source": [
    "\n",
    "def getInfo(A):\n",
    "    print(A.shape)\n",
    "    print(\"condizionamento => {:e}\".format(np.linalg.cond(A)))\n",
    "    perc = np.count_nonzero(A)\n",
    "    perc = perc/(A.shape[0] * A.shape[1]) * 100\n",
    "    if perc <= 33:\n",
    "        print(\"sparsa\")\n",
    "    else:\n",
    "        print(\"densa\")\n",
    "    maxRank(A)\n",
    "    diagStrettDominante(A)\n",
    "    if A.shape[0] == A.shape[1]:\n",
    "        simmetrica(A)\n",
    "\n",
    "def simmetrica(A):\n",
    "    if np.all(A.T==A):\n",
    "        print(\"simmetrica\")\n",
    "        defPos(A)\n",
    "\n",
    "def defPos(A):\n",
    "    val,vect = np.linalg.eig(A)\n",
    "    flag = val>0\n",
    "    if np.all(flag):\n",
    "        print(\"definita positiva\")\n",
    "\n",
    "def maxRank(A):\n",
    "    if np.linalg.matrix_rank(A) == min(A.shape):\n",
    "        print(\"rango massimo\")\n",
    "\n",
    "def diagStrettDominante(A):\n",
    "    if np.all(np.diag(A)>np.abs(A-np.diag(A))):\n",
    "        print(\"diagonale strettamente dominante\")\n",
    "\n",
    "\n",
    "getInfo(A1)\n",
    "print(\"------------------\")\n",
    "getInfo(A2)\n",
    "print(\"------------------\")\n",
    "getInfo(A3)\n",
    "print(\"------------------\")"
   ]
  },
  {
   "cell_type": "markdown",
   "id": "d0d6d392-5b92-43e0-bef6-46188ae43265",
   "metadata": {},
   "source": [
    "A1 => matrice di piccole dimensioni,quadrata, densa e ben condizionata quindi utilizzo la fattorizzazzione di Gauss.\n",
    "\n",
    "A2 => sistema sovradeterminato, mal condizionata, e a rango massimo allora utilizzo il metodo SVDLS oppure qrLS dato che non è molto mal condizionata ed ha il rango massimo.\n",
    "\n",
    "A3 => matrice di grandi dimensioni, sparsa, simmetrica e definita positiva quindi potrei utilizzare Gauss-Seidel,Gauss-SeidelSor,SteepestGradient oppure Conjugate-Gradient."
   ]
  },
  {
   "cell_type": "code",
   "execution_count": 14,
   "id": "52f0d712-aa57-42f0-b289-7e26bcafe45f",
   "metadata": {},
   "outputs": [],
   "source": [
    "import scipy.linalg as splin\n",
    "import RisolviSis as solver\n",
    "import matplotlib.pyplot as plt\n",
    "def Gauss(A,b):\n",
    "    P,L,U = splin.lu(A)\n",
    "    Pb = P.T@b\n",
    "    y,flag = solver.Lsolve(L,Pb)\n",
    "    x,flag = solver.Usolve(U,y)\n",
    "    return x\n",
    "\n",
    "def SVDLS(A,b):\n",
    "    #Risolve un sistema sovradeterminato con il metodo SVD-LS\n",
    "    m,n=A.shape  #numero di righe e  numero di colonne di A\n",
    "    U,s,VT=splin.svd(A)  #Attenzione : Restituisce U, il numpy-array 1d che contiene la diagonale della matrice Sigma e VT=VTrasposta)\n",
    "    #Quindi \n",
    "    V=VT.T\n",
    "    thresh=np.spacing(1)*m*s[0] ##Calcolo del rango della matrice, numero dei valori singolari maggiori di una soglia\n",
    "    k=np.count_nonzero(s>thresh)\n",
    "    print(\"rango=\",k)\n",
    "    d=U.T@b\n",
    "    d1=d[:k].reshape(k,1)\n",
    "    s1=s[:k].reshape(k,1)\n",
    "    #Risolve il sistema diagonale di dimensione kxk avene come matrice dei coefficienti la matrice Sigma\n",
    "    c=d1/s1\n",
    "    x=V[:,:k]@c \n",
    "    residuo=np.linalg.norm(d[k:])**2\n",
    "    return x,residuo\n",
    "def qrLS(A,b):\n",
    "#Risolve un sistema sovradeterminato con il metodo QR-LS\n",
    "    n=A.shape[1]  # numero di colonne di A\n",
    "    Q,R=splin.qr(A)\n",
    "    h=Q.T@b\n",
    "    x,flag=solver.Usolve(R[0:n,:],h[0:n])\n",
    "    residuo=np.linalg.norm(h[n:])**2\n",
    "    return x,residuo\n",
    "\n",
    "def gauss_seidel(A,b,x0,toll,it_max):\n",
    "    errore=1000\n",
    "    d=np.diag(A)\n",
    "    D=np.diag(d)\n",
    "    E=np.tril(A,-1)\n",
    "    F=np.triu(A,1)\n",
    "    M=(E+D)\n",
    "    N=-F\n",
    "    T=np.dot(np.linalg.inv(M),N)\n",
    "    autovalori=np.linalg.eigvals(T)\n",
    "    raggiospettrale=np.max(np.abs(autovalori))\n",
    "    print(\"raggio spettrale Gauss-Seidel \",raggiospettrale)\n",
    "    it=0\n",
    "    er_vet=[]\n",
    "    while it<=it_max and errore >= toll:\n",
    "        temp=b-F@x0\n",
    "        x,flag= solver.Lsolve(M,temp)\n",
    "        errore=np.linalg.norm(x-x0)/np.linalg.norm(x)\n",
    "        er_vet.append(errore)\n",
    "        x0=x.copy()\n",
    "        it=it+1\n",
    "    return x,it,er_vet"
   ]
  },
  {
   "cell_type": "code",
   "execution_count": 15,
   "id": "3dc739a4-4157-424b-b3c3-d90f1d6a3007",
   "metadata": {},
   "outputs": [
    {
     "name": "stdout",
     "output_type": "stream",
     "text": [
      "[[1.]\n",
      " [1.]\n",
      " [1.]\n",
      " [1.]\n",
      " [1.]\n",
      " [1.]\n",
      " [1.]\n",
      " [1.]\n",
      " [1.]\n",
      " [1.]]\n",
      "-----------------\n",
      "rango= 10\n",
      "soluzione x2 =>  [[1.]\n",
      " [1.]\n",
      " [1.]\n",
      " [1.]\n",
      " [1.]\n",
      " [1.]\n",
      " [1.]\n",
      " [1.]\n",
      " [1.]\n",
      " [1.]] \n",
      " residuo =>  3.016794600110773e-28\n",
      "soluzione con QRLS x2 =>  [[1.]\n",
      " [1.]\n",
      " [1.]\n",
      " [1.]\n",
      " [1.]\n",
      " [1.]\n",
      " [1.]\n",
      " [1.]\n",
      " [1.]\n",
      " [1.]] \n",
      " residuo  con QRLS =>  3.016794600110773e-28\n",
      "-----------------\n",
      "raggio spettrale Gauss-Seidel  0.9619397662556403\n"
     ]
    },
    {
     "data": {
      "image/png": "[encoded data removed]",
      "text/plain": [
       "<Figure size 640x480 with 1 Axes>"
      ]
     },
     "metadata": {},
     "output_type": "display_data"
    }
   ],
   "source": [
    "x1 = Gauss(A1,b1)\n",
    "print(x1)\n",
    "print(\"-----------------\")\n",
    "x2,res2 = SVDLS(A2,b2)\n",
    "print(\"soluzione x2 => \",x2,\"\\n residuo => \",res2)\n",
    "x2bis,res2bis = qrLS(A2,b2)\n",
    "print(\"soluzione con QRLS x2 => \",x2,\"\\n residuo  con QRLS => \",res2)\n",
    "print(\"-----------------\")\n",
    "\n",
    "toll = 1e-6\n",
    "itMax = 400\n",
    "x0 = np.zeros((A3.shape[0],1))\n",
    "\n",
    "x3,it3,errore3 = gauss_seidel(A3,b3,x0,toll,itMax)\n",
    "\n",
    "plt.semilogy(range(it3),errore3)\n",
    "plt.show()"
   ]
  },
  {
   "cell_type": "markdown",
   "id": "7f4ea495-157e-4416-a3f2-7fc87790b34f",
   "metadata": {},
   "source": [
    "Il condizionamento di una matrice ci dice di quanto la permutazione sui dati influisce il risultato finale, nel nostro caso abbiamo che la matrice A2 è mal condizionata, quindi se noi la andiamo a permutare potremmo avere un risultato che non converge con l'effettivo risultato mentre per le altre due matrici il risultato convergerà sicuramente di più rispetto ad A2:"
   ]
  },
  {
   "cell_type": "code",
   "execution_count": 33,
   "id": "7bdc9118-918c-4209-8f84-aa6e9efd45e4",
   "metadata": {},
   "outputs": [
    {
     "name": "stdout",
     "output_type": "stream",
     "text": [
      "[[0.99883188]\n",
      " [0.99643868]\n",
      " [0.99879018]\n",
      " [1.00358782]\n",
      " [0.99779629]\n",
      " [0.99958003]\n",
      " [1.00074722]\n",
      " [1.0011436 ]\n",
      " [1.00203987]\n",
      " [1.00051127]]\n",
      "errore relativo sul risultato => 1.992610e-03\n",
      "rango= 10\n",
      "SVDLS =>  [[0.93806516]\n",
      " [0.96654088]\n",
      " [0.94325957]\n",
      " [1.0718793 ]\n",
      " [1.00610063]\n",
      " [0.99677973]\n",
      " [1.01182611]\n",
      " [1.09443207]\n",
      " [0.94325452]\n",
      " [0.96174441]]\n",
      "errore relativo sul risultato => 5.208641e-02\n",
      "QRLS =>  [[0.93806516]\n",
      " [0.96654088]\n",
      " [0.94325957]\n",
      " [1.0718793 ]\n",
      " [1.00610063]\n",
      " [0.99677973]\n",
      " [1.01182611]\n",
      " [1.09443207]\n",
      " [0.94325452]\n",
      " [0.96174441]]\n",
      "errore relativo sul risultato => 5.208641e-02\n",
      "raggio spettrale Gauss-Seidel  0.961939722763806\n"
     ]
    },
    {
     "data": {
      "image/png": "[encoded data removed]",
      "text/plain": [
       "<Figure size 640x480 with 1 Axes>"
      ]
     },
     "metadata": {},
     "output_type": "display_data"
    },
    {
     "name": "stdout",
     "output_type": "stream",
     "text": [
      "errore relativo sul risultato => 9.799014e-05\n"
     ]
    }
   ],
   "source": [
    "def calcErrRel(expected,obtained):\n",
    "    return np.linalg.norm(obtained-expected,2)/np.linalg.norm(expected,2)\n",
    "\n",
    "A1per = A1.copy()\n",
    "A1per[0][0] = A1per[0][0]+0.001*A1per[0][0]\n",
    "x1per = Gauss(A1per,b1)\n",
    "print(x1per)\n",
    "print(\"errore relativo sul risultato => {:e}\".format(calcErrRel(x1,x1per)))\n",
    "\n",
    "A2per = A2.copy()\n",
    "A2per[0][0] = A2per[0][0] + A2per[0][0]*0.001\n",
    "x2per,res2per = qrLS(A2per,b2)\n",
    "x2perbis,res2perBis = SVDLS(A2per,b2)\n",
    "print(\"SVDLS => \",x2perbis)\n",
    "print(\"errore relativo sul risultato => {:e}\".format(calcErrRel(x2,x2perbis)))\n",
    "print(\"QRLS => \",x2per)\n",
    "print(\"errore relativo sul risultato => {:e}\".format(calcErrRel(x2,x2per)))\n",
    "\n",
    "A3per = A3.copy()\n",
    "A3per[0][0] = A3per[0][0] + A3per[0][0]*0.001\n",
    "x3per,it3per,err3per = gauss_seidel(A3per,b3,x0,toll,itMax)\n",
    "\n",
    "plt.semilogy(range(it3per),err3per)\n",
    "plt.semilogy(range(it3),errore3)\n",
    "plt.legend([\"matrice perturbata\",\"matrice fornita\"])\n",
    "plt.ylabel(\"errore\")\n",
    "plt.xlabel(\"iterazioni\")\n",
    "plt.show()\n",
    "print(\"errore relativo sul risultato => {:e}\".format(calcErrRel(x3,x3per)))\n",
    "\n"
   ]
  },
  {
   "cell_type": "markdown",
   "id": "6c837c7a-fc8d-4541-9a7d-0315589b6b77",
   "metadata": {},
   "source": [
    "# Esercizio 2"
   ]
  },
  {
   "cell_type": "markdown",
   "id": "602927f7-4366-4f99-9fe6-5fb4ee0ece45",
   "metadata": {},
   "source": [
    "Data l'equazione di 2° grado $$\\frac{1}{2} x^2+2bx-c=0$$"
   ]
  },
  {
   "cell_type": "markdown",
   "id": "7f29d3fc-3800-4a2e-93a1-9c31f878c266",
   "metadata": {},
   "source": [
    "con $b=10^8, c=2^{-i},i=-5,\\cdots, 9$\n",
    "\n",
    "- a) Scrivere le due formule algebriche per ricavare i valori delle 2 soluzioni\n",
    "\n",
    "                                                                                    1 punto\n",
    "- b) Studiare l'indice di condizionamento delle 2 formule algebriche, facendo uso del risultato teorico visto a lezione riguardo l'indice di condizionamento della valutazione di una funzione. (Spiegare il significato di problema mal condizionato) e dire quale delle due formule è malcondizionata. Per quali valori di $c$ il problema risulterebbe ben condizionato?\n",
    "\n",
    "                                                                                    5 punti\n",
    "\n",
    "- c) Nel caso in cui una delle due formule risulti mal condizionata, proporre una soluzione algebricamente equivalente che non sia malcondizionata.\n",
    "\n",
    "                                                                                    3 punti"
   ]
  },
  {
   "cell_type": "code",
   "execution_count": 252,
   "id": "c7f7a4d1-de2b-4799-8827-a38c84012a45",
   "metadata": {},
   "outputs": [
    {
     "name": "stdout",
     "output_type": "stream",
     "text": [
      "x1 => \n",
      " [1.49011612e-07 8.94069672e-08 2.98023224e-08 2.98023224e-08\n",
      " 0.00000000e+00 0.00000000e+00 0.00000000e+00 0.00000000e+00\n",
      " 0.00000000e+00 0.00000000e+00 0.00000000e+00 0.00000000e+00\n",
      " 0.00000000e+00 0.00000000e+00 0.00000000e+00]\n",
      "x2 => \n",
      " [-4.e+08 -4.e+08 -4.e+08 -4.e+08 -4.e+08 -4.e+08 -4.e+08 -4.e+08 -4.e+08\n",
      " -4.e+08 -4.e+08 -4.e+08 -4.e+08 -4.e+08 -4.e+08]\n",
      "---------------------------------\n",
      "spacing di 2b^2 => \n",
      " 8.0\n",
      "valori di 2*c => \n",
      " [3.200000e+01 1.600000e+01 8.000000e+00 4.000000e+00 2.000000e+00\n",
      " 1.000000e+00 5.000000e-01 2.500000e-01 1.250000e-01 6.250000e-02\n",
      " 3.125000e-02 1.562500e-02 7.812500e-03 3.906250e-03 1.953125e-03]\n",
      "---------------------------------\n",
      "condizionamento 1=>\n",
      " [953.67431641 286.10229492  47.68371582  23.84185791   0.\n",
      "   0.           0.           0.           0.           0.\n",
      "   0.           0.           0.           0.           0.        ]\n",
      "condizionamento 2=>\n",
      " [2.5600e+18 1.2800e+18 6.4000e+17 3.2000e+17 1.6000e+17 8.0000e+16\n",
      " 4.0000e+16 2.0000e+16 1.0000e+16 5.0000e+15 2.5000e+15 1.2500e+15\n",
      " 6.2500e+14 3.1250e+14 1.5625e+14]\n"
     ]
    },
    {
     "data": {
      "image/png": "[encoded data removed]",
      "text/plain": [
       "<Figure size 640x480 with 1 Axes>"
      ]
     },
     "metadata": {},
     "output_type": "display_data"
    }
   ],
   "source": [
    "import sympy as sym\n",
    "import sympy.utilities.lambdify as lamb\n",
    "\n",
    "x = sym.symbols(\"x\")\n",
    "b = sym.symbols(\"b\")\n",
    "c = sym.symbols(\"c\")\n",
    "\n",
    "# x12 = (-b+-delta)/2a => -b+-delta => delta = np.sqrt(b**2-2c)\n",
    "\n",
    "x1 = -b+sym.sqrt(b**2+2*c)\n",
    "x2 = -b-sym.sqrt(b**2+2*c)\n",
    "x1d = sym.diff(x1,c)\n",
    "x2d = sym.diff(x2,c)\n",
    "\n",
    "x1_b = x1.subs(b,2*10**8)\n",
    "x2_b = x2.subs(b,2*10**8)\n",
    "x1d_b = x1d.subs(b,2*10**8)\n",
    "x2d_b = x2d.subs(b,2*10**8)\n",
    "\n",
    "i = np.arange(-5,10)\n",
    "vec_i = 2.0**(-i)\n",
    "\n",
    "fx1 = lamb(c,x1_b,np)\n",
    "fx2 = lamb(c,x2_b,np)\n",
    "fdx1 = lamb(c,x1d_b,np)\n",
    "fdx2 = lamb(c,x2d_b,np)\n",
    "\n",
    "\n",
    "sol1 = fx1(vec_i)\n",
    "sol2 = fx2(vec_i)\n",
    "print(\"x1 => \\n\",sol1)\n",
    "print(\"x2 => \\n\",sol2)\n",
    "print(\"---------------------------------\")\n",
    "print(\"spacing di 2b^2 => \\n\",np.spacing(4*10**16))\n",
    "print(\"valori di 2*c => \\n\",vec_i)\n",
    "print(\"---------------------------------\")\n",
    "cond1 = np.abs(fx1(vec_i)*vec_i / fdx1(vec_i))\n",
    "print(\"condizionamento 1=>\\n\",cond1)\n",
    "cond2 = np.abs(fx2(vec_i)*vec_i / fdx2(vec_i))\n",
    "print(\"condizionamento 2=>\\n\",cond2 )\n",
    "plt.semilogy(cond1,\"-*\",cond2,\"-o\")\n",
    "plt.legend([\"cond1\",\"cond2\"])\n",
    "plt.show()"
   ]
  },
  {
   "cell_type": "code",
   "execution_count": null,
   "id": "5162a2ae-a8fe-459f-b267-29779ff5df26",
   "metadata": {},
   "outputs": [],
   "source": [
    "tramite cond2 possiamo vedere come la seconda formula risolutiva sia malcondizionata dato che assume valori enormi"
   ]
  },
  {
   "cell_type": "markdown",
   "id": "a37c8888-3dfe-4ea5-a93b-e0adab565e1b",
   "metadata": {},
   "source": [
    "                                                                        Totale 9 punti"
   ]
  },
  {
   "cell_type": "markdown",
   "id": "911860d3-45d8-45fc-99f2-bf79c64f1a80",
   "metadata": {},
   "source": [
    "## Domanda intelligenza artificiale"
   ]
  },
  {
   "cell_type": "markdown",
   "id": "31f72b3e-3533-4866-bf02-44fea1b7c825",
   "metadata": {},
   "source": [
    "- Limiti delle reti MLP (multilayer Perceptron) ed introduzione delle Reti neurali Convoluzionali. \n",
    "- Architettura di una rete neurale convoluzionale: strati convoluzionali, attivazione non lineare e pooling + parte fully connected.\n",
    "- Loss function per il task della regressione.  Training di una rete. \n",
    "- Cenni sull'algoritmo di backpropagation per il calcolo delle derivate parziale della funzione costo rispetto ai pesi ditutti i layer .\n",
    "- Tecniche di Ottimizzazione: metodo di discesa del gradient batch, metodo del gradiente stocastico (SGD) ,metodo del gradiente stocastico minibatch.\n",
    "                                                                                [7  punti]\n"
   ]
  }
 ],
 "metadata": {
  "kernelspec": {
   "display_name": "Python 3 (ipykernel)",
   "language": "python",
   "name": "python3"
  },
  "language_info": {
   "codemirror_mode": {
    "name": "ipython",
    "version": 3
   },
   "file_extension": ".py",
   "mimetype": "text/x-python",
   "name": "python",
   "nbconvert_exporter": "python",
   "pygments_lexer": "ipython3",
   "version": "3.11.7"
  }
 },
 "nbformat": 4,
 "nbformat_minor": 5
}
