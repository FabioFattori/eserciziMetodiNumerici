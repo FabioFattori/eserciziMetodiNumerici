{
 "cells": [
  {
   "cell_type": "markdown",
   "id": "b97be3ab-d6dd-495f-a342-e5e837cfb8bc",
   "metadata": {},
   "source": [
    "#                       Esercitazione 4 - 12 Marzo 2023"
   ]
  },
  {
   "cell_type": "markdown",
   "id": "8c87694a-727f-410f-a307-3f35f0dcc933",
   "metadata": {},
   "source": [
    "Esplorate le caratteristiche dell'insieme dei numeri di macchina F($\\beta$,t,L,U) sul vostro calcolatore utilizzando il comando sys.float_info, dopo aver importato im modulo sys:\n",
    "\n",
    "import sys\n",
    "\n",
    "print(sys.float_info)"
   ]
  },
  {
   "cell_type": "code",
   "execution_count": 2,
   "id": "41befe1d-4b51-40b3-a8bc-db8b2d2b886e",
   "metadata": {
    "tags": []
   },
   "outputs": [
    {
     "name": "stdout",
     "output_type": "stream",
     "text": [
      "sys.float_info(max=1.7976931348623157e+308, max_exp=1024, max_10_exp=308, min=2.2250738585072014e-308, min_exp=-1021, min_10_exp=-307, dig=15, mant_dig=53, epsilon=2.220446049250313e-16, radix=2, rounds=1)\n"
     ]
    }
   ],
   "source": [
    "import sys\n",
    "print(sys.float_info)"
   ]
  },
  {
   "cell_type": "markdown",
   "id": "82c24c2e-15d3-4e96-8436-8a2c4b01011b",
   "metadata": {},
   "source": [
    "min_exp=-1021   (L=-1021-1=-1022)\n",
    "\n",
    "max_exp=1024    (U=1024-1=1023)\n",
    "\n",
    "mant_dig=53 (incluso l'hidden bit)\n",
    "\n",
    "dig=15, significa che i numeri \"float\" vengono convertiti in stringhe con un massimo di 15 cifre decimali. Le cifre decimali oltre la quindicesima vengono eliminate (troncate). (solo a livello di stringa visualizzata)"
   ]
  },
  {
   "cell_type": "markdown",
   "id": "224ac7e6-31df-4f15-8ffc-9c82bd21c82e",
   "metadata": {},
   "source": [
    "- **1.**  Calcolare lo spacing in  $[2^{52}, 2^{53}]$.\n",
    "    - Sia $x=2^{52}$ individuare il numero successivo a $2^{52}$ ed assegnarlo ad una variabile  y.\n",
    "    - Cosa succede se consideriamo il valore z=x+0.5?\n",
    "    - Cosa succede se consideriamo il valore q=y+0.5?\n",
    "  "
   ]
  },
  {
   "cell_type": "code",
   "execution_count": 6,
   "id": "365b7f8d",
   "metadata": {},
   "outputs": [
    {
     "name": "stdout",
     "output_type": "stream",
     "text": [
      "lo spacing è  1.0\n",
      "il prossimo numero è  4503599627370497.0\n",
      "z =  4503599627370496.0\n",
      "q =  4503599627370498.0\n"
     ]
    }
   ],
   "source": [
    "base=2.0\n",
    "nextExp=53\n",
    "currentExp=52\n",
    "spacing=base**(currentExp+1-nextExp)\n",
    "print(\"lo spacing è \",spacing)\n",
    "x=base**currentExp+spacing\n",
    "print(\"il prossimo numero è \",x)\n",
    "z=base**currentExp+0.5\n",
    "print(\"z = \",z)\n",
    "q=base**currentExp+spacing+0.5\n",
    "print(\"q = \",q)"
   ]
  },
  {
   "cell_type": "markdown",
   "id": "c73d1758-eb82-48af-8618-6dfb522dcdd6",
   "metadata": {},
   "source": [
    "- **2** Calcolare la cardinalità dell'insieme dei numeri finiti di Python"
   ]
  },
  {
   "cell_type": "code",
   "execution_count": 7,
   "id": "0ea00214",
   "metadata": {},
   "outputs": [
    {
     "name": "stdout",
     "output_type": "stream",
     "text": [
      "la cardinalità è =>  1.842872967520007e+19\n"
     ]
    }
   ],
   "source": [
    "min=-1022\n",
    "max=1023\n",
    "base= 2.0\n",
    "t=53\n",
    "print(\"la cardinalità è => \",base*(base-1)*base**(t-1)*(max-min+1)+1)"
   ]
  },
  {
   "cell_type": "markdown",
   "id": "cee853bd-aca6-47f4-980f-7e44473f7523",
   "metadata": {},
   "source": [
    "- **3**  Verificare numericamente che $\\texttt{eps} = 2^{-52}$, spacing nell'intervallo $[1, 2]$,\n",
    "è il piu' piccolo $x$ tale che $fl(1 + x)$ è  diverso da $1$. \n"
   ]
  },
  {
   "cell_type": "code",
   "execution_count": 13,
   "id": "e65e33bf",
   "metadata": {},
   "outputs": [
    {
     "name": "stdout",
     "output_type": "stream",
     "text": [
      "lo spacing è in [1,2]  2.220446049250313e-16\n",
      "il prossimo numero è  1.0000000000000002\n",
      "f+s/2 =>  1.0\n"
     ]
    }
   ],
   "source": [
    "min=0\n",
    "max=1\n",
    "base= 2.0\n",
    "spacing=base**(min+1-t)\n",
    "print(\"lo spacing è in [1,2] \",spacing)\n",
    "f=base**min\n",
    "nextNumber=f+spacing\n",
    "print(\"il prossimo numero è \",nextNumber)\n",
    "print(\"f+s/2 => \",f+spacing/2)"
   ]
  },
  {
   "cell_type": "markdown",
   "id": "35d7206c-f742-4616-b92c-91b37127a4d3",
   "metadata": {},
   "source": [
    "- **4** Costruire un numpy array costituito da n=10 valori tutti uguali a 0.1\n",
    "-     Effettuate la somma utilizzando un ciclo for.\n",
    "-     Effettuate la somma effettuando la somma con la funzione sum del modulo numpy.\n",
    "  Cosa osservate? Cercate di giustificare i risultati "
   ]
  },
  {
   "cell_type": "code",
   "execution_count": 16,
   "id": "4f9765bc",
   "metadata": {},
   "outputs": [
    {
     "name": "stdout",
     "output_type": "stream",
     "text": [
      "somma for  0.9999999999999999\n",
      "somma numpy  1.0\n"
     ]
    }
   ],
   "source": [
    "import numpy \n",
    "arr=numpy.full(10,0.1)\n",
    "sum=0.0\n",
    "for i in range(arr.size):\n",
    "    sum+=arr[i]\n",
    "print(\"somma for \",sum)\n",
    "print(\"somma numpy \",numpy.sum(arr))"
   ]
  },
  {
   "cell_type": "markdown",
   "id": "d19cd104-d1ea-4444-996c-0a9672063450",
   "metadata": {},
   "source": [
    "- **5.** Siano $a=1.234567890123400 e+15$, $b=-1.234567890123401 e+15$, $c=0.06$. \n",
    "  Calcolare $(a+b)+c$, $(a+c)+b$, $a+(b+c)$. Che cosa si osserva? Ripetere l'esercizio con $a=0.23371258 e-4$, $b=0.33678429 e+2$, $c=-0.33677911 e+2$."
   ]
  },
  {
   "cell_type": "code",
   "execution_count": 19,
   "id": "daa8e0d9",
   "metadata": {},
   "outputs": [
    {
     "name": "stdout",
     "output_type": "stream",
     "text": [
      "(a+b)+c =  -0.94\n",
      "a+(b+c) =  -1.0\n",
      "(a+c)+b =  -1.0\n",
      "spacing di a  6.938893903907228e-18\n"
     ]
    }
   ],
   "source": [
    "a = 1.234567890123400e+15\n",
    "b = -1.234567890123401e+15\n",
    "c = 0.06\n",
    "print(\"(a+b)+c = \",(a+b)+c)\n",
    "print(\"a+(b+c) = \",a+(b+c))\n",
    "print(\"(a+c)+b = \",(a+c)+b)\n",
    "print(\"spacing di c \",numpy.spacing(c))"
   ]
  },
  {
   "cell_type": "markdown",
   "id": "960d25c1-9677-4b1e-92c1-c16870d520b6",
   "metadata": {},
   "source": [
    "- **6.** Si considerino le espressioni $y_1=\\sqrt{x^2+1}-x$ e $y_2=\\frac{1}{\\sqrt{x^2+1}+x}$. Calcolare il valore di $y_1$ e $y_2$ per $x=7777$ e $x=77777777$. Che cosa si osserva? Commentare i risultati ottenuti."
   ]
  },
  {
   "cell_type": "code",
   "execution_count": 22,
   "id": "469776d3",
   "metadata": {},
   "outputs": [
    {
     "name": "stdout",
     "output_type": "stream",
     "text": [
      "y1(x1) =  6.429214317904552e-05\n",
      "y2(x1) =  6.429214323431402e-05\n",
      "y1(x2) =  0.0\n",
      "y2(x2) =  6.428571492857143e-09\n"
     ]
    }
   ],
   "source": [
    "import math as Math\n",
    "x1=7777\n",
    "x2=77777777\n",
    "def y1(x):\n",
    "    return Math.sqrt(x**2+1)-x\n",
    "def y2(x):\n",
    "    return 1/(Math.sqrt(x**2+1)+x)\n",
    "\n",
    "print(\"y1(x1) = \",y1(x1))\n",
    "print(\"y2(x1) = \",y2(x1))\n",
    "print(\"y1(x2) = \",y1(x2))\n",
    "print(\"y2(x2) = \",y2(x2))\n"
   ]
  },
  {
   "cell_type": "markdown",
   "id": "e3d8c3b3-d514-41ec-a6f2-eb22311ab157",
   "metadata": {},
   "source": [
    "- **7.** Valutare in aritmetica floating point l'espressione\n",
    "$A(x)=\\frac{1}{x}-\\frac{1}{(x+1)}$  nel vettore   $x=[10^0, 10^1,... ,10^{20}]$ contenente potenze successive  di $10$,  Si calcoli per ogni elemento di x l'errore relativo considerando come valore esatto quello calcolato usando  l'espressione algebricamente equivalente\n",
    "$$\n",
    "B(x)=\\frac{1}{x (x+1)}.\n",
    "$$ Si visualizzi l'errore relativo in un grafico in scala logaritmica su $x$ e $y$"
   ]
  },
  {
   "cell_type": "code",
   "execution_count": 31,
   "id": "74be9305",
   "metadata": {},
   "outputs": [
    {
     "name": "stdout",
     "output_type": "stream",
     "text": [
      "x =  [1.e+00 1.e+01 1.e+02 1.e+03 1.e+04 1.e+05 1.e+06 1.e+07 1.e+08 1.e+09\n",
      " 1.e+10 1.e+11 1.e+12 1.e+13 1.e+14 1.e+15 1.e+16 1.e+17 1.e+18 1.e+19]\n",
      "-------------------\n",
      "x =  1.0\n",
      "A(x) =  0.5\n",
      "B(x) =  0.5\n",
      "errore relativo =  0.5\n",
      "-------------------\n",
      "x =  10.0\n",
      "A(x) =  0.009090909090909094\n",
      "B(x) =  0.00909090909090909\n",
      "errore relativo =  0.990909090909091\n",
      "-------------------\n",
      "x =  100.0\n",
      "A(x) =  9.90099009900991e-05\n",
      "B(x) =  9.900990099009902e-05\n",
      "errore relativo =  0.9999009900990099\n",
      "-------------------\n",
      "x =  1000.0\n",
      "A(x) =  9.990009990010207e-07\n",
      "B(x) =  9.99000999000999e-07\n",
      "errore relativo =  0.999999000999001\n",
      "-------------------\n",
      "x =  10000.0\n",
      "A(x) =  9.999000099989363e-09\n",
      "B(x) =  9.999000099990002e-09\n",
      "errore relativo =  0.9999999900009999\n",
      "-------------------\n",
      "x =  100000.0\n",
      "A(x) =  9.99990000100624e-11\n",
      "B(x) =  9.99990000099999e-11\n",
      "errore relativo =  0.999999999900001\n",
      "-------------------\n",
      "x =  1000000.0\n",
      "A(x) =  9.999989998934512e-13\n",
      "B(x) =  9.99999000001e-13\n",
      "errore relativo =  0.999999999999\n",
      "-------------------\n",
      "x =  10000000.0\n",
      "A(x) =  9.999998990718643e-15\n",
      "B(x) =  9.9999990000001e-15\n",
      "errore relativo =  0.99999999999999\n",
      "-------------------\n",
      "x =  100000000.0\n",
      "A(x) =  1.0000000003187713e-16\n",
      "B(x) =  9.999999900000002e-17\n",
      "errore relativo =  0.9999999999999999\n",
      "-------------------\n",
      "x =  1000000000.0\n",
      "A(x) =  1.0000001492112815e-18\n",
      "B(x) =  9.99999999e-19\n",
      "errore relativo =  1.0\n",
      "-------------------\n",
      "x =  10000000000.0\n",
      "A(x) =  1.0000006145003761e-20\n",
      "B(x) =  9.999999999e-21\n",
      "errore relativo =  1.0\n",
      "-------------------\n",
      "x =  100000000000.0\n",
      "A(x) =  9.999999682655225e-23\n",
      "B(x) =  9.999999999899999e-23\n",
      "errore relativo =  1.0\n",
      "-------------------\n",
      "x =  1000000000000.0\n",
      "A(x) =  1.0000484358795393e-24\n",
      "B(x) =  9.99999999999e-25\n",
      "errore relativo =  1.0\n",
      "-------------------\n",
      "x =  10000000000000.0\n",
      "A(x) =  1.0009067165444198e-26\n",
      "B(x) =  9.999999999999e-27\n",
      "errore relativo =  1.0\n",
      "-------------------\n",
      "x =  100000000000000.0\n",
      "A(x) =  9.939647405784749e-29\n",
      "B(x) =  9.999999999999899e-29\n",
      "errore relativo =  1.0\n",
      "-------------------\n",
      "x =  1000000000000000.0\n",
      "A(x) =  9.860761315262648e-31\n",
      "B(x) =  9.99999999999999e-31\n",
      "errore relativo =  1.0\n",
      "-------------------\n",
      "x =  1e+16\n",
      "A(x) =  0.0\n",
      "B(x) =  9.999999999999999e-33\n",
      "errore relativo =  1.0\n",
      "-------------------\n",
      "x =  1e+17\n",
      "A(x) =  0.0\n",
      "B(x) =  1.0000000000000001e-34\n",
      "errore relativo =  1.0\n",
      "-------------------\n",
      "x =  1e+18\n",
      "A(x) =  0.0\n",
      "B(x) =  1e-36\n",
      "errore relativo =  1.0\n",
      "-------------------\n",
      "x =  1e+19\n",
      "A(x) =  0.0\n",
      "B(x) =  1e-38\n",
      "errore relativo =  1.0\n",
      "-------------------\n"
     ]
    }
   ],
   "source": [
    "import numpy \n",
    "\n",
    "x=numpy.array([10**i for i in range(0,20)])\n",
    "print(\"x = \",x)\n",
    "print(\"-------------------\")\n",
    "A = lambda x: 1/x - 1/(x+1)\n",
    "B = lambda x: 1/(x*(x+1))\n",
    "\n",
    "for i in range(x.size):\n",
    "    print(\"x = \",x[i])\n",
    "    print(\"A(x) = \",A(x[i]))\n",
    "    print(\"B(x) = \",B(x[i]))\n",
    "    print(\"errore relativo = \",numpy.abs(A(x[i])-B(x[i])/numpy.abs(B(x[i]))))\n",
    "    print(\"-------------------\")\n",
    "\n"
   ]
  },
  {
   "cell_type": "markdown",
   "id": "27155dcd-6580-4e3d-aac9-fa42b717bf70",
   "metadata": {},
   "source": [
    "- **8-**  Risolvere l'equazione $x^2+10^k x+1=0$ con k in range(1,9). \n",
    "\n",
    "- Scrivere un codice Python che calcola le due radici: x1=(-b+sqrt(Delta))/2  e x2=(-b-sqrt(Delta))/2, dove Delta=b^2-4ac,  per tutti i valori di k in range(1,9)\n",
    "\n",
    "- Calcolare l'errore relativo della soluzione numerica x1 rispetto alla soluzione in aritmetica reale, che per valori di k alti è  uguale a $10^{-k}$, altrimenti è una sua approssimazione. \n",
    "\n",
    "- Visualizzare l'errore relativo per ogni valore di k.\n",
    "\n",
    "- Proporre un algoritmo aleternativo per il calcolo di una delle due soluzioni, che fornisca errore relativo inferiore."
   ]
  },
  {
   "cell_type": "code",
   "execution_count": 36,
   "id": "a256be59",
   "metadata": {},
   "outputs": [
    {
     "name": "stdout",
     "output_type": "stream",
     "text": [
      "delta =  96\n",
      "x1 =  -0.10102051443364424\n",
      "x2 =  -9.898979485566356\n",
      "errore relativo =  0.04\n",
      "-------------------\n",
      "delta =  9996\n",
      "x1 =  -0.010001000200048793\n",
      "x2 =  -99.98999899979995\n",
      "errore relativo =  0.0004\n",
      "-------------------\n",
      "delta =  999996\n",
      "x1 =  -0.0010000010000226212\n",
      "x2 =  -999.998999999\n",
      "errore relativo =  4e-06\n",
      "-------------------\n",
      "delta =  99999996\n",
      "x1 =  -0.00010000000111176632\n",
      "x2 =  -9999.999899999999\n",
      "errore relativo =  4e-08\n",
      "-------------------\n",
      "delta =  9999999996\n",
      "x1 =  -1.0000003385357559e-05\n",
      "x2 =  -99999.99999\n",
      "errore relativo =  4e-10\n",
      "-------------------\n",
      "delta =  999999999996\n",
      "x1 =  -1.00000761449337e-06\n",
      "x2 =  -999999.999999\n",
      "errore relativo =  4e-12\n",
      "-------------------\n",
      "delta =  99999999999996\n",
      "x1 =  -9.96515154838562e-08\n",
      "x2 =  -9999999.9999999\n",
      "errore relativo =  4e-14\n",
      "-------------------\n",
      "delta =  9999999999999996\n",
      "x1 =  -7.450580596923828e-09\n",
      "x2 =  -100000000.0\n",
      "errore relativo =  4e-16\n",
      "-------------------\n"
     ]
    }
   ],
   "source": [
    "import numpy as np\n",
    "delta=lambda a,b,c: b**2-4*a*c\n",
    "x1=lambda a,b,c: (-b+numpy.sqrt(delta(a,b,c)))/(2*a)\n",
    "x2=lambda a,b,c: (-b-numpy.sqrt(delta(a,b,c)))/(2*a)\n",
    "a=1\n",
    "k=np.arange(0,20)\n",
    "b=[10**k[i] for i in range(k.__len__())]\n",
    "c=1\n",
    "for i in range(b.__len__()):\n",
    "    print(\"delta = \",delta(a,b[i],c))\n",
    "    print(\"x1 = \",x1(a,b[i],c))\n",
    "    print(\"x2 = \",x2(a,b[i],c))\n",
    "    print(\"errore relativo = \",numpy.abs(delta(a,b[i],c)-b[i]**2)/numpy.abs(b[i]**2))\n",
    "    print(\"-------------------\")"
   ]
  },
  {
   "cell_type": "markdown",
   "id": "9f6294cc-b0df-40b8-a1f5-450f4e756ffa",
   "metadata": {},
   "source": [
    "- **9.** Scrivere uno script Matlab che fornisca le approssimazioni di $e=\\exp(1)$ ottenute con la formula\n",
    "$f(n)=(1/n+1)^n$ per $n=10^k$ e  $k=0, ..., 16$. \n",
    "\n",
    "Visualizzare  un grafico con i valori di $f(n)$ al variare di n ed un grafico con i valori dell'errore relativo (considerando come valore esatto il valore math.exp(1)).  Cosa si osserva? Commentare i risultati ottenuti."
   ]
  },
  {
   "cell_type": "code",
   "execution_count": 45,
   "id": "de9f90ae-afca-4294-9acd-05585d601eb7",
   "metadata": {},
   "outputs": [
    {
     "name": "stdout",
     "output_type": "stream",
     "text": [
      "fn =  [2.         2.59374246 2.70481383 2.71692393 2.71814593 2.71826824\n",
      " 2.71828047 2.71828169 2.7182818  2.71828205 2.71828205 2.71828205\n",
      " 2.7185235  2.71611003 2.71611003 3.03503521 1.        ]\n",
      "spacing =  4.440892098500626e-16\n"
     ]
    },
    {
     "data": {
      "image/png": "[encoded data removed]",
      "text/plain": [
       "<Figure size 640x480 with 1 Axes>"
      ]
     },
     "metadata": {},
     "output_type": "display_data"
    }
   ],
   "source": [
    "import numpy as np\n",
    "import matplotlib.pyplot as plt\n",
    "k=np.arange(0,17)\n",
    "n=10**k\n",
    "fn=(1/n+1)**n\n",
    "print(\"fn = \",fn)\n",
    "value = np.exp(1)\n",
    "\n",
    "spacing = np.spacing(value)\n",
    "print(\"spacing = \",spacing)\n",
    "\n",
    "plt.plot(fn, label='fn',marker='o',color='blue')\n",
    "plt.plot(value*np.ones((17,1)), label='e',marker='o',color='red')\n",
    "plt.legend()\n",
    "plt.show()"
   ]
  }
 ],
 "metadata": {
  "kernelspec": {
   "display_name": "Python 3 (ipykernel)",
   "language": "python",
   "name": "python3"
  },
  "language_info": {
   "codemirror_mode": {
    "name": "ipython",
    "version": 3
   },
   "file_extension": ".py",
   "mimetype": "text/x-python",
   "name": "python",
   "nbconvert_exporter": "python",
   "pygments_lexer": "ipython3",
   "version": "3.11.5"
  }
 },
 "nbformat": 4,
 "nbformat_minor": 5
}
