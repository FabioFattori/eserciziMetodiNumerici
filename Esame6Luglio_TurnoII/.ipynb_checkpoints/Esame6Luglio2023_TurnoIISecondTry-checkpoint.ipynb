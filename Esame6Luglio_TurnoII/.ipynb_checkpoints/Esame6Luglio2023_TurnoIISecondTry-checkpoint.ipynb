{
 "cells": [
  {
   "cell_type": "markdown",
   "id": "9edf6b43-5c77-43f5-a179-9986fc68abf8",
   "metadata": {},
   "source": [
    "# Esame di Metodi Numerici - 6 Luglio 2023\n",
    "## Turno II -- Ore 11.45"
   ]
  },
  {
   "cell_type": "markdown",
   "id": "ff8dd546-5e8d-4dde-ab61-51251c05bad2",
   "metadata": {},
   "source": [
    "## Esercizio 1\n"
   ]
  },
  {
   "cell_type": "markdown",
   "id": "378dc3b4-702c-4e2f-b388-fc5275db9a75",
   "metadata": {},
   "source": [
    "Nel file ``Test_II.mat`` sono memorizzate le matrici A1, A2 ed A3 ed i vettori b1,b2,b3. Risolvere i 3 sistemi lineari aventi ciascuno di essi come matrice dei coefficienti A1 e termine noto b1, A2 e termine noto b2, A3 e terimine noto b3  utilizzando il metodo più adatto per ciascuno di essi e  commentare i risultati ottenuti  giustificandoli alla luce della teoria.\n",
    "Verificare se le matrici sono malcondizionate, dire teoricamente cosa questo implica e verificarlo sperimentalmente.\n",
    "\n",
    "\n",
    "Per la lettura dei dati procedere nel seguente modo:\n",
    "\n",
    "``from scipy.io import loadmat``\n",
    "\n",
    "``import numpy as np``\n",
    "\n",
    "``dati = loadmat('Test_II.mat')``\n",
    "\n",
    "``A1=dati[\"A1\"] ``\n",
    "\n",
    "``A1=A1.astype(float)``\n",
    "\n",
    "`` b1=dati[\"b1\"] ``\n",
    "\n",
    "`` b1=b1.astype(float)``\n",
    "\n",
    "``A2=dati[\"A2\"] ``\n",
    "\n",
    "``A2=A2.astype(float)``\n",
    "\n",
    "`` b2=dati[\"b2\"] ``\n",
    "\n",
    "`` b2=b2.astype(float)``\n",
    "\n",
    "``A3=dati[\"A3\"] ``\n",
    "\n",
    "``A3=A3.astype(float)``\n",
    "\n",
    "`` b3=dati[\"b3\"] ``\n",
    "\n",
    "`` b3=b3.astype(float)``\n",
    "\n",
    "\n",
    "\n",
    "                                                                    Punti 16"
   ]
  },
  {
   "cell_type": "code",
   "execution_count": 6,
   "id": "3f9dd48a-e734-4e55-b6b3-dc3493c810e0",
   "metadata": {
    "jupyter": {
     "source_hidden": true
    },
    "tags": []
   },
   "outputs": [],
   "source": [
    "from scipy.io import loadmat\n",
    "\n",
    "import numpy as np\n",
    "\n",
    "dati = loadmat('Test_II.mat')\n",
    "\n",
    "A1=dati[\"A1\"] \n",
    "\n",
    "A1=A1.astype(float)\n",
    "\n",
    "b1=dati[\"b1\"] \n",
    "\n",
    "b1=b1.astype(float)\n",
    "\n",
    "A2=dati[\"A2\"] \n",
    "\n",
    "A2=A2.astype(float)\n",
    "\n",
    "b2=dati[\"b2\"] \n",
    "\n",
    "b2=b2.astype(float)\n",
    "\n",
    "A3=dati[\"A3\"] \n",
    "\n",
    "A3=A3.astype(float)\n",
    "\n",
    "b3=dati[\"b3\"] \n",
    "\n",
    "b3=b3.astype(float)"
   ]
  },
  {
   "cell_type": "code",
   "execution_count": 13,
   "id": "2a2b0b4e-b61f-42ac-8789-6f24768e936e",
   "metadata": {
    "tags": []
   },
   "outputs": [],
   "source": [
    "def getInfo(A):\n",
    "    print(A.shape)\n",
    "    cond(A)\n",
    "    checkSparsa(A)\n",
    "    if A.shape[0] == A.shape[1]:\n",
    "        simmetrica(A)\n",
    "    maxRank(A)\n",
    "    diagStrettamenteDominante(A)\n",
    "    return\n",
    "\n",
    "def simmetrica(A):\n",
    "    if np.all(A.T==A):\n",
    "        print(\"simmetrica\")\n",
    "        defPos(A)\n",
    "        \n",
    "def defPos(A):\n",
    "    val,vec = np.linalg.eig(A)\n",
    "    flag = val > 0\n",
    "    if np.all(flag):\n",
    "        print(\"def pos\")\n",
    "        \n",
    "def maxRank(A):\n",
    "    if np.linalg.matrix_rank(A) == min(A.shape):\n",
    "        print(\"rango massimo\")\n",
    "\n",
    "def diagStrettamenteDominante(A):\n",
    "    if np.all(np.diag(A)>np.abs(A-np.diag(A))):\n",
    "        print(\"diagonale strettamente dominante\")\n",
    "        \n",
    "def cond(A):\n",
    "    print(\"indice di condizionamento => {:e}\".format(np.linalg.cond(A)))\n",
    "\n",
    "def checkSparsa(A):\n",
    "    nonZero = np.count_nonzero(A)\n",
    "    perc = nonZero/(A.shape[0]*A.shape[1]) * 100\n",
    "    if perc <= 33:\n",
    "        print(\"sparsa\")\n",
    "    else:\n",
    "        print(\"densa\")\n",
    "    print(perc,\"%\")\n"
   ]
  },
  {
   "cell_type": "code",
   "execution_count": 15,
   "id": "a49d8fa1-dd1d-49bc-9534-6bd5f5e8cc19",
   "metadata": {
    "tags": []
   },
   "outputs": [
    {
     "name": "stdout",
     "output_type": "stream",
     "text": [
      "(15, 15)\n",
      "indice di condizionamento => 1.680111e+07\n",
      "densa\n",
      "100.0 %\n",
      "simmetrica\n",
      "def pos\n",
      "rango massimo\n",
      "diagonale strettamente dominante\n",
      "--------------------------\n",
      "(15, 6)\n",
      "indice di condizionamento => 1.000000e+01\n",
      "densa\n",
      "100.0 %\n",
      "rango massimo\n",
      "--------------------------\n",
      "(225, 225)\n",
      "indice di condizionamento => 1.185268e+00\n",
      "sparsa\n",
      "2.528395061728395 %\n",
      "rango massimo\n",
      "--------------------------\n"
     ]
    }
   ],
   "source": [
    "getInfo(A1)\n",
    "print(\"--------------------------\")\n",
    "getInfo(A2)\n",
    "print(\"--------------------------\")\n",
    "getInfo(A3)\n",
    "print(\"--------------------------\")"
   ]
  },
  {
   "cell_type": "markdown",
   "id": "359531b8-644f-48d9-b287-16f27a3d69e7",
   "metadata": {},
   "source": [
    "A1 => dato che è mal condizionata, quadrata e densa potrei utilizzare il metodo QR, oppure dato che è simmetrica e definita positiva potrei utilizzare la fattorizzazione di cholensky.\n",
    "\n",
    "A2 => sistema sovradeterminanto e ben condizionata quindi utilizzo il metodo delle equazioni normali.\n",
    "\n",
    "A3 => questa matrice è di grandi dimensioni e sparsa, il problema è che non è ne simmetrica e definita positiva e ne a diagonale strettamente dominante quindi metodi come jacobi, steepestDescent e conjugate gradiente non sono indicati; rimane Gauss-Seidel e Gauss-SeidelSor anche se fanno potrebbero fare comunque un pò fatica a trovare la soluzione."
   ]
  },
  {
   "cell_type": "code",
   "execution_count": 57,
   "id": "d338c258-48db-43d5-b103-6a008919a5e0",
   "metadata": {
    "tags": []
   },
   "outputs": [],
   "source": [
    "import RisolviSis as solver\n",
    "import scipy.linalg as splin\n",
    "def eqnorm(A,b):\n",
    "#Risolve un sistema sovradeterminato con il metodo delle equazioni normali\n",
    "    G= np.dot(A.T,A)\n",
    "     \n",
    "    f= np.dot(A.T,G)\n",
    "    \n",
    "    L= splin.cholesky(G,lower=True)\n",
    "    U=L.T\n",
    "        \n",
    "   \n",
    "    z,flag=solver.Lsolve(L,f)\n",
    "    \n",
    "    x,flag=solver.Usolve(U,z)\n",
    "    \n",
    "    return x\n",
    "\n",
    "def cholesky(A,b):\n",
    "    L = splin.cholesky(A,lower=True)\n",
    "    \n",
    "    y,flag = solver.Lsolve(L,b)\n",
    "    \n",
    "    x,flag = solver.Usolve(L.T,y)\n",
    "    return x\n",
    "\n",
    "def qr(A,b):\n",
    "    Q,R = splin.qr(A)\n",
    "    y = Q.T@b\n",
    "    \n",
    "    x,flag = solver.Usolve(R,y)\n",
    "    return x\n",
    "\n",
    "def gauss_seidel(A,b,x0,toll,it_max):\n",
    "    errore=1000\n",
    "    d=np.diag(A)\n",
    "    D=np.diag(d)\n",
    "    E=np.tril(A,-1)\n",
    "    F=np.triu(A,1)\n",
    "    M=D+E\n",
    "    N=-F\n",
    "    T=M.T@N\n",
    "    autovalori=np.linalg.eigvals(T)\n",
    "    raggiospettrale=np.max(np.abs(autovalori))\n",
    "    print(\"raggio spettrale Gauss-Seidel \",raggiospettrale)\n",
    "    it=0\n",
    "    er_vet=[]\n",
    "    while it<=it_max and errore >= toll:\n",
    "        temp=b - F@x0\n",
    "        x= solver.Lsolve(M,temp)\n",
    "        errore=np.linalg.norm(x-x0)/np.linalg.norm(x)\n",
    "        er_vet.append(errore)\n",
    "        x0=x.copy()\n",
    "        it=it+1\n",
    "    return x,it,er_vet"
   ]
  },
  {
   "cell_type": "code",
   "execution_count": 59,
   "id": "ca8e7b6a-2200-43e6-8c88-6ef0a83746c8",
   "metadata": {
    "tags": []
   },
   "outputs": [
    {
     "name": "stdout",
     "output_type": "stream",
     "text": [
      "[[1.]\n",
      " [1.]\n",
      " [1.]\n",
      " [1.]\n",
      " [1.]\n",
      " [1.]\n",
      " [1.]\n",
      " [1.]\n",
      " [1.]\n",
      " [1.]\n",
      " [1.]\n",
      " [1.]\n",
      " [1.]\n",
      " [1.]\n",
      " [1.]]\n",
      "[[1.]\n",
      " [1.]\n",
      " [1.]\n",
      " [1.]\n",
      " [1.]\n",
      " [1.]\n",
      " [1.]\n",
      " [1.]\n",
      " [1.]\n",
      " [1.]\n",
      " [1.]\n",
      " [1.]\n",
      " [1.]\n",
      " [1.]\n",
      " [1.]]\n",
      "-------FINE A1----------\n"
     ]
    },
    {
     "ename": "ValueError",
     "evalue": "could not broadcast input array from shape (6,) into shape (1,)",
     "output_type": "error",
     "traceback": [
      "\u001b[1;31m---------------------------------------------------------------------------\u001b[0m",
      "\u001b[1;31mValueError\u001b[0m                                Traceback (most recent call last)",
      "Cell \u001b[1;32mIn[59], line 6\u001b[0m\n\u001b[0;32m      4\u001b[0m \u001b[38;5;28mprint\u001b[39m(xC)\n\u001b[0;32m      5\u001b[0m \u001b[38;5;28mprint\u001b[39m(\u001b[38;5;124m\"\u001b[39m\u001b[38;5;124m-------FINE A1----------\u001b[39m\u001b[38;5;124m\"\u001b[39m)\n\u001b[1;32m----> 6\u001b[0m x2 \u001b[38;5;241m=\u001b[39m eqnorm(A2,b2)\n\u001b[0;32m      7\u001b[0m \u001b[38;5;28mprint\u001b[39m(x2)\n",
      "Cell \u001b[1;32mIn[57], line 13\u001b[0m, in \u001b[0;36meqnorm\u001b[1;34m(A, b)\u001b[0m\n\u001b[0;32m      9\u001b[0m L\u001b[38;5;241m=\u001b[39m splin\u001b[38;5;241m.\u001b[39mcholesky(G,lower\u001b[38;5;241m=\u001b[39m\u001b[38;5;28;01mTrue\u001b[39;00m)\n\u001b[0;32m     10\u001b[0m U\u001b[38;5;241m=\u001b[39mL\u001b[38;5;241m.\u001b[39mT\n\u001b[1;32m---> 13\u001b[0m z,flag\u001b[38;5;241m=\u001b[39msolver\u001b[38;5;241m.\u001b[39mLsolve(L,f)\n\u001b[0;32m     15\u001b[0m x,flag\u001b[38;5;241m=\u001b[39msolver\u001b[38;5;241m.\u001b[39mUsolve(U,z)\n\u001b[0;32m     17\u001b[0m \u001b[38;5;28;01mreturn\u001b[39;00m x\n",
      "File \u001b[1;32m~\\Desktop\\eserciziMetodiNumerici\\Esame6Luglio_TurnoII\\RisolviSis.py:33\u001b[0m, in \u001b[0;36mLsolve\u001b[1;34m(L, b)\u001b[0m\n\u001b[0;32m     31\u001b[0m \u001b[38;5;28;01mfor\u001b[39;00m i \u001b[38;5;129;01min\u001b[39;00m \u001b[38;5;28mrange\u001b[39m(n):\n\u001b[0;32m     32\u001b[0m      s\u001b[38;5;241m=\u001b[39mnp\u001b[38;5;241m.\u001b[39mdot(L[i,:i],x[:i]) \u001b[38;5;66;03m#scalare=vettore riga * vettore colonna\u001b[39;00m\n\u001b[1;32m---> 33\u001b[0m      x[i]\u001b[38;5;241m=\u001b[39m(b[i]\u001b[38;5;241m-\u001b[39ms)\u001b[38;5;241m/\u001b[39mL[i,i]\n\u001b[0;32m     36\u001b[0m \u001b[38;5;28;01mreturn\u001b[39;00m x,flag\n",
      "\u001b[1;31mValueError\u001b[0m: could not broadcast input array from shape (6,) into shape (1,)"
     ]
    }
   ],
   "source": [
    "xQR = qr(A1,b1)\n",
    "print(xQR)\n",
    "xC = cholesky(A1,b1)\n",
    "print(xC)\n",
    "print(\"-------FINE A1----------\")\n",
    "x2 = eqnorm(A2,b2)\n",
    "print(x2)"
   ]
  },
  {
   "cell_type": "markdown",
   "id": "6c837c7a-fc8d-4541-9a7d-0315589b6b77",
   "metadata": {},
   "source": [
    "# Esercizio 2"
   ]
  },
  {
   "cell_type": "markdown",
   "id": "602927f7-4366-4f99-9fe6-5fb4ee0ece45",
   "metadata": {},
   "source": [
    "Data l'equazione di 2° grado $$\\frac{1}{2} x^2+2bx-c=0$$\n",
    "che diventa $$x^2+4bx-2c=0$$"
   ]
  },
  {
   "cell_type": "markdown",
   "id": "7f29d3fc-3800-4a2e-93a1-9c31f878c266",
   "metadata": {},
   "source": [
    "con $b=10^7, c=10^{-i},i=-5,\\cdots,12 $\n",
    "\n",
    "- a) Scrivere le due formule algebriche per ricavare i valori delle 2 soluzioni\n",
    "\n",
    "                                                                                    1 punto\n",
    "- b) Studiare l'indice di condizionamento delle 2 formule algebriche, facendo uso del risultato teorico visto a lezione riguardo l'indice di condizionamento della valutazione di una funzione. (Spiegare il significato di problema mal condizionato) e dire quale delle due formule è malcondizionata. Per quali valori di $c$ il problema risulta ben condizionato?\n",
    "\n",
    "                                                                                    5 punti\n",
    "\n",
    "- c) Nel caso in cui una delle due formule risulti mal condizionata, proporre una soluzione algebricamente equivalente che non sia malcondizionata.\n",
    "\n",
    "                                                                                    3 punti"
   ]
  },
  {
   "cell_type": "markdown",
   "id": "a37c8888-3dfe-4ea5-a93b-e0adab565e1b",
   "metadata": {},
   "source": [
    "                                                                        Totale 9 punti"
   ]
  },
  {
   "cell_type": "markdown",
   "id": "911860d3-45d8-45fc-99f2-bf79c64f1a80",
   "metadata": {},
   "source": [
    "## Domanda intelligenza artificiale"
   ]
  },
  {
   "cell_type": "markdown",
   "id": "31f72b3e-3533-4866-bf02-44fea1b7c825",
   "metadata": {},
   "source": [
    " Limiti delle reti MLP (multilayer Perceptron) ed introduzione delle Reti neurali Convoluzionali. \n",
    "- Architettura di una rete neurale convoluzionale: strati convoluzionali, attivazione non lineare e pooling + parte fully connected.\n",
    "- Loss function per il task della regressione.  Training di una rete. \n",
    "- Cenni sull'algoritmo di backpropagation per il calcolo delle derivate parziale della funzione costo rispetto ai pesi ditutti i layer .\n",
    "- Tecniche di Ottimizzazione: metodo di discesa del gradient batch, metodo del gradiente stocastico (SGD) ,metodo del gradiente stocastico minibatch.\n",
    "                                                                                [7  punti]\n"
   ]
  },
  {
   "cell_type": "code",
   "execution_count": null,
   "id": "5503e7f7-75e3-4f25-adcd-0a4feff1bf4a",
   "metadata": {},
   "outputs": [],
   "source": []
  }
 ],
 "metadata": {
  "kernelspec": {
   "display_name": "Python 3 (ipykernel)",
   "language": "python",
   "name": "python3"
  },
  "language_info": {
   "codemirror_mode": {
    "name": "ipython",
    "version": 3
   },
   "file_extension": ".py",
   "mimetype": "text/x-python",
   "name": "python",
   "nbconvert_exporter": "python",
   "pygments_lexer": "ipython3",
   "version": "3.11.7"
  }
 },
 "nbformat": 4,
 "nbformat_minor": 5
}
