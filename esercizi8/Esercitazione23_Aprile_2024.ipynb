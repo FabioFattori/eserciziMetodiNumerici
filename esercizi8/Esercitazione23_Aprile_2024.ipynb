{
 "cells": [
  {
   "cell_type": "markdown",
   "id": "d2903ef7-4c36-4b4f-b8dd-01fa2f35dfc5",
   "metadata": {},
   "source": [
    "## Esercitazione 8  del    23 Aprile 2024\n"
   ]
  },
  {
   "cell_type": "markdown",
   "id": "f7105091-a87d-4561-bb63-c8ac815faf37",
   "metadata": {},
   "source": [
    "## Condizionamento del problema della soluzione di un sistema lineare"
   ]
  },
  {
   "cell_type": "markdown",
   "id": "2b2f0afd-9374-4f8e-8a7b-eb783ba28fd4",
   "metadata": {},
   "source": [
    "# Esercizio 1\n",
    "- Costruire la matrice di Vandermonde A, generata dal vettore x=[1.0,2.0,...,6.0] utilizzando la funzione np.vander(x, increasing=True) di numpy. \n",
    "- Calcolarne l'indice di condizionamento in norma infinito senza utilizzare la funzione cond di numpy.linalg e poi confrontarne il valore con quello ottenuto utilizzando la funzione.\n",
    "- Considerare il sistema lineare Ax=b  con matrice dei coefficienti A e termine noto costruito in maniera tale che la soluzione esatta sia il vettore x=[1,1,1,1,1,1] (ogni sua componente è 1) e risolverlo usando il metodo solve del modulo linalg di Scipy.\n",
    "- perturbare il vettore dei termini noti della quantità\n",
    "- \n",
    "$$\n",
    "\\delta b = 0.025 \\, \\ast \\,\n",
    "\\left [\n",
    "\\begin{array}{c}\n",
    "1\\\\\n",
    "0\\\\\n",
    "0\\\\\n",
    "0\n",
    "\\end{array}\n",
    "\\right ]\n",
    "$$\n",
    "- Risolvere il sistema con termine noto pertubato $b + \\delta b$ ((usando il metodo solve del modulo linalg di Scipy).\n",
    "- Calcolare l'errore relativo sul termine noto e l'errore relativo sulla soluzione. Cosa si può concludere?\n",
    "\n",
    "N.B. per il calcolo dell'inversa della matrice di A usare la funzione di numpy.linalg.inv(A).\n"
   ]
  },
  {
   "cell_type": "code",
   "execution_count": 46,
   "id": "fb50322f",
   "metadata": {},
   "outputs": [],
   "source": [
    "import numpy as np\n",
    "def calcNormInf(A):\n",
    "    sums=np.sum(np.abs(A),axis=1)\n",
    "    return np.max(sums)"
   ]
  },
  {
   "cell_type": "code",
   "execution_count": 47,
   "id": "2767332b",
   "metadata": {},
   "outputs": [],
   "source": [
    "import numpy as np\n",
    "def calcIndiceCondizionamento(A):\n",
    "    return calcNormInf(A)*calcNormInf(np.linalg.inv(A))"
   ]
  },
  {
   "cell_type": "code",
   "execution_count": 48,
   "id": "e7bb663c",
   "metadata": {},
   "outputs": [
    {
     "name": "stdout",
     "output_type": "stream",
     "text": [
      "[[1.000e+00 1.000e+00 1.000e+00 1.000e+00 1.000e+00 1.000e+00]\n",
      " [1.000e+00 2.000e+00 4.000e+00 8.000e+00 1.600e+01 3.200e+01]\n",
      " [1.000e+00 3.000e+00 9.000e+00 2.700e+01 8.100e+01 2.430e+02]\n",
      " [1.000e+00 4.000e+00 1.600e+01 6.400e+01 2.560e+02 1.024e+03]\n",
      " [1.000e+00 5.000e+00 2.500e+01 1.250e+02 6.250e+02 3.125e+03]\n",
      " [1.000e+00 6.000e+00 3.600e+01 2.160e+02 1.296e+03 7.776e+03]]\n",
      "indice di condizionamento calcolato 1.204321e+06\n",
      "indice di condizionamento np.linalg.cond 1.204321e+06\n",
      "norma relativa perturbazione  2.679241238881187e-06\n"
     ]
    }
   ],
   "source": [
    "import scipy.linalg as resolver\n",
    "x=np.arange(1.0,7.0,1)\n",
    "A=np.vander(x,increasing=True)\n",
    "print(A)\n",
    "print(\"indice di condizionamento calcolato {:e}\".format(calcIndiceCondizionamento(A)))\n",
    "print(\"indice di condizionamento np.linalg.cond {:e}\".format(np.linalg.cond(A,np.inf)))\n",
    "\n",
    "b=np.sum(A,axis=1)\n",
    "\n",
    "sol=resolver.solve(A,b)\n",
    "\n",
    "bCopy=b.copy()\n",
    "bCopy[0]=bCopy[0]+0.025\n",
    "\n",
    "solPerturbed=resolver.solve(A,bCopy)\n",
    "\n",
    "print(\"norma relativa perturbazione \",np.linalg.norm(bCopy-b,np.inf)/np.linalg.norm(b,np.inf))\n",
    "# pur essendo una piccola perturbazione la soluzione cambia molto , questo è dovuto dal fatto che il problema è mal condizionato\n",
    "# e questo lo potevamo capire anche dall'indice di condizionamento di A molto alto \n"
   ]
  },
  {
   "cell_type": "markdown",
   "id": "1fad1579-04c4-4aae-a840-2ab3120aaf2e",
   "metadata": {},
   "source": [
    "## Esercizio 2\n",
    "Assegnato il sistema lineare $Ax = b$, con\n",
    "$$\n",
    "A =\n",
    "\\left [\n",
    "\\begin{array}{ccc}\n",
    "6 & 63 & 662.2\\\\\n",
    "63 & 662.2 & 6967.8\\\\\n",
    "662.2 & 6967.8 & 73393.5664\n",
    "\\end{array}\n",
    "\\right ], \\qquad\n",
    "b =\n",
    "\\left [\n",
    "\\begin{array}{c}\n",
    "1.1\\\\\n",
    "2.33\\\\\n",
    "1.7\n",
    "\\end{array}\n",
    "\\right ]\n",
    "$$\n",
    "- trovare il vettore soluzione $x$ (usando il metodo solve del modulo linalg di Scipy);\n",
    "- perturbare la matrice dei coefficienti della quantità\n",
    "$$\n",
    "\\delta A =\n",
    "0.01 \\, \\ast \\,\n",
    "\\left [ \\begin{array}{ccc}\n",
    "1 & 0 & 0\\\\\n",
    "0 & 0 & 0\\\\\n",
    "0 & 0 & 0\n",
    "\\end{array}\n",
    "\\right ]\n",
    "$$\n",
    "quindi calcolare l'errore relativo sulla soluzione e confrontarlo con la\n",
    "perturbazione relativa sui dati di ingresso. Cosa si osserva?"
   ]
  },
  {
   "cell_type": "code",
   "execution_count": 49,
   "id": "42eadfe8",
   "metadata": {},
   "outputs": [
    {
     "name": "stdout",
     "output_type": "stream",
     "text": [
      "indice di condizionamento di A 1.975302e+10\n",
      "soluzione x =  [136422.3375046  -25999.49955445   1237.44419647]\n",
      "soluzione perturbata x_pert =  [67.09867276 -9.66739506  0.3124175 ]\n",
      "errore relativo su x =  0.99950815479354\n",
      "errore relativo su A =  1.2342088165597937e-07\n"
     ]
    }
   ],
   "source": [
    "import scipy.linalg as spi\n",
    "import numpy as np\n",
    "\n",
    "A = np.array([[6,63,662.2],[63 , 662.2 , 6967.8],[662.2 , 6967.8 , 73393.5664]])\n",
    "b = np.array([1.1,2.33,1.7])\n",
    "x = spi.solve(A,b)\n",
    "print(\"indice di condizionamento di A {:e}\".format(calcIndiceCondizionamento(A)))\n",
    "print(\"soluzione x = \",x)\n",
    "A_pert = A.copy()\n",
    "A_pert[0,0] = A[0,0] + 0.01\n",
    "x_pert = spi.solve(A_pert,b)\n",
    "print(\"soluzione perturbata x_pert = \",x_pert)\n",
    "\n",
    "err_rel_x = np.linalg.norm(x_pert - x, np.inf) / np.linalg.norm(x, np.inf)\n",
    "err_rel_A = np.linalg.norm(A-A_pert, np.inf) / np.linalg.norm(A, np.inf)\n",
    "print(\"errore relativo su x = \",err_rel_x)\n",
    "print(\"errore relativo su A = \",err_rel_A)\n",
    "\n",
    "# stesso discorso di prima , il problema è mal condizionato e quindi piccole perturbazioni portano a grandi errori\n",
    "# anche se le perturbazioni vengono fatte su A e non su b"
   ]
  },
  {
   "cell_type": "markdown",
   "id": "3fd35cbb-3eaa-4674-91ff-cf7148cac8b8",
   "metadata": {},
   "source": [
    "## Esercizio 3\n",
    " \n",
    "Assegnato il sistema lineare $Ax = b$, con $A$ matrice di Hilbert di ordine\n",
    "$4$ e $b = [1, 1, 1, 1]^T$,\n",
    " - trovare il vettore soluzione $x$ (usando il metodo solve del modulo linalg di Scipy);\n",
    " -  perturbare il vettore dei termini noti della quantità\n",
    "$$\n",
    "\\delta b = 0.01 \\, \\ast \\,\n",
    "\\left [\n",
    "\\begin{array}{c}\n",
    "1\\\\\n",
    "-1\\\\\n",
    "1\\\\\n",
    "-1\n",
    "\\end{array}\n",
    "\\right ]\n",
    "$$\n",
    "quindi calcolare la soluzione del sistema $A x_p= b_p$ con termine noto $b_p=b+ \\delta b$.\n",
    "Calcolare l'errore relativo sulla soluzione e confrontarlo con la perturbazione relativa sui dati di ingresso. Cosa si osserva?\n",
    "\n",
    "Nota: per la costruzione della matrice di Hilbert usare la funzione hilbert(n) del modulo scipy.linalg\n",
    "(scipy.linalg.hilbert(n))  dove bisogna specificare l'ordine n della matrice."
   ]
  },
  {
   "cell_type": "code",
   "execution_count": 50,
   "id": "0dcef025",
   "metadata": {},
   "outputs": [
    {
     "name": "stdout",
     "output_type": "stream",
     "text": [
      "indice di condizionamento di A 2.837500e+04\n",
      "soluzione x =  [  -4.   60. -180.  140.]\n",
      "b perturbato =  [1.01 0.99 1.01 0.99]\n",
      "b =  [1 1 1 1]\n",
      "soluzione perturbata x_pert =  [  1.16   3.   -43.8   51.8 ]\n",
      "errore relativo su x =  0.7566666666666716\n",
      "errore relativo in percentuale su x =  75.66666666666715 %\n"
     ]
    }
   ],
   "source": [
    "import scipy.linalg as spi\n",
    "import numpy as np\n",
    "A = spi.hilbert(4)\n",
    "b = np.full(4,1)\n",
    "x = spi.solve(A,b)\n",
    "print(\"indice di condizionamento di A {:e}\".format(calcIndiceCondizionamento(A)))\n",
    "print(\"soluzione x = \",x)\n",
    "\n",
    "b_pert = b.copy()\n",
    "b_pert = b_pert + np.array([0.01,-0.01,0.01,-0.01])\n",
    "print(\"b perturbato = \",b_pert)\n",
    "print(\"b = \",b)\n",
    "x_pert = spi.solve(A,b_pert)\n",
    "print(\"soluzione perturbata x_pert = \",x_pert)\n",
    "err_rel_x = np.linalg.norm(x_pert - x, np.inf) / np.linalg.norm(x, np.inf)\n",
    "print(\"errore relativo su x = \",err_rel_x)\n",
    "print(\"errore relativo in percentuale su x = \",err_rel_x*100,\"%\")\n",
    "\n",
    "# osservo che ad una perturbazione di b corrispondente a 0.01 (1%) la soluzione invece di variare di 0.01 varia di 0.75 (75%) quindi\n",
    "# l'errore si propaga molto velocemente , questo è dovuto al fatto che il problema è mal condizionato , infatti l'indice di condizionamento\n",
    "# è molto alto"
   ]
  },
  {
   "cell_type": "markdown",
   "id": "b1d646aa-f01a-4754-85e0-8803dc40b54f",
   "metadata": {},
   "source": [
    "## Metodi diretti per la soluzione numerica di un sistema lineare"
   ]
  },
  {
   "cell_type": "markdown",
   "id": "d49457b8-af07-4729-a33a-dc93547c1a20",
   "metadata": {},
   "source": [
    "## Nota 1.\n",
    "La funzione *scipy.linalg.lu(A)*  , presa in input una matrice A a rango massimo, restituisce in output le matrici $P^T$,L,U,  della fattorizzazione di LU della matrice A in maniera tale che PA=LU (restituisce la matrice di permutazione trasposta)"
   ]
  },
  {
   "cell_type": "code",
   "execution_count": 51,
   "id": "6164dfcc-4ff8-4d35-9ba3-59cae1f5189e",
   "metadata": {},
   "outputs": [
    {
     "name": "stdout",
     "output_type": "stream",
     "text": [
      "A= [[2 1]\n",
      " [3 4]]\n",
      "L= [[1.         0.        ]\n",
      " [0.66666667 1.        ]]\n",
      "U= [[ 3.          4.        ]\n",
      " [ 0.         -1.66666667]]\n",
      "P= [[0. 1.]\n",
      " [1. 0.]]\n",
      "Matrice P*A \n",
      " [[3. 4.]\n",
      " [2. 1.]]\n",
      "Matrice ottenuta moltipicando Le ed U \n",
      " [[3. 4.]\n",
      " [2. 1.]]\n"
     ]
    }
   ],
   "source": [
    "import numpy as np\n",
    "import scipy as sp\n",
    "from scipy.linalg import lu\n",
    "A=np.array([[2,1],[3,4]])\n",
    "PT,L,U=lu(A)  #Restituisce in output la trasposta della matrice di Permutazione\n",
    "P=PT.T.copy()   #P è la matrice di permutazione\n",
    "print(\"A=\",A)\n",
    "print(\"L=\",L)\n",
    "print(\"U=\",U)\n",
    "print(\"P=\",P)\n",
    "#LU è la fattorizzazione di P*A (terorema 2)\n",
    "A1=P@A # equivale al prodotto matrice x matrice np.dot(P,A)\n",
    "A1Fatt=L@U # equivale a np.dot(L,U)\n",
    "print(\"Matrice P*A \\n\", A1)\n",
    "print(\"Matrice ottenuta moltipicando Le ed U \\n\",A1Fatt)\n"
   ]
  },
  {
   "cell_type": "markdown",
   "id": "76f8f316-d9af-4596-9eed-5aa64f913f1f",
   "metadata": {},
   "source": [
    "## Nota 2\n",
    "La funzione *scipy.linalg.cholesky(a, lower=True)*, presa in input una matrice simmetrica e definta positiva restituisce in output la matrice L triangolare inferiore tale che $A=L \\cdot L^T$. Se la matrice in input non è definita positiva, restituisce un errore."
   ]
  },
  {
   "cell_type": "code",
   "execution_count": 52,
   "id": "162e3ab4-4a37-43d4-9727-6f032595449f",
   "metadata": {},
   "outputs": [
    {
     "name": "stdout",
     "output_type": "stream",
     "text": [
      "[[ 2  1  3]\n",
      " [ 1  5  7]\n",
      " [ 3  7 12]]\n"
     ]
    }
   ],
   "source": [
    "from scipy.linalg import cholesky\n",
    "A=np.array([[2,1,3],[1,5,7],[3,7,12]])\n",
    "print(A)"
   ]
  },
  {
   "cell_type": "code",
   "execution_count": 53,
   "id": "96fd572b-f470-4436-aea2-0bb5da4fdd23",
   "metadata": {},
   "outputs": [
    {
     "name": "stdout",
     "output_type": "stream",
     "text": [
      "[[1.41421356 0.         0.        ]\n",
      " [0.70710678 2.12132034 0.        ]\n",
      " [2.12132034 2.59272486 0.8819171 ]]\n",
      "A1=\n",
      " [[ 2.  1.  3.]\n",
      " [ 1.  5.  7.]\n",
      " [ 3.  7. 12.]]\n"
     ]
    }
   ],
   "source": [
    "L=cholesky(A,lower=True)\n",
    "print(L)\n",
    "A1=L@L.T\n",
    "print(\"A1=\\n\",A1)"
   ]
  },
  {
   "cell_type": "markdown",
   "id": "6760f2a0-ffec-49a1-96f7-ed643109e4d7",
   "metadata": {},
   "source": [
    "## Nota 3\n",
    "La funzione *scipy.linalg.qr(a)*, presa in input una matrice A (nxn)  a rango massimo, restituisce in output le matrici Q (ortogonale di dimensione nxn) ed una matrice R (nxn) triangolare superiore tale che $A=Q \\cdot R$"
   ]
  },
  {
   "cell_type": "code",
   "execution_count": 54,
   "id": "e336d0a6-f2c3-4a7b-a8e3-871e70ca917c",
   "metadata": {},
   "outputs": [
    {
     "name": "stdout",
     "output_type": "stream",
     "text": [
      "Q= [[-0.53452248  0.6882472  -0.49051147]\n",
      " [-0.26726124 -0.6882472  -0.67445327]\n",
      " [-0.80178373 -0.22941573  0.55182541]]\n",
      "R= [[ -3.74165739  -7.48331477 -13.09580085]\n",
      " [  0.          -4.35889894  -5.50597761]\n",
      " [  0.           0.           0.42919754]]\n",
      "[[ 2.  1.  3.]\n",
      " [ 1.  5.  7.]\n",
      " [ 3.  7. 12.]]\n"
     ]
    }
   ],
   "source": [
    "from scipy.linalg import qr\n",
    "A=np.array([[2,1,3],[1,5,7],[3,7,12]])\n",
    "Q,R=qr(A)\n",
    "print(\"Q=\",Q)\n",
    "print(\"R=\",R)\n",
    "A1=Q@R\n",
    "print(A1)"
   ]
  },
  {
   "cell_type": "markdown",
   "id": "270ae20e-08a7-4ab4-a710-c4541a398ec1",
   "metadata": {},
   "source": [
    "## Esercizio 4\n",
    "- si implementi una function LUsolve(P,A,L,U,b) che risolve il sistema lineare Ax=b nel caso di fattorizzazione $PA = LU$ assegnata,\n",
    "combinando i metodi di risoluzione in avanti ed all'indietro  implementati nel file SolveTriangular.py.\n",
    "- si testi sulla matrice A = np.array([[2, 5, 8, 7], [5, 2, 2, 8], [7, 5, 6, 6], [5, 4, 4, 8]]) con termine noto b scelto in maniera tale che la soluzione esatta del sistema lineare sia il vettore formato da tutti 1."
   ]
  },
  {
   "cell_type": "code",
   "execution_count": 58,
   "id": "2ab7b5b4",
   "metadata": {},
   "outputs": [
    {
     "name": "stdout",
     "output_type": "stream",
     "text": [
      "b =  [[22]\n",
      " [17]\n",
      " [24]\n",
      " [21]]\n",
      "soluzione x =  [1. 1. 1. 1.]\n"
     ]
    }
   ],
   "source": [
    "import SolveTriangular as st\n",
    "import scipy.linalg as sl\n",
    "import numpy as np\n",
    "def LUsolve(P,A,L,U,b):\n",
    "    pb = P@b\n",
    "    x,flag = st.Lsolve(L,pb)\n",
    "    if flag != 0:\n",
    "        return x,flag\n",
    "    x,flag = st.Usolve(U,x)\n",
    "    return x,flag\n",
    "\n",
    "\n",
    "A = np.array([[2, 5, 8, 7], [5, 2, 2, 8], [7, 5, 6, 6], [5, 4, 4, 8]])\n",
    "b = np.sum(A, axis=1).reshape(-1, 1)\n",
    "print(\"b = \",b)\n",
    "PT,L,U = sl.lu(A)\n",
    "P = PT.T.copy()\n",
    "x,flag = LUsolve(P,A,L,U,b)\n",
    "print(\"soluzione x = \",x.reshape(-1))"
   ]
  },
  {
   "cell_type": "markdown",
   "id": "daa94c30-7b43-4ab5-896b-f2b2409a8a56",
   "metadata": {},
   "source": [
    "## Esercizio 5\n",
    "Si implementi una function *solve_nsis(A,B)* per il calcolo della soluzione di un generale sistema lineare $AX = B$, con $X, B$ matrici, che usi la fattorizzazione LU della matrice PA, per risolvere n sistemi lineari: aventi la stessa matrice dei coefficienti A e termine noto l'i-esima colonna della matrice B. \n",
    "Utilizzarla poi per il calcolo dell'inversa delle\n",
    "matrici non singolari\n",
    "$$\n",
    "A=\\left[\n",
    "\\begin{array}{ccc}\n",
    "3 & 5 & 7\\\\\n",
    "2 & 3 & 4\\\\\n",
    "5 & 9 & 11\n",
    "\\end{array}\n",
    "\\right ], \\qquad\n",
    "A=\\left[\n",
    "\\begin{array}{cccc}\n",
    "1 & 2 & 3 & 4\\\\\n",
    "2 & -4 & 6 & 8\\\\\n",
    "-1 & -2 & -3 & -1\\\\\n",
    "5 & 7 & 0 & 1\n",
    "\\end{array}\n",
    "\\right ],\n",
    "$$\n",
    "confrontando i risultati ottenuti con l'output\n",
    "della funzione  *scipy.linalg.inv(A)*"
   ]
  },
  {
   "cell_type": "markdown",
   "id": "412ae29a-6a32-43e0-9456-e7677f695feb",
   "metadata": {},
   "source": [
    "## Esercizio 6\n",
    "Sfruttando la fattorizzazione PA=LU  di una delle matrici del punto precedente, calcolarne il determinante.\n"
   ]
  },
  {
   "cell_type": "markdown",
   "id": "8b359b50-ef2b-4a62-8623-b4cba6a31468",
   "metadata": {},
   "source": [
    "## Esercizio 7\n",
    "Per valori di $n = 4 : 6 : 40$, si consideri il sistema lineare $A_n x = b$ con\n",
    "$A_n$ matrice di Hankel di ordine $n$ di elementi\n",
    "$$\n",
    "a^{(n)}_{i,n+k-i}\n",
    "=\n",
    "\\left \\{\n",
    "\\begin{array}{ll}\n",
    "2^k & \\hbox{se} \\ k > 0,\\\\\n",
    "2^{1/(2-k)} & \\hbox{se} \\ k \\leq 0,\n",
    "\\end{array}\n",
    "\\right .\n",
    "\\qquad\n",
    "i = 1, ..., n, \\ \\  k = i + 1-n, ..., i,\n",
    "$$\n",
    "e $b$ scelto in modo che risulti $x = [1, 1, ..., 1]^T$. Si risolva tale sistema\n",
    "con il metodo di fattorizzazione LU della matrice PA\n",
    "e il metodo di fattorizzazione QR (Q,R  =scipy.linalg.qr(A)).\n",
    "Calcolare gli errori relativi $\\| \\delta x \\|_2/\\|x\\|_2$ da cui sono affette\n",
    "le soluzioni calcolate con i due metodi e produrre, al variare di $n$, un\n",
    "grafico in scala logaritmica ( matplotlib.plyplot.loglog) degli errori relativi calcolati. Che cosa si\n",
    "osserva?\n",
    "\n",
    "NB: per il calcolo della matrice di Hankel utilizzare la function \n",
    "\n",
    "def Hankel(n):\n",
    "\n",
    "    A=np.zeros((n,n),dtype=float)\n",
    "    for i in range(0,n):\n",
    "        for k in range(i+1-n,i+1):\n",
    "            if k>0:\n",
    "                A[i,n-1+k-i]=2.0**(k+1)\n",
    "            else:\n",
    "                A[i,n-1+k-i]=2.0**(1/(2-k-1))\n",
    "    return A"
   ]
  },
  {
   "cell_type": "code",
   "execution_count": null,
   "id": "d5e324f7-cf4e-487d-9226-334b78174dfc",
   "metadata": {},
   "outputs": [],
   "source": []
  },
  {
   "cell_type": "markdown",
   "id": "00b1242a-d51d-40fa-a9ed-716cc4ab9d89",
   "metadata": {},
   "source": [
    "## Esercizio 8\n",
    "\n",
    "Ripetere l'esercizio precedente per risolvere il sistema lineare $Ax = b$\n",
    "con $A$ e $b$ cos\\`i  definiti:\n",
    "$$\n",
    "a^{(n)}_{i,j}=\n",
    "\\left \\{\n",
    "\\begin{array}{ll}\n",
    "1 & \\hbox{se} \\ i=j \\ \\hbox{o \\, se} \\ j=n,\\\\\n",
    "-1 & \\hbox{se} \\ i>j,\\\\\n",
    "0 & \\hbox{altrimenti}\n",
    "\\end{array}\n",
    "\\right .\n",
    "\\qquad\n",
    "b = A \\cdot [1, ..., 1]^T,\n",
    "$$\n",
    "per $n = 48 : 2 : 58$ e $b$ scelto in modo che risulti $x = [1, 1, ..., 1]^T$. Che\n",
    "cosa si osserva?"
   ]
  },
  {
   "cell_type": "markdown",
   "id": "66ae0b30-e823-4742-9b43-95268605d358",
   "metadata": {},
   "source": [
    "## Metodi iterativi di Jacobi, Guass-Seidel e Gausseidel_SOR per la soluzione numerica di un sistema lineare"
   ]
  },
  {
   "cell_type": "markdown",
   "id": "28bc92ed-296e-4af1-9b6a-839bf95f81ca",
   "metadata": {},
   "source": [
    "## Esercizio 9\n",
    "Implementare la  funzione $jacobi(A,b,x0,toll,itmax)$ per risolvere il  sistema lineare Ax=b utilizzando il Metodo iterativo di Jacobi. \n",
    "La funzione prende in input:\n",
    "- A: matrice dei coefficienti\n",
    "- b: termine noto\n",
    "- x0: vettore iniziale della stessa dimensione di b\n",
    "- toll: tolleranza per il criterio di arresto\n",
    "- itmax: iterazioni massime oltre le quali il metodo si ferma\n",
    "\n",
    "Calcolare il raggio spettrale della matrice di iterazione.\n",
    "\n",
    "Implementare un criterio di arresto per il procedimento iterativo in termini di : $||x^{(k)}-x^{(k-1)}||/||x^{(k)}|| <toll$"
   ]
  },
  {
   "cell_type": "markdown",
   "id": "94f1b913-cae9-4b23-b6ab-ed8dcc1d4ce6",
   "metadata": {},
   "source": [
    "## Esercizio 10\n",
    "Implementare la  funzione $gauss$_$seidel(A,b,x0,toll,it_max)$ per risolvere il  sistema lineare Ax=b utilizzando il Metodo iterativo di Gauss-Seidel. \n",
    "La funzione prende in input:\n",
    "- A: matrice dei coefficienti\n",
    "- b: termine noto\n",
    "- x0: vettore iniziale della stessa dimensione di b\n",
    "- toll: tolleranza per il criterio di arresto\n",
    "- itmax: iterazioni massime oltre le quali il metodo si ferma\n",
    "\n",
    "Calcolare il raggio spettrale della matrice di iterazione.\n",
    "\n",
    "Implementare un criterio di arresto per il procedimento iterativo in termini di : $||x^{(k)}-x^{(k-1)}||/||x^{(k)}|| <toll$"
   ]
  },
  {
   "cell_type": "markdown",
   "id": "d45f316b-0e7e-4d7a-9d5d-08ffc5610cab",
   "metadata": {},
   "source": [
    "## Esercizio 11\n",
    "Testare i metodi di Jacobi e di Gauss Seidel nella soluzione dei sistemi lineare Ax=b, dove \n",
    "- A=np.array([[4,1,3],[3,4,1],[1,1,17]]) \n",
    "- A=np.array([[3,0, 4],[7, 4, 3],[-1, -1 ,-2]])\n",
    "- A=np.array([[5, 0, -1, 2],[ -2, 4, 1, 0],[0, -1, 4, -1],[ 2, 0, 0, 3]])\n",
    "\n",
    "ed il termine noto del sistema è scelto in maniera tale che la soluzione esatta del sistema sia il vettore fatto da tutti 1.\n",
    "Visualizzare in un grafico in scala logaritmica  l'errore per ogni iterazione per ciascun metodo. Cosa si osserva?\n",
    "Porre toll=1e-8 it_max=500 e x0=np.zeros(A.shape[0]"
   ]
  },
  {
   "cell_type": "code",
   "execution_count": null,
   "id": "38703e79-c87e-4118-89ed-f580aa14c351",
   "metadata": {},
   "outputs": [],
   "source": []
  },
  {
   "cell_type": "markdown",
   "id": "389daa82-16aa-4c52-b830-41693c320ecd",
   "metadata": {},
   "source": [
    "## Esercizio 12\n",
    "Implementare la  funzione $gauss$_$seidel$_sor(A,b,x0,omega, toll,itmax) per risolvere il  sistema lineare Ax=b utilizzando il Metodo iterativo di Gauss-Seidel-SOR\n",
    "La funzione prende in input:\n",
    "- A: matrice dei coefficienti\n",
    "- b: termine noto\n",
    "- x0: vettore iniziale della stessa dimensione di b\n",
    "- omega: il parametro di rilassamento\n",
    "- toll: tolleranza per il criterio di arresto\n",
    "- itmax: iterazioni massime oltre le quali il metodo si ferma\n",
    "\n",
    "Restituisce in output\n",
    "- la soluzione x\n",
    "- l'errore ad ogni iterazione calcolato come $||x^{(k)}-x^{(k-1)}||/||x^{(k)}||$\n",
    "\n",
    "Calcolare il raggio spettrale della matrice di iterazione.\n",
    "\n",
    "Implementare un criterio di arresto per il procedimento iterativo in termini di : $||x^{(k)}-x^{(k-1)}||/||x^{(k)}|| <toll$"
   ]
  },
  {
   "cell_type": "markdown",
   "id": "2d2d64d1-52ae-43c5-a76c-e869474b6496",
   "metadata": {},
   "source": [
    "## Esercizio 13\n",
    "Scrivere una funzione creaPoisson(n) che preso in input l'ordine della matrice quadrata di Poisson la costruzione secondo la seguente formula:\n",
    "$$A =\n",
    "\\left [\n",
    "\\begin{array}{ccccccccccc}\n",
    "4 & -1 & 0 & -1 &0 &0 & 0& 0& \\cdots &   0 & 0\\\\\n",
    "-1 & 4 & -1 & 0  &-1 &0 & 0& 0& \\cdots &   0 & 0\\\\\n",
    "0 & -1 & 4 & -1  &0 &-1 & 0& 0& \\cdots &   0 & 0 \\\\\n",
    "-1 & 0 & -1 & 4  &-1 &0  & -1 & 0& \\cdots &   0 & 0\\\\\n",
    "0 & -1 & 0 & -1  & 4 &-1 & 0 & -1& \\cdots &   0 & 0\\\\\n",
    "0 & 0 & -1 & 0  & -1 &4 & -1 & 0&  -1 & 0 & 0 \\\\\n",
    "0 & 0 & 0 & \\ddots  & 0 &\\ddots & \\ddots & \\ddots& \\ddots & \\ddots & 0\\\\\n",
    "0 & 0 & 0 & 0  & -1 &0  & -1 & 4& -1 &   0& -1\\\\\n",
    "\\end{array}\n",
    " \\right ], \\qquad\n",
    "$$\n",
    "- Risolvere il sistema lineare Ax=b con matrice dei coefficienti A di Poisson di ordine 10 e termine noto b scelto in maniera tale che il sistema abbia soluzione il vettore x con tutte le componenti  uguali ad 1, utilizzando  il metodo iterativo di Jacobi, Gauss-Seidel e Gauss-Seidel-Sor con parametro omega scelto tra 1 e 2 in maniera tale che il raggio spettrale della matrice di iterazione sia il più piccolo possibile e confrontare su un unico grafico l'andamento degli errori in scala logaritmica. Usare toll=1e-10."
   ]
  }
 ],
 "metadata": {
  "kernelspec": {
   "display_name": "Python 3 (ipykernel)",
   "language": "python",
   "name": "python3"
  },
  "language_info": {
   "codemirror_mode": {
    "name": "ipython",
    "version": 3
   },
   "file_extension": ".py",
   "mimetype": "text/x-python",
   "name": "python",
   "nbconvert_exporter": "python",
   "pygments_lexer": "ipython3",
   "version": "3.11.7"
  }
 },
 "nbformat": 4,
 "nbformat_minor": 5
}
